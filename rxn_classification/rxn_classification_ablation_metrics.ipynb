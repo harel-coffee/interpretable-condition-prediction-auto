{
 "cells": [
  {
   "cell_type": "code",
   "execution_count": 1,
   "id": "4bf83aa5",
   "metadata": {},
   "outputs": [],
   "source": [
    "%load_ext autoreload\n",
    "%autoreload 2\n",
    "from rxn_modeling import train\n",
    "import matplotlib.pyplot as plt\n",
    "import seaborn as sns\n",
    "import numpy as np\n",
    "import pandas as pd\n",
    "import json\n",
    "import pickle as pkl\n",
    "from sklearn.metrics import classification_report, precision_recall_fscore_support, f1_score, confusion_matrix\n",
    "from scipy.stats import gaussian_kde\n",
    "import matplotlib.cm as cm\n",
    "import time"
   ]
  },
  {
   "cell_type": "code",
   "execution_count": null,
   "id": "de6831de",
   "metadata": {},
   "outputs": [
    {
     "name": "stdout",
     "output_type": "stream",
     "text": [
      "3_class lr pca True False\n",
      "Returning extracted data of 26787/31782 reactions.\n",
      "After removing duplicates, remaining extracted data contains 10854/26787 reactions.\n",
      "Returning extracted data of 6854/9518 reactions.\n",
      "After removing duplicates, remaining extracted data contains 2972/6854 reactions.\n"
     ]
    },
    {
     "name": "stderr",
     "output_type": "stream",
     "text": [
      "No electronegativity for Hs. Setting to NaN. This has no physical meaning, and is mainly done to avoid errors caused by the code expecting a float.\n"
     ]
    },
    {
     "name": "stdout",
     "output_type": "stream",
     "text": [
      "Returning extracted data of 14116/35675 reactions.\n",
      "After removing duplicates, remaining extracted data contains 4752/14116 reactions.\n",
      "Shape of X: (17537, 0)\n",
      "Shape of precursor features: (17537, 515)\n",
      "Shape of y: (17537,)\n",
      "0.7941083306936967 0.01\n",
      "0.7944250871080138 0.1\n",
      "0.7950585999366487 0.01\n",
      "0.7931580614507443 0.01\n",
      "0.7953753563509661 0.01\n",
      "0.7925245486221096 0.01\n",
      "0.7956921127652835 0.01\n",
      "0.792841305036427 0.01\n",
      "0.8007602153943617 0.01\n",
      "0.7979094076655052 0.01\n",
      "3_class lr mp_fraction False True\n",
      "Returning extracted data of 26787/31782 reactions.\n",
      "After removing duplicates, remaining extracted data contains 14328/26787 reactions.\n",
      "Returning extracted data of 6854/9518 reactions.\n",
      "After removing duplicates, remaining extracted data contains 3364/6854 reactions.\n"
     ]
    },
    {
     "name": "stderr",
     "output_type": "stream",
     "text": [
      "No electronegativity for Hs. Setting to NaN. This has no physical meaning, and is mainly done to avoid errors caused by the code expecting a float.\n"
     ]
    },
    {
     "name": "stdout",
     "output_type": "stream",
     "text": [
      "Returning extracted data of 14116/35675 reactions.\n",
      "After removing duplicates, remaining extracted data contains 3087/14116 reactions.\n"
     ]
    },
    {
     "data": {
      "application/vnd.jupyter.widget-view+json": {
       "model_id": "1fdb5db933034c3d97982c5daa0d8a0f",
       "version_major": 2,
       "version_minor": 0
      },
      "text/plain": [
       "HBox(children=(HTML(value='StrToComposition'), FloatProgress(value=0.0, max=19511.0), HTML(value='')))"
      ]
     },
     "metadata": {},
     "output_type": "display_data"
    },
    {
     "name": "stdout",
     "output_type": "stream",
     "text": [
      "\n"
     ]
    },
    {
     "data": {
      "application/vnd.jupyter.widget-view+json": {
       "model_id": "37be66eb02184177a45338c272163db2",
       "version_major": 2,
       "version_minor": 0
      },
      "text/plain": [
       "HBox(children=(HTML(value='MultipleFeaturizer'), FloatProgress(value=0.0, max=19511.0), HTML(value='')))"
      ]
     },
     "metadata": {},
     "output_type": "display_data"
    },
    {
     "name": "stdout",
     "output_type": "stream",
     "text": [
      "\n",
      "Shape of X: (19511, 103)\n",
      "Shape of y: (19511,)\n",
      "0.590261958997722 0.01\n",
      "0.5837129840546698 0.01\n",
      "0.5936788154897494 0.01\n",
      "0.5908314350797267 0.01\n",
      "0.5925398633257403 0.1\n",
      "0.5899772209567198 0.01\n",
      "0.591116173120729 0.01\n",
      "0.5894077448747153 0.01\n",
      "0.592255125284738 0.01\n",
      "0.5746013667425968 0.01\n",
      "3_class lr mp_fraction True False\n"
     ]
    }
   ],
   "source": [
    "objectives = [\n",
    "    \"3_class\",\n",
    "    \"4_class\"\n",
    "]\n",
    "precursor_only = [False, True]\n",
    "target_only = [True, False]\n",
    "models = [\"lr\", \"xgb\", \"rf\", \"nn\"]\n",
    "featurizations=[\"pca\", \"mp_fraction\"]\n",
    "\n",
    "start = time.time()\n",
    "\n",
    "results = []\n",
    "for objective in objectives:\n",
    "    for model in models:\n",
    "        for featurization in featurizations:\n",
    "            for prec_only, tar_only in zip(precursor_only, target_only):\n",
    "                if tar_only and featurization == \"pca\":\n",
    "                    continue\n",
    "                print(objective, model, featurization, prec_only, tar_only)\n",
    "                best_params, best_estimators, y_pred_train, y_pred_test, X_train_k, X_test_k, y_train_k, y_test_k = train(model=model, objective=objective, featurization=featurization, precursor_only=prec_only, target_only=tar_only)\n",
    "\n",
    "                precision_scores, recall_scores, f1_scores = [], [], []\n",
    "                for i, j in zip(y_test_k, y_pred_test):\n",
    "                    res = precision_recall_fscore_support(i, j, average='macro')\n",
    "                    precision_scores.append(res[0])\n",
    "                    recall_scores.append(res[1])\n",
    "                    f1_scores.append(res[2])\n",
    "\n",
    "                result = {\n",
    "                    \"objective\": objective,\n",
    "                    \"model\": model,\n",
    "                    \"precursor_only\": str(prec_only),\n",
    "                    \"target_only\": str(tar_only),\n",
    "                    \"featurization\": featurization,\n",
    "                    \"precision\": str(np.mean(precision_scores)),\n",
    "                    \"precision_std\": str(np.std(precision_scores)),\n",
    "                    \"recall\": str(np.mean(recall_scores)),\n",
    "                    \"recall_std\": str(np.std(recall_scores)),\n",
    "                    \"f1_score\": str(np.mean(f1_scores)),\n",
    "                    \"f1_score_std\": str(np.std(f1_scores)),\n",
    "                }\n",
    "                results.append(result)\n",
    "                with open('data/rxn_condition_log_ablation_micro.json', 'w') as f:\n",
    "                    json.dump(results, f, indent=4)\n",
    "                with open('data/time_log.txt', 'a') as f:\n",
    "                    f.writelines(str((time.time() - start)/60) + \"\\n\")"
   ]
  },
  {
   "cell_type": "code",
   "execution_count": null,
   "id": "468fc98b",
   "metadata": {},
   "outputs": [],
   "source": []
  }
 ],
 "metadata": {
  "kernelspec": {
   "display_name": "chris",
   "language": "python",
   "name": "chris"
  },
  "language_info": {
   "codemirror_mode": {
    "name": "ipython",
    "version": 3
   },
   "file_extension": ".py",
   "mimetype": "text/x-python",
   "name": "python",
   "nbconvert_exporter": "python",
   "pygments_lexer": "ipython3",
   "version": "3.7.3"
  }
 },
 "nbformat": 4,
 "nbformat_minor": 5
}
