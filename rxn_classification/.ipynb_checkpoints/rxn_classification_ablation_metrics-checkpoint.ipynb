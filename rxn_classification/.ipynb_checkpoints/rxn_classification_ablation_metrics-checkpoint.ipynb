{
 "cells": [
  {
   "cell_type": "code",
   "execution_count": 1,
   "id": "4bf83aa5",
   "metadata": {},
   "outputs": [],
   "source": [
    "%load_ext autoreload\n",
    "%autoreload 2\n",
    "from rxn_modeling import train\n",
    "import matplotlib.pyplot as plt\n",
    "import seaborn as sns\n",
    "import numpy as np\n",
    "import pandas as pd\n",
    "import json\n",
    "import pickle as pkl\n",
    "from sklearn.metrics import classification_report, precision_recall_fscore_support, f1_score, confusion_matrix\n",
    "from scipy.stats import gaussian_kde\n",
    "import matplotlib.cm as cm\n",
    "import time"
   ]
  },
  {
   "cell_type": "code",
   "execution_count": 3,
   "id": "de6831de",
   "metadata": {},
   "outputs": [
    {
     "name": "stdout",
     "output_type": "stream",
     "text": [
      "Returning extracted data of 26787/31782 reactions.\n",
      "After removing duplicates, remaining extracted data contains 16010/26787 reactions.\n",
      "Returning extracted data of 6854/9518 reactions.\n",
      "After removing duplicates, remaining extracted data contains 4146/6854 reactions.\n"
     ]
    },
    {
     "name": "stderr",
     "output_type": "stream",
     "text": [
      "No electronegativity for Hs. Setting to NaN. This has no physical meaning, and is mainly done to avoid errors caused by the code expecting a float.\n"
     ]
    },
    {
     "name": "stdout",
     "output_type": "stream",
     "text": [
      "Returning extracted data of 14116/35675 reactions.\n",
      "After removing duplicates, remaining extracted data contains 5686/14116 reactions.\n",
      "Shape of X: (23825, 0)\n",
      "Shape of y: (23825,)\n",
      "0.6304966387140937 100\n",
      "0.6249264762707883 1\n",
      "0.6240805596224523 1\n",
      "0.6269927940468696 100\n",
      "0.6286255555871273 1\n",
      "0.6282745579147379 10\n",
      "0.626146742186594 1\n",
      "0.6296268491825445 1\n",
      "0.6178275830782571 100\n",
      "0.6451052677878897 0.1\n"
     ]
    }
   ],
   "source": [
    "objectives = [\n",
    "    \"3_class\",\n",
    "    \"4_class\"\n",
    "]\n",
    "\n",
    "models = [\"lr\"]\n",
    "featurizations=[\"pca\", \"mp\"]\n",
    "\n",
    "start = time.time()\n",
    "\n",
    "results = []\n",
    "for objective in objectives:\n",
    "    for model in models:\n",
    "        for featurization in featurizations:\n",
    "            best_params, best_estimators, y_pred_train, y_pred_test, X_train_k, X_test_k, y_train_k, y_test_k = train(model=model, objective=objective, featurization=featurization, precursor_only=True)\n",
    "            \n",
    "            precision_scores, recall_scores, f1_scores = [], [], []\n",
    "            for i, j in zip(y_test_k, y_pred_test):\n",
    "                res = precision_recall_fscore_support(i, j, average='macro')\n",
    "                precision_scores.append(res[0])\n",
    "                recall_scores.append(res[1])\n",
    "                f1_scores.append(res[2])\n",
    "\n",
    "            result = {\n",
    "                \"objective\": objective,\n",
    "                \"model\": model,\n",
    "                \"featurization\": featurization,\n",
    "                \"precision\": str(np.mean(precision_scores)),\n",
    "                \"precision_std\": str(np.std(precision_scores)),\n",
    "                \"recall\": str(np.mean(recall_scores)),\n",
    "                \"recall_std\": str(np.std(recall_scores)),\n",
    "                \"f1_score\": str(np.mean(f1_scores)),\n",
    "                \"f1_score_std\": str(np.std(f1_scores)),\n",
    "            }\n",
    "            results.append(result)\n",
    "            with open('data/rxn_condition_log_ablation.json', 'w') as f:\n",
    "                json.dump(results, f, indent=4)\n",
    "            with open('data/time_log.txt', 'a') as f:\n",
    "                f.writelines(str((time.time() - start)/60) + \"\\n\")"
   ]
  },
  {
   "cell_type": "code",
   "execution_count": 4,
   "id": "256f8e4c",
   "metadata": {},
   "outputs": [
    {
     "data": {
      "text/plain": [
       "[0.6350270645791085,\n",
       " 0.6242842095287398,\n",
       " 0.6248921383344961,\n",
       " 0.6358710601490152,\n",
       " 0.6089847490217265,\n",
       " 0.6130083986445518,\n",
       " 0.6402092229746917,\n",
       " 0.6278322002945638,\n",
       " 0.6492649102817952,\n",
       " 0.6034233583831448]"
      ]
     },
     "execution_count": 4,
     "metadata": {},
     "output_type": "execute_result"
    }
   ],
   "source": [
    "f1_scores"
   ]
  },
  {
   "cell_type": "code",
   "execution_count": null,
   "id": "70c83c4d",
   "metadata": {},
   "outputs": [],
   "source": []
  }
 ],
 "metadata": {
  "kernelspec": {
   "display_name": "chris",
   "language": "python",
   "name": "chris"
  },
  "language_info": {
   "codemirror_mode": {
    "name": "ipython",
    "version": 3
   },
   "file_extension": ".py",
   "mimetype": "text/x-python",
   "name": "python",
   "nbconvert_exporter": "python",
   "pygments_lexer": "ipython3",
   "version": "3.7.3"
  }
 },
 "nbformat": 4,
 "nbformat_minor": 5
}
