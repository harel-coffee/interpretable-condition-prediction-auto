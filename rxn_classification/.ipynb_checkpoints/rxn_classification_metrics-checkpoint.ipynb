{
 "cells": [
  {
   "cell_type": "code",
   "execution_count": 7,
   "id": "1cc85e4b",
   "metadata": {},
   "outputs": [
    {
     "name": "stdout",
     "output_type": "stream",
     "text": [
      "The autoreload extension is already loaded. To reload it, use:\n",
      "  %reload_ext autoreload\n"
     ]
    }
   ],
   "source": [
    "%load_ext autoreload\n",
    "%autoreload 2\n",
    "from rxn_modeling import train\n",
    "import matplotlib.pyplot as plt\n",
    "import seaborn as sns\n",
    "import numpy as np\n",
    "import pandas as pd\n",
    "import json\n",
    "import pickle as pkl\n",
    "from sklearn.metrics import classification_report, precision_recall_fscore_support, f1_score, confusion_matrix\n",
    "from scipy.stats import gaussian_kde\n",
    "import matplotlib.cm as cm\n",
    "import time"
   ]
  },
  {
   "cell_type": "code",
   "execution_count": null,
   "id": "5fdf32ce",
   "metadata": {},
   "outputs": [
    {
     "name": "stdout",
     "output_type": "stream",
     "text": [
      "Returning extracted data of 26787/31782 reactions.\n",
      "After removing duplicates, remaining extracted data contains 16010/26787 reactions.\n",
      "Returning extracted data of 6854/9518 reactions.\n",
      "After removing duplicates, remaining extracted data contains 4146/6854 reactions.\n",
      "Returning extracted data of 14116/35675 reactions.\n",
      "After removing duplicates, remaining extracted data contains 5686/14116 reactions.\n"
     ]
    },
    {
     "data": {
      "application/vnd.jupyter.widget-view+json": {
       "model_id": "aabce8fc9324443183b3d95788ff596f",
       "version_major": 2,
       "version_minor": 0
      },
      "text/plain": [
       "HBox(children=(HTML(value='StrToComposition'), FloatProgress(value=0.0, max=25428.0), HTML(value='')))"
      ]
     },
     "metadata": {},
     "output_type": "display_data"
    },
    {
     "name": "stdout",
     "output_type": "stream",
     "text": [
      "\n"
     ]
    },
    {
     "data": {
      "application/vnd.jupyter.widget-view+json": {
       "model_id": "242d3562a64f4f9f82dbb5da663bd1ac",
       "version_major": 2,
       "version_minor": 0
      },
      "text/plain": [
       "HBox(children=(HTML(value='MultipleFeaturizer'), FloatProgress(value=0.0, max=25428.0), HTML(value='')))"
      ]
     },
     "metadata": {},
     "output_type": "display_data"
    },
    {
     "name": "stdout",
     "output_type": "stream",
     "text": [
      "\n",
      "Shape of X: (25082, 103)\n",
      "Shape of y: (25082,)\n",
      "  0%|          | 0/1 [00:00<?, ?trial/s, best loss=?]"
     ]
    },
    {
     "name": "stderr",
     "output_type": "stream",
     "text": [
      "The use of label encoder in XGBClassifier is deprecated and will be removed in a future release. To remove this warning, do the following: 1) Pass option use_label_encoder=False when constructing XGBClassifier object; and 2) Encode your labels (y) as integers starting with 0, i.e. 0, 1, 2, ..., [num_class - 1].\n",
      "\n"
     ]
    },
    {
     "name": "stdout",
     "output_type": "stream",
     "text": [
      "100%|██████████| 1/1 [00:01<00:00,  1.91s/trial, best loss: -0.49445212371223163]\n",
      "100%|██████████| 1/1 [00:01<00:00,  1.84s/trial, best loss: -0.5173460962797152]\n",
      "100%|██████████| 1/1 [00:06<00:00,  6.03s/trial, best loss: -0.5164381912016918]\n",
      "100%|██████████| 1/1 [00:00<00:00,  1.36trial/s, best loss: -0.46354397590190766]\n",
      "100%|██████████| 1/1 [00:14<00:00, 14.84s/trial, best loss: -0.5252904056213733]\n",
      "100%|██████████| 1/1 [00:11<00:00, 11.11s/trial, best loss: -0.5335321506408853]\n",
      "100%|██████████| 1/1 [00:01<00:00,  1.85s/trial, best loss: -0.48487011578348393]\n",
      "100%|██████████| 1/1 [00:11<00:00, 11.32s/trial, best loss: -0.5457121547878897]\n",
      "100%|██████████| 1/1 [00:13<00:00, 13.36s/trial, best loss: -0.532145396422969]\n",
      "100%|██████████| 1/1 [00:01<00:00,  1.34s/trial, best loss: -0.49671527503639207]\n",
      "Returning extracted data of 26787/31782 reactions.\n",
      "After removing duplicates, remaining extracted data contains 16010/26787 reactions.\n",
      "Returning extracted data of 6854/9518 reactions.\n",
      "After removing duplicates, remaining extracted data contains 4146/6854 reactions.\n"
     ]
    },
    {
     "name": "stderr",
     "output_type": "stream",
     "text": [
      "No electronegativity for Hs. Setting to NaN. This has no physical meaning, and is mainly done to avoid errors caused by the code expecting a float.\n"
     ]
    },
    {
     "name": "stdout",
     "output_type": "stream",
     "text": [
      "Returning extracted data of 14116/35675 reactions.\n",
      "After removing duplicates, remaining extracted data contains 5686/14116 reactions.\n"
     ]
    },
    {
     "data": {
      "application/vnd.jupyter.widget-view+json": {
       "model_id": "aee413f15e884b268fa387e5789b7085",
       "version_major": 2,
       "version_minor": 0
      },
      "text/plain": [
       "HBox(children=(HTML(value='StrToComposition'), FloatProgress(value=0.0, max=25428.0), HTML(value='')))"
      ]
     },
     "metadata": {},
     "output_type": "display_data"
    },
    {
     "name": "stdout",
     "output_type": "stream",
     "text": [
      "\n"
     ]
    },
    {
     "data": {
      "application/vnd.jupyter.widget-view+json": {
       "model_id": "e66c565d15204256b967a9740d3c63fc",
       "version_major": 2,
       "version_minor": 0
      },
      "text/plain": [
       "HBox(children=(HTML(value='MultipleFeaturizer'), FloatProgress(value=0.0, max=25428.0), HTML(value='')))"
      ]
     },
     "metadata": {},
     "output_type": "display_data"
    },
    {
     "name": "stdout",
     "output_type": "stream",
     "text": [
      "\n",
      "Shape of X: (25082, 103)\n",
      "Shape of y: (25082,)\n",
      "0.4312976111723721 0.01\n",
      "0.44096737589520274 0.01\n",
      "0.43527295345482103 100\n",
      "0.42657667716975606 0.01\n",
      "0.43889690031324746 0.01\n",
      "0.4349505318190522 0.01\n",
      "0.4254436444109646 0.01\n",
      "0.43044585980823047 0.01\n",
      "0.4199668569609904 0.01\n",
      "0.43003026651313037 0.01\n",
      "Returning extracted data of 26787/31782 reactions.\n",
      "After removing duplicates, remaining extracted data contains 16010/26787 reactions.\n",
      "Returning extracted data of 6854/9518 reactions.\n",
      "After removing duplicates, remaining extracted data contains 4146/6854 reactions.\n"
     ]
    },
    {
     "name": "stderr",
     "output_type": "stream",
     "text": [
      "No electronegativity for Hs. Setting to NaN. This has no physical meaning, and is mainly done to avoid errors caused by the code expecting a float.\n"
     ]
    },
    {
     "name": "stdout",
     "output_type": "stream",
     "text": [
      "Returning extracted data of 14116/35675 reactions.\n"
     ]
    }
   ],
   "source": [
    "objectives = [\n",
    "    \"4_class\",\n",
    "    \"3_class\"\n",
    "]\n",
    "models = [\"xgb\", \"lr\", \"rf\", \"nn\"]\n",
    "# featurizations = [\"mp_fraction\", \"pca\"]\n",
    "featurizations = [\"pca\"]\n",
    "\n",
    "start = time.time()\n",
    "\n",
    "results = []\n",
    "for objective in objectives:\n",
    "    for model in models:\n",
    "        for featurization in featurizations:\n",
    "            best_params, best_estimators, y_pred_train, y_pred_test, X_train_k, X_test_k, y_train_k, y_test_k = train(model=model, objective=objective, featurization=featurization)\n",
    "            \n",
    "            precision_scores, recall_scores, f1_scores = [], [], []\n",
    "            for i, j in zip(y_test_k, y_pred_test):\n",
    "                res = precision_recall_fscore_support(i, j, average='macro')\n",
    "                precision_scores.append(res[0])\n",
    "                recall_scores.append(res[1])\n",
    "                f1_scores.append(res[2])\n",
    "\n",
    "            result = {\n",
    "                \"objective\": objective,\n",
    "                \"model\": model,\n",
    "                \"featurization\": featurization,\n",
    "                \"precision\": str(np.mean(precision_scores)),\n",
    "                \"precision_std\": str(np.std(precision_scores)),\n",
    "                \"recall\": str(np.mean(recall_scores)),\n",
    "                \"recall_std\": str(np.std(recall_scores)),\n",
    "                \"f1_score\": str(np.mean(f1_scores)),\n",
    "                \"f1_score_std\": str(np.std(f1_scores)),\n",
    "            }\n",
    "            results.append(result)\n",
    "            with open('data/rxn_condition_log.json', 'w') as f:\n",
    "                json.dump(results, f, indent=4)\n",
    "            with open('data/time_log.txt', 'a') as f:\n",
    "                f.writelines(str((time.time() - start)/60) + \"\\n\")"
   ]
  },
  {
   "cell_type": "code",
   "execution_count": null,
   "id": "edb8b246",
   "metadata": {},
   "outputs": [],
   "source": []
  }
 ],
 "metadata": {
  "kernelspec": {
   "display_name": "chris",
   "language": "python",
   "name": "chris"
  }
 },
 "nbformat": 4,
 "nbformat_minor": 5
}
