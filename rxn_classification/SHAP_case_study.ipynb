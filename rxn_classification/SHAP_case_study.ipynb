{
 "cells": [
  {
   "cell_type": "code",
   "execution_count": 1,
   "id": "052c3d84",
   "metadata": {},
   "outputs": [],
   "source": [
    "%load_ext autoreload\n",
    "%autoreload 2"
   ]
  },
  {
   "cell_type": "code",
   "execution_count": 2,
   "id": "56546fff",
   "metadata": {},
   "outputs": [],
   "source": [
    "import sys, os\n",
    "sys.path.append('..')\n",
    "import pickle as pkl\n",
    "from data_extraction_rxn_classification import *\n",
    "from data_featurization import *\n",
    "import json\n",
    "import pandas as pd\n",
    "import numpy as np\n",
    "from sklearn.ensemble import RandomForestClassifier\n",
    "from sklearn.model_selection import cross_validate, cross_val_score, train_test_split, cross_val_predict, GridSearchCV, ShuffleSplit, KFold\n",
    "from sklearn.utils import shuffle, class_weight\n",
    "from sklearn.metrics import classification_report, precision_recall_fscore_support, f1_score, confusion_matrix\n",
    "from sklearn.preprocessing import StandardScaler\n",
    "from pymatgen import Composition\n",
    "import pprint as pp\n",
    "from sklearn.dummy import DummyClassifier\n",
    "from sklearn.decomposition import PCA\n",
    "import matplotlib.pyplot as plt\n",
    "import seaborn as sns\n",
    "from sklearn.linear_model import LogisticRegression\n",
    "from collections import Counter\n",
    "from xgboost import XGBClassifier\n",
    "import shap\n",
    "import time\n",
    "import copy\n",
    "from hyperopt import fmin, tpe, hp, STATUS_OK\n",
    "from scipy.spatial.distance import cosine"
   ]
  },
  {
   "cell_type": "code",
   "execution_count": 3,
   "id": "78c880ab",
   "metadata": {},
   "outputs": [],
   "source": [
    "all_elements = [Element.from_Z(i).symbol for i in range(1, 119)]"
   ]
  },
  {
   "cell_type": "code",
   "execution_count": 4,
   "id": "f099d567",
   "metadata": {},
   "outputs": [
    {
     "name": "stdout",
     "output_type": "stream",
     "text": [
      "Returning extracted data of 26787/31782 reactions.\n",
      "After removing duplicates, remaining extracted data contains 16010/26787 reactions.\n"
     ]
    }
   ],
   "source": [
    "with open('../data/solid-state_dataset_20200713.json') as f:\n",
    "    ss_data= json.load(f)\n",
    "ss_reactions = ss_data[\"reactions\"]\n",
    "ss_extracted, ss_precursor_nomenclature = extract_solidstate(ss_reactions)\n",
    "ss_no_duplicates = remove_duplicates(ss_extracted)"
   ]
  },
  {
   "cell_type": "code",
   "execution_count": 5,
   "id": "3651ff68",
   "metadata": {},
   "outputs": [
    {
     "name": "stdout",
     "output_type": "stream",
     "text": [
      "Returning extracted data of 6854/9518 reactions.\n",
      "After removing duplicates, remaining extracted data contains 4146/6854 reactions.\n"
     ]
    }
   ],
   "source": [
    "with open('../data/sol-gel_dataset_20200713.json') as f:\n",
    "    sg_data= json.load(f)\n",
    "sg_reactions = sg_data[\"reactions\"]\n",
    "sg_extracted, sg_precursor_nomenclature = extract_solgel(sg_reactions)\n",
    "sg_no_duplicates = remove_duplicates(sg_extracted)"
   ]
  },
  {
   "cell_type": "code",
   "execution_count": 6,
   "id": "a297ea10",
   "metadata": {},
   "outputs": [
    {
     "name": "stderr",
     "output_type": "stream",
     "text": [
      "No electronegativity for Hs. Setting to NaN. This has no physical meaning, and is mainly done to avoid errors caused by the code expecting a float.\n"
     ]
    },
    {
     "name": "stdout",
     "output_type": "stream",
     "text": [
      "Returning extracted data of 14116/35675 reactions.\n",
      "After removing duplicates, remaining extracted data contains 5686/14116 reactions.\n"
     ]
    }
   ],
   "source": [
    "with open('../data/solution-synthesis_dataset_2021-8-5.json') as f:\n",
    "    sol_data= json.load(f)\n",
    "sol_extracted, sol_precursor_nomenclature = extract_solution(sol_data)\n",
    "sol_no_duplicates = remove_duplicates(sol_extracted, solution=True)"
   ]
  },
  {
   "cell_type": "markdown",
   "id": "54a99235",
   "metadata": {},
   "source": [
    "# Remove or deal with all reactions that take place in more than one category"
   ]
  },
  {
   "cell_type": "code",
   "execution_count": 7,
   "id": "f389ebad",
   "metadata": {},
   "outputs": [],
   "source": [
    "all_three = []\n",
    "ss_sg = []\n",
    "sol_sg = []\n",
    "for sg_rxn in sg_no_duplicates:\n",
    "    found_ss_rxn = None\n",
    "    found_sol_rxn = None\n",
    "    for ss_rxn in ss_no_duplicates:\n",
    "        if sg_rxn['target'] == ss_rxn['target'] and set(sg_rxn['precursors']) == set(ss_rxn['precursors']):\n",
    "            found_ss_rxn = ss_rxn\n",
    "            break\n",
    "    for sol_rxn in sol_no_duplicates:\n",
    "        if sg_rxn['target'] == sol_rxn['target'] and set(sg_rxn['precursors']) == set(sol_rxn['precursors']):\n",
    "            found_sol_rxn = sol_rxn\n",
    "            break\n",
    "    # count prec/hyd dois\n",
    "    if found_sol_rxn:\n",
    "        prec_dois = []\n",
    "        hyd_dois = []\n",
    "        for i in range(len(sol_rxn['type'])):\n",
    "            if sol_rxn['type'][i] == 'precipitation':\n",
    "                prec_dois.append(sol_rxn['DOIs'][i])\n",
    "            else:\n",
    "                hyd_dois.append(sol_rxn['DOIs'][i])\n",
    "    if found_ss_rxn and found_sol_rxn:\n",
    "\n",
    "        all_three.append({\n",
    "        'target': sg_rxn['target'],\n",
    "        'precursors': sg_rxn['precursors'],\n",
    "        'ss_dois': ss_rxn['DOIs'],\n",
    "        'sg_dois': sg_rxn['DOIs'],\n",
    "        'sol_dois': sol_rxn['DOIs'],\n",
    "        'prec_dois': prec_dois,\n",
    "        'hyd_dois': hyd_dois,\n",
    "        'type': sol_rxn['type']\n",
    "    })\n",
    "    elif found_ss_rxn:\n",
    "        ss_sg.append({\n",
    "            'target': sg_rxn['target'],\n",
    "            'precursors': sg_rxn['precursors'],\n",
    "            'ss_dois': ss_rxn['DOIs'],\n",
    "            'sg_dois': sg_rxn['DOIs'],\n",
    "            'sol_dois': []\n",
    "        })\n",
    "    elif found_sol_rxn:\n",
    "        sol_sg.append({\n",
    "        'target': sg_rxn['target'],\n",
    "        'precursors': sg_rxn['precursors'],\n",
    "        'ss_dois': [],\n",
    "        'sg_dois': sg_rxn['DOIs'],\n",
    "        'sol_dois': sol_rxn['DOIs'],\n",
    "        'prec_dois': prec_dois,\n",
    "        'hyd_dois': hyd_dois,\n",
    "        'type': sol_rxn['type']\n",
    "        })"
   ]
  },
  {
   "cell_type": "code",
   "execution_count": 8,
   "id": "85c11efe",
   "metadata": {},
   "outputs": [],
   "source": [
    "ss_sol = []\n",
    "for ss_rxn in ss_no_duplicates:\n",
    "    found_sg_rxn = None\n",
    "    found_sol_rxn = None\n",
    "    for sg_rxn in sg_no_duplicates:\n",
    "        if sg_rxn['target'] == ss_rxn['target'] and set(sg_rxn['precursors']) == set(ss_rxn['precursors']):\n",
    "            found_sg_rxn = sg_rxn\n",
    "            break\n",
    "    for sol_rxn in sol_no_duplicates:\n",
    "        if sg_rxn['target'] == sol_rxn['target'] and set(sg_rxn['precursors']) == set(sol_rxn['precursors']):\n",
    "            found_sol_rxn = sol_rxn\n",
    "            break\n",
    "    # count prec/hyd dois\n",
    "    if found_sol_rxn:\n",
    "        prec_dois = []\n",
    "        hyd_dois = []\n",
    "        for i in range(len(sol_rxn['type'])):\n",
    "            if sol_rxn['type'][i] == 'precipitation':\n",
    "                prec_dois.append(sol_rxn['DOIs'][i])\n",
    "            else:\n",
    "                hyd_dois.append(sol_rxn['DOIs'][i])\n",
    "    if found_sg_rxn and found_sol_rxn:\n",
    "        continue\n",
    "    elif found_sg_rxn:\n",
    "        continue\n",
    "    elif found_sol_rxn:\n",
    "        ss_sol.append({\n",
    "        'target': ss_rxn['target'],\n",
    "        'precursors': ss_rxn['precursors'],\n",
    "        'ss_dois': ss_rxn['DOIs'],\n",
    "        'sg_dois': [],\n",
    "        'sol_dois': sol_rxn['DOIs'],\n",
    "        'prec_dois': prec_dois,\n",
    "        'hyd_dois': hyd_dois,\n",
    "        'type': sol_rxn['type']\n",
    "        })"
   ]
  },
  {
   "cell_type": "code",
   "execution_count": 9,
   "id": "624c7834",
   "metadata": {},
   "outputs": [
    {
     "name": "stdout",
     "output_type": "stream",
     "text": [
      "0 140 212 31\n"
     ]
    }
   ],
   "source": [
    "print(len(ss_sol), len(ss_sg), len(sol_sg), len(all_three))"
   ]
  },
  {
   "cell_type": "code",
   "execution_count": 10,
   "id": "3f7b9c90",
   "metadata": {},
   "outputs": [],
   "source": [
    "only_sg_rxns = []\n",
    "only_ss_rxns = []\n",
    "only_sol_rxns = []\n",
    "for sg_rxn in sg_no_duplicates:\n",
    "    found = False\n",
    "    for dup_rxn in ss_sg + all_three + sol_sg:\n",
    "        if sg_rxn['target'] == dup_rxn['target'] and set(sg_rxn['precursors']) == set(dup_rxn['precursors']):\n",
    "            found = True\n",
    "    if not found:\n",
    "        only_sg_rxns.append(sg_rxn)\n",
    "    \n",
    "for ss_rxn in ss_no_duplicates:\n",
    "    found = False\n",
    "    for dup_rxn in ss_sg + all_three + ss_sol:\n",
    "        if ss_rxn['target'] == dup_rxn['target'] and set(ss_rxn['precursors']) == set(dup_rxn['precursors']):\n",
    "            found = True\n",
    "    if not found:\n",
    "        only_ss_rxns.append(ss_rxn)\n",
    "for sol_rxn in sol_no_duplicates:\n",
    "    found = False\n",
    "    for dup_rxn in sol_sg + all_three + ss_sol:\n",
    "        if sol_rxn['target'] == dup_rxn['target'] and set(sol_rxn['precursors']) == set(dup_rxn['precursors']):\n",
    "            found = True\n",
    "    if not found:\n",
    "        only_sol_rxns.append(sol_rxn)"
   ]
  },
  {
   "cell_type": "code",
   "execution_count": 11,
   "id": "4e729590",
   "metadata": {},
   "outputs": [
    {
     "name": "stdout",
     "output_type": "stream",
     "text": [
      "4146 16010 5686\n",
      "3763 15839 5443\n"
     ]
    }
   ],
   "source": [
    "print(len(sg_no_duplicates), len(ss_no_duplicates), len(sol_no_duplicates))\n",
    "print(len(only_sg_rxns), len(only_ss_rxns), len(only_sol_rxns))"
   ]
  },
  {
   "cell_type": "code",
   "execution_count": 12,
   "id": "76e3fa49",
   "metadata": {},
   "outputs": [],
   "source": [
    "only_prec_rxns = []\n",
    "only_hyd_rxns = []\n",
    "for rxn in only_sol_rxns:\n",
    "    ct = Counter(rxn['type'])\n",
    "    if ct['precipitation'] <= ct['hydrothermal']:\n",
    "        only_hyd_rxns.append(rxn)\n",
    "    else:\n",
    "        only_prec_rxns.append(rxn)"
   ]
  },
  {
   "cell_type": "code",
   "execution_count": 13,
   "id": "35897e2f",
   "metadata": {},
   "outputs": [
    {
     "name": "stdout",
     "output_type": "stream",
     "text": [
      "3324 2119\n"
     ]
    }
   ],
   "source": [
    "print(len(only_hyd_rxns), len(only_prec_rxns))"
   ]
  },
  {
   "cell_type": "code",
   "execution_count": 14,
   "id": "dd6e860d",
   "metadata": {},
   "outputs": [],
   "source": [
    "# allocate ambiguous rxns based on doi presence\n",
    "for rxn in ss_sg:\n",
    "    if len(rxn['sg_dois']) > len(rxn['ss_dois']):\n",
    "        only_sg_rxns.append(rxn)\n",
    "    else:\n",
    "        only_ss_rxns.append(rxn)\n",
    "for rxn in sol_sg:\n",
    "    if len(rxn['sol_dois']) > len(rxn['sg_dois']):\n",
    "        ct = Counter(rxn['type'])\n",
    "        if ct['precipitation'] <= ct['hydrothermal']:\n",
    "            only_hyd_rxns.append(rxn)\n",
    "        else:\n",
    "            only_prec_rxns.append(rxn)\n",
    "    else:\n",
    "        only_sg_rxns.append(rxn)\n",
    "for rxn in all_three:\n",
    "    if len(rxn['ss_dois']) >= len(rxn['sg_dois']) and len(rxn['ss_dois']) >= len(rxn['sol_dois']):\n",
    "        only_ss_rxns.append(rxn)\n",
    "    elif len(rxn['sg_dois']) >= len(rxn['ss_dois']) and len(rxn['sg_dois']) >= len(rxn['sol_dois']):\n",
    "        only_sg_rxns.append(rxn)\n",
    "    else:\n",
    "        ct = Counter(rxn['type'])\n",
    "        if ct['precipitation'] <= ct['hydrothermal']:\n",
    "            only_hyd_rxns.append(rxn)\n",
    "        else:\n",
    "            only_prec_rxns.append(rxn)"
   ]
  },
  {
   "cell_type": "code",
   "execution_count": 15,
   "id": "c5c39b1b",
   "metadata": {},
   "outputs": [],
   "source": [
    "# change precursor functional groups back\n",
    "for rxn in only_ss_rxns:\n",
    "    for i in range(len(rxn['precursors'])):\n",
    "        rxn['precursors'][i] = ss_precursor_nomenclature[Composition(rxn['precursors'][i])]\n",
    "for rxn in only_sg_rxns:\n",
    "    for i in range(len(rxn['precursors'])):\n",
    "        rxn['precursors'][i] = sg_precursor_nomenclature[Composition(rxn['precursors'][i])]\n",
    "for rxn in only_hyd_rxns:\n",
    "    for i in range(len(rxn['precursors'])):\n",
    "        rxn['precursors'][i] = sol_precursor_nomenclature[Composition(rxn['precursors'][i])]\n",
    "for rxn in only_prec_rxns:\n",
    "    for i in range(len(rxn['precursors'])):\n",
    "        rxn['precursors'][i] = sol_precursor_nomenclature[Composition(rxn['precursors'][i])]"
   ]
  },
  {
   "cell_type": "code",
   "execution_count": 16,
   "id": "33857f05",
   "metadata": {},
   "outputs": [],
   "source": [
    "# Onehot precursor functional groups"
   ]
  },
  {
   "cell_type": "code",
   "execution_count": 17,
   "id": "eab5845e",
   "metadata": {},
   "outputs": [],
   "source": [
    "m_anions = ['H2PO4', 'HPO4', 'HCO3', 'HSO4', 'HSO3', 'C2O4']\n",
    "d_anions = ['CO3', 'PO4', 'PO3', 'OH', 'NH4', 'NO3', 'NO2', 'SO4', 'SO3', 'CN'] #BO3, VO4, NH2\n",
    "s_anions = ['F', 'B', 'P', 'Cl', 'F', 'Br', 'S', 'N', 'O', 'C']\n",
    "ions = m_anions + d_anions + s_anions + ['Org'] + ['Ac'] + ['Elem'] + ['Other']"
   ]
  },
  {
   "cell_type": "code",
   "execution_count": 18,
   "id": "1a5d85e2",
   "metadata": {},
   "outputs": [
    {
     "data": {
      "text/plain": [
       "30"
      ]
     },
     "execution_count": 18,
     "metadata": {},
     "output_type": "execute_result"
    }
   ],
   "source": [
    "len(ions)"
   ]
  },
  {
   "cell_type": "code",
   "execution_count": 19,
   "id": "755d22fd",
   "metadata": {},
   "outputs": [],
   "source": [
    "ss_anion_dict = {x: [] for x in ions}\n",
    "for rxn in only_ss_rxns:\n",
    "    anion_dict = {x: [] for x in ions}\n",
    "    for prec in rxn['precursors']:\n",
    "        found = False\n",
    "        # check acetate first\n",
    "        if 'CH3COO' in prec:\n",
    "            anion_dict['Ac'].append(prec)\n",
    "            found = True\n",
    "        # check organic\n",
    "        elif all(Element(x) in Composition(prec).elements for x in ['C', 'H', 'O']) and Element('N') not in Composition(prec).elements:\n",
    "            anion_dict['Org'].append(prec)\n",
    "            found = True\n",
    "        else:\n",
    "            for anion in ions:\n",
    "                # special check for elemental anions\n",
    "                if (anion in all_elements and Element(anion) in Composition(prec).elements) or (anion not in all_elements and anion in prec):\n",
    "                    anion_dict[anion].append(prec)\n",
    "                    found = True\n",
    "                    break\n",
    "        if not found:\n",
    "            # check if precursor is elemental\n",
    "            if prec in all_elements:\n",
    "                anion_dict['Elem'].append(prec)\n",
    "            else:\n",
    "                anion_dict['Other'].append(prec)\n",
    "    # create fractional embedding\n",
    "    for key in anion_dict:\n",
    "        ss_anion_dict[key].append(len(anion_dict[key]) / len(rxn['precursors']))\n",
    "        "
   ]
  },
  {
   "cell_type": "code",
   "execution_count": 20,
   "id": "d39f7575",
   "metadata": {},
   "outputs": [],
   "source": [
    "sg_anion_dict = {x: [] for x in ions}\n",
    "for rxn in only_sg_rxns:\n",
    "    anion_dict = {x: [] for x in ions}\n",
    "    for prec in rxn['precursors']:\n",
    "        found = False\n",
    "        # check acetate first\n",
    "        if 'CH3COO' in prec:\n",
    "            anion_dict['Ac'].append(prec)\n",
    "            found = True\n",
    "        # check organic\n",
    "        elif all(Element(x) in Composition(prec).elements for x in ['C', 'H', 'O']) and Element('N') not in Composition(prec).elements:\n",
    "            anion_dict['Org'].append(prec)\n",
    "            found = True\n",
    "        else:\n",
    "            for anion in ions:\n",
    "                # special check for elemental anions\n",
    "                if (anion in all_elements and Element(anion) in Composition(prec).elements) or (anion not in all_elements and anion in prec):\n",
    "                    anion_dict[anion].append(prec)\n",
    "                    found = True\n",
    "                    break\n",
    "        if not found:\n",
    "            # check if precursor is elemental\n",
    "            if prec in all_elements:\n",
    "                anion_dict['Elem'].append(prec)\n",
    "            else:\n",
    "                anion_dict['Other'].append(prec)\n",
    "    # create fractional embedding\n",
    "    for key in anion_dict:\n",
    "        sg_anion_dict[key].append(len(anion_dict[key]) / len(rxn['precursors']))\n",
    "        "
   ]
  },
  {
   "cell_type": "code",
   "execution_count": 21,
   "id": "59a36a95",
   "metadata": {},
   "outputs": [],
   "source": [
    "hyd_anion_dict = {x: [] for x in ions}\n",
    "for rxn in only_hyd_rxns:\n",
    "    anion_dict = {x: [] for x in ions}\n",
    "    for prec in rxn['precursors']:\n",
    "        found = False\n",
    "        # check acetate first\n",
    "        if 'CH3COO' in prec:\n",
    "            anion_dict['Ac'].append(prec)\n",
    "            found = True\n",
    "        # check organic\n",
    "        elif all(Element(x) in Composition(prec).elements for x in ['C', 'H', 'O']) and Element('N') not in Composition(prec).elements:\n",
    "            anion_dict['Org'].append(prec)\n",
    "            found = True\n",
    "        else:\n",
    "            for anion in ions:\n",
    "                # special check for elemental anions\n",
    "                if (anion in all_elements and Element(anion) in Composition(prec).elements) or (anion not in all_elements and anion in prec):\n",
    "                    anion_dict[anion].append(prec)\n",
    "                    found = True\n",
    "                    break\n",
    "        if not found:\n",
    "            # check if precursor is elemental\n",
    "            if prec in all_elements:\n",
    "                anion_dict['Elem'].append(prec)\n",
    "            else:\n",
    "                anion_dict['Other'].append(prec)\n",
    "    # create fractional embedding\n",
    "    for key in anion_dict:\n",
    "        hyd_anion_dict[key].append(len(anion_dict[key]) / len(rxn['precursors']))\n",
    "        "
   ]
  },
  {
   "cell_type": "code",
   "execution_count": 22,
   "id": "079720b8",
   "metadata": {},
   "outputs": [],
   "source": [
    "prec_anion_dict = {x: [] for x in ions}\n",
    "for rxn in only_prec_rxns:\n",
    "    anion_dict = {x: [] for x in ions}\n",
    "    for prec in rxn['precursors']:\n",
    "        found = False\n",
    "        # check acetate first\n",
    "        if 'CH3COO' in prec:\n",
    "            anion_dict['Ac'].append(prec)\n",
    "            found = True\n",
    "        # check organic\n",
    "        elif all(Element(x) in Composition(prec).elements for x in ['C', 'H', 'O']) and Element('N') not in Composition(prec).elements:\n",
    "            anion_dict['Org'].append(prec)\n",
    "            found = True\n",
    "        else:\n",
    "            for anion in ions:\n",
    "                # special check for elemental anions\n",
    "                if (anion in all_elements and Element(anion) in Composition(prec).elements) or (anion not in all_elements and anion in prec):\n",
    "                    anion_dict[anion].append(prec)\n",
    "                    found = True\n",
    "                    break\n",
    "        if not found:\n",
    "            # check if precursor is elemental\n",
    "            if prec in all_elements:\n",
    "                anion_dict['Elem'].append(prec)\n",
    "            else:\n",
    "                anion_dict['Other'].append(prec)\n",
    "    # create fractional embedding\n",
    "    for key in anion_dict:\n",
    "        prec_anion_dict[key].append(len(anion_dict[key]) / len(rxn['precursors']))\n",
    "        "
   ]
  },
  {
   "cell_type": "code",
   "execution_count": 23,
   "id": "0e1e1dcc",
   "metadata": {},
   "outputs": [
    {
     "name": "stdout",
     "output_type": "stream",
     "text": [
      "15937 3979 3362 2150\n"
     ]
    }
   ],
   "source": [
    "print(len(ss_anion_dict['O']), len(sg_anion_dict['O']), len(hyd_anion_dict['O']), len(prec_anion_dict['O']))"
   ]
  },
  {
   "cell_type": "markdown",
   "id": "ea557f2e",
   "metadata": {},
   "source": [
    "# add in melting point features"
   ]
  },
  {
   "cell_type": "code",
   "execution_count": 24,
   "id": "c390b763",
   "metadata": {},
   "outputs": [],
   "source": [
    "with open('data/full_mp.json', 'r') as f:\n",
    "    full_mp = json.load(f)"
   ]
  },
  {
   "cell_type": "code",
   "execution_count": 25,
   "id": "dacd392b",
   "metadata": {},
   "outputs": [],
   "source": [
    "full_mp = {Composition(x): full_mp[x] for x in full_mp}"
   ]
  },
  {
   "cell_type": "code",
   "execution_count": 26,
   "id": "83766113",
   "metadata": {},
   "outputs": [],
   "source": [
    "full_mp_median = np.median(list(full_mp.values()))"
   ]
  },
  {
   "cell_type": "code",
   "execution_count": 27,
   "id": "ff24245e",
   "metadata": {},
   "outputs": [],
   "source": [
    "# add MP features\n",
    "for new_result in only_ss_rxns:\n",
    "    # precursor MP features\n",
    "    melting_points = [full_mp.get(Composition(x), full_mp_median) for x in new_result[\"precursors\"]]\n",
    "    new_result['feature_exp_min_mp'] = min(melting_points)\n",
    "    new_result['feature_exp_max_mp'] = max(melting_points)\n",
    "    new_result['feature_exp_mean_mp'] = np.mean(melting_points)\n",
    "    new_result['feature_exp_div_mp'] = max(melting_points) - min(melting_points)\n",
    "for new_result in only_sg_rxns:\n",
    "    # precursor MP features\n",
    "    melting_points = [full_mp.get(Composition(x), full_mp_median) for x in new_result[\"precursors\"]]\n",
    "    new_result['feature_exp_min_mp'] = min(melting_points)\n",
    "    new_result['feature_exp_max_mp'] = max(melting_points)\n",
    "    new_result['feature_exp_mean_mp'] = np.mean(melting_points)\n",
    "    new_result['feature_exp_div_mp'] = max(melting_points) - min(melting_points)\n",
    "for new_result in only_hyd_rxns:\n",
    "    # precursor MP features\n",
    "    melting_points = [full_mp.get(Composition(x), full_mp_median) for x in new_result[\"precursors\"]]\n",
    "    new_result['feature_exp_min_mp'] = min(melting_points)\n",
    "    new_result['feature_exp_max_mp'] = max(melting_points)\n",
    "    new_result['feature_exp_mean_mp'] = np.mean(melting_points)\n",
    "    new_result['feature_exp_div_mp'] = max(melting_points) - min(melting_points)\n",
    "for new_result in only_prec_rxns:\n",
    "    # precursor MP features\n",
    "    melting_points = [full_mp.get(Composition(x), full_mp_median) for x in new_result[\"precursors\"]]\n",
    "    new_result['feature_exp_min_mp'] = min(melting_points)\n",
    "    new_result['feature_exp_max_mp'] = max(melting_points)\n",
    "    new_result['feature_exp_mean_mp'] = np.mean(melting_points)\n",
    "    new_result['feature_exp_div_mp'] = max(melting_points) - min(melting_points)"
   ]
  },
  {
   "cell_type": "code",
   "execution_count": 28,
   "id": "0c922716",
   "metadata": {},
   "outputs": [],
   "source": [
    "target_names = [x[\"target\"] for x in only_ss_rxns] + [x[\"target\"] for x in only_sg_rxns] + [x[\"target\"] for x in only_hyd_rxns] + [x[\"target\"] for x in only_prec_rxns]\n",
    "labels = np.concatenate([np.ones(shape=len(only_ss_rxns)), np.zeros(shape=len(only_sg_rxns)), np.full(shape=len(only_hyd_rxns)+len(only_prec_rxns), fill_value=2)])\n",
    "labels_multiclass = np.concatenate([np.ones(shape=len(only_ss_rxns)), np.zeros(shape=len(only_sg_rxns)), np.full(shape=len(only_hyd_rxns), fill_value=2), np.full(shape=len(only_prec_rxns), fill_value=3)])\n",
    "precursors = [x[\"precursors\"] for x in only_ss_rxns] + [x[\"precursors\"] for x in only_sg_rxns] + [x[\"precursors\"] for x in only_hyd_rxns] + [x[\"precursors\"] for x in only_prec_rxns]\n",
    "feature_exp_min_mp = [x['feature_exp_min_mp'] for x in only_ss_rxns] + [x['feature_exp_min_mp'] for x in only_sg_rxns] + [x['feature_exp_min_mp'] for x in only_hyd_rxns] + [x['feature_exp_min_mp'] for x in only_prec_rxns]\n",
    "feature_exp_max_mp = [x['feature_exp_max_mp'] for x in only_ss_rxns] + [x['feature_exp_max_mp'] for x in only_sg_rxns] + [x['feature_exp_max_mp'] for x in only_hyd_rxns] + [x['feature_exp_min_mp'] for x in only_prec_rxns]\n",
    "feature_exp_mean_mp = [x['feature_exp_mean_mp'] for x in only_ss_rxns] + [x['feature_exp_mean_mp'] for x in only_sg_rxns] + [x['feature_exp_mean_mp'] for x in only_hyd_rxns] + [x['feature_exp_min_mp'] for x in only_prec_rxns]\n",
    "feature_exp_div_mp = [x['feature_exp_div_mp'] for x in only_ss_rxns] + [x['feature_exp_div_mp'] for x in only_sg_rxns] + [x['feature_exp_div_mp'] for x in only_hyd_rxns] + [x['feature_exp_min_mp'] for x in only_prec_rxns]"
   ]
  },
  {
   "cell_type": "code",
   "execution_count": 29,
   "id": "b22c8ba3",
   "metadata": {},
   "outputs": [],
   "source": [
    "# get dois\n",
    "dois = []\n",
    "ss_dois = []\n",
    "sg_dois = []\n",
    "prec_dois = []\n",
    "hyd_dois = []\n",
    "for entry in only_ss_rxns + only_sg_rxns + only_hyd_rxns + only_prec_rxns:\n",
    "    if 'DOIs' in entry:\n",
    "        # wasn't a shared entry, store in appropriate column\n",
    "        dois.append(entry['DOIs'])\n",
    "        ss_dois.append([])\n",
    "        sg_dois.append([])\n",
    "        prec_dois.append([])\n",
    "        hyd_dois.append([])\n",
    "    else:\n",
    "        # append empty to dois\n",
    "        dois.append([])\n",
    "        # shared, append\n",
    "        if 'ss_dois' in entry:\n",
    "            ss_dois.append(entry['ss_dois'])\n",
    "        else:\n",
    "            ss_dois.append([])\n",
    "        if 'sg_dois' in entry:\n",
    "            sg_dois.append(entry['sg_dois'])\n",
    "        else:\n",
    "            sg_dois.append([])\n",
    "        if 'prec_dois' in entry:\n",
    "            prec_dois.append(entry['prec_dois'])\n",
    "        else:\n",
    "            prec_dois.append([])\n",
    "        if 'hyd_dois' in entry:\n",
    "            hyd_dois.append(entry['hyd_dois'])\n",
    "        else:\n",
    "            hyd_dois.append([])\n",
    "        \n",
    "        "
   ]
  },
  {
   "cell_type": "code",
   "execution_count": 30,
   "id": "c9fffd7c",
   "metadata": {},
   "outputs": [
    {
     "name": "stdout",
     "output_type": "stream",
     "text": [
      "25428 25428 25428 25428 25428\n"
     ]
    }
   ],
   "source": [
    "print(len(dois), len(ss_dois), len(sg_dois), len(prec_dois), len(hyd_dois))"
   ]
  },
  {
   "cell_type": "code",
   "execution_count": 31,
   "id": "0d5bf9e2",
   "metadata": {},
   "outputs": [],
   "source": [
    "feature_calculators = MultipleFeaturizer([\n",
    "    cf.ElementFraction()\n",
    "])\n",
    "\n",
    "# feature_calculators = MultipleFeaturizer([\n",
    "#     cf.Stoichiometry(),\n",
    "#     cf.ElementProperty.from_preset(\"magpie\"),\n",
    "#     cf.ValenceOrbital(props=[\"avg\"]),\n",
    "#     cf.IonProperty(fast=True) \n",
    "# ])\n"
   ]
  },
  {
   "cell_type": "code",
   "execution_count": 32,
   "id": "18987948",
   "metadata": {},
   "outputs": [
    {
     "data": {
      "application/vnd.jupyter.widget-view+json": {
       "model_id": "4fc53052892340bcbf90de0e9ee03fc9",
       "version_major": 2,
       "version_minor": 0
      },
      "text/plain": [
       "HBox(children=(HTML(value='StrToComposition'), FloatProgress(value=0.0, max=25428.0), HTML(value='')))"
      ]
     },
     "metadata": {},
     "output_type": "display_data"
    },
    {
     "name": "stdout",
     "output_type": "stream",
     "text": [
      "\n"
     ]
    },
    {
     "data": {
      "application/vnd.jupyter.widget-view+json": {
       "model_id": "363894962dc9455387d7ed9be727d144",
       "version_major": 2,
       "version_minor": 0
      },
      "text/plain": [
       "HBox(children=(HTML(value='MultipleFeaturizer'), FloatProgress(value=0.0, max=25428.0), HTML(value='')))"
      ]
     },
     "metadata": {},
     "output_type": "display_data"
    },
    {
     "name": "stdout",
     "output_type": "stream",
     "text": [
      "\n"
     ]
    }
   ],
   "source": [
    "data = pd.DataFrame()\n",
    "data[\"targets\"] = target_names\n",
    "data[\"precursors\"] = precursors\n",
    "data[\"labels\"] = labels\n",
    "data[\"labels_multiclass\"] = labels_multiclass\n",
    "\n",
    "df = StrToComposition(target_col_id=\"composition_obj\").featurize_dataframe(data, \"targets\", ignore_errors=True)\n",
    "df = feature_calculators.featurize_dataframe(df, col_id=\"composition_obj\", ignore_errors = True)\n",
    "\n",
    "for key in ss_anion_dict:\n",
    "    df[key + \"_prec\"] = ss_anion_dict[key] + sg_anion_dict[key] + hyd_anion_dict[key] + prec_anion_dict[key]"
   ]
  },
  {
   "cell_type": "code",
   "execution_count": 33,
   "id": "b6048600",
   "metadata": {},
   "outputs": [],
   "source": [
    "feature_exp_min_mp = [x['feature_exp_min_mp'] for x in only_ss_rxns] + [x['feature_exp_min_mp'] for x in only_sg_rxns] + [x['feature_exp_min_mp'] for x in only_hyd_rxns] + [x['feature_exp_min_mp'] for x in only_prec_rxns]\n",
    "feature_exp_max_mp = [x['feature_exp_max_mp'] for x in only_ss_rxns] + [x['feature_exp_max_mp'] for x in only_sg_rxns] + [x['feature_exp_max_mp'] for x in only_hyd_rxns] + [x['feature_exp_max_mp'] for x in only_prec_rxns]\n",
    "feature_exp_mean_mp = [x['feature_exp_mean_mp'] for x in only_ss_rxns] + [x['feature_exp_mean_mp'] for x in only_sg_rxns] + [x['feature_exp_mean_mp'] for x in only_hyd_rxns] + [x['feature_exp_mean_mp'] for x in only_prec_rxns]\n",
    "feature_exp_div_mp = [x['feature_exp_div_mp'] for x in only_ss_rxns] + [x['feature_exp_div_mp'] for x in only_sg_rxns] + [x['feature_exp_div_mp'] for x in only_hyd_rxns] + [x['feature_exp_div_mp'] for x in only_prec_rxns]"
   ]
  },
  {
   "cell_type": "code",
   "execution_count": 34,
   "id": "00cdb93e",
   "metadata": {},
   "outputs": [],
   "source": [
    "df['feature_exp_min_mp'] = feature_exp_min_mp\n",
    "df['feature_exp_max_mp'] = feature_exp_max_mp\n",
    "df['feature_exp_mean_mp'] = feature_exp_mean_mp\n",
    "df['feature_exp_div_mp'] = feature_exp_div_mp"
   ]
  },
  {
   "cell_type": "code",
   "execution_count": 35,
   "id": "e006a020",
   "metadata": {},
   "outputs": [],
   "source": [
    "df['dois'] = dois\n",
    "df['ss_dois'] = ss_dois\n",
    "df['sg_dois'] = sg_dois\n",
    "df['hyd_dois'] = hyd_dois\n",
    "df['prec_dois'] = prec_dois"
   ]
  },
  {
   "cell_type": "code",
   "execution_count": 36,
   "id": "ac8ced79",
   "metadata": {},
   "outputs": [
    {
     "data": {
      "text/plain": [
       "Counter({2: 8879, 3: 9915, 4: 5122, 5: 1166, 6: 275, 8: 17, 7: 53, 10: 1})"
      ]
     },
     "execution_count": 36,
     "metadata": {},
     "output_type": "execute_result"
    }
   ],
   "source": [
    "lens = [len(x) for x in df[\"precursors\"].values]\n",
    "Counter(lens)"
   ]
  },
  {
   "cell_type": "code",
   "execution_count": 37,
   "id": "a43e41ee",
   "metadata": {},
   "outputs": [],
   "source": [
    "df = df[df.precursors.str.len() <= 5]"
   ]
  },
  {
   "cell_type": "code",
   "execution_count": 40,
   "id": "351e8ea6",
   "metadata": {},
   "outputs": [
    {
     "data": {
      "text/plain": [
       "Index(['targets', 'precursors', 'labels', 'labels_multiclass',\n",
       "       'composition_obj', 'H', 'He', 'Li', 'Be', 'B',\n",
       "       ...\n",
       "       'Other_prec', 'feature_exp_min_mp', 'feature_exp_max_mp',\n",
       "       'feature_exp_mean_mp', 'feature_exp_div_mp', 'dois', 'ss_dois',\n",
       "       'sg_dois', 'hyd_dois', 'prec_dois'],\n",
       "      dtype='object', length=146)"
      ]
     },
     "execution_count": 40,
     "metadata": {},
     "output_type": "execute_result"
    }
   ],
   "source": [
    "df.columns"
   ]
  },
  {
   "cell_type": "code",
   "execution_count": 126,
   "id": "9a713ec4",
   "metadata": {},
   "outputs": [
    {
     "name": "stdout",
     "output_type": "stream",
     "text": [
      "Shape of X: (25082, 136)\n",
      "Shape of y: (25082,)\n"
     ]
    }
   ],
   "source": [
    "omit_columns = ['targets', 'precursors', 'labels', 'labels_multiclass', 'composition_obj', 'dois', 'ss_dois', 'sg_dois', 'hyd_dois', 'prec_dois']\n",
    "X_columns = [x for x in df.columns if x not in omit_columns]\n",
    "y_column = 'labels_multiclass'\n",
    "X_df = df[X_columns]\n",
    "X = X_df.values\n",
    "y = df[y_column].values\n",
    "print(\"Shape of X: {}\".format(X.shape))\n",
    "print(\"Shape of y: {}\".format(y.shape))\n",
    "y = y.astype(int)\n",
    "# X, y = shuffle(X, y, random_state=42)"
   ]
  },
  {
   "cell_type": "markdown",
   "id": "5e57f0c0",
   "metadata": {},
   "source": [
    "# Hyperparameter tuning and model metrics"
   ]
  },
  {
   "cell_type": "code",
   "execution_count": 127,
   "id": "039d1001",
   "metadata": {},
   "outputs": [],
   "source": [
    "# hyperparameter tuning\n",
    "# XGB hyperparameters\n",
    "\n",
    "n_estimators = [25, 50, 100, 200]\n",
    "max_depth=[3, 6, 9]\n",
    "learning_rate = [0.1, 0.2, 0.3]\n",
    "colsample_bytree = [0.6, 0.8, 1]\n",
    "colsample_bylevel = [0.6, 0.8, 1]\n",
    "min_child_weight = [1, 2, 3]\n",
    "subsample = [0.7, 0.9, 1]\n",
    "\n",
    "orig_parameters = {'n_estimators': n_estimators,\n",
    "              'max_depth': max_depth,\n",
    "              'learning_rate': learning_rate,\n",
    "              'colsample_bytree': colsample_bytree,\n",
    "              'colsample_bylevel': colsample_bylevel,\n",
    "              'min_child_weight': min_child_weight,\n",
    "              'subsample': subsample\n",
    "}\n",
    "\n",
    "# Create the random grid\n",
    "parameters = {'n_estimators': hp.choice('n_estimators', n_estimators),\n",
    "              'max_depth': hp.choice('max_depth', max_depth),\n",
    "              'learning_rate': hp.choice('learning_rate', learning_rate),\n",
    "              'colsample_bytree': hp.choice('colsample_bytree', colsample_bytree),\n",
    "              'colsample_bylevel': hp.choice('colsample_bylevel', colsample_bylevel),\n",
    "              'min_child_weight': hp.choice('min_child_weight', min_child_weight),\n",
    "              'subsample': hp.choice('subsample', subsample)\n",
    "}\n",
    "\n",
    "def objective(parameters):\n",
    "    clf = XGBClassifier(\n",
    "        n_estimators=parameters['n_estimators'],\n",
    "        max_depth=parameters['max_depth'],\n",
    "        learning_rate=parameters['learning_rate'],\n",
    "        colsample_bytree=parameters['colsample_bytree'],\n",
    "        colsample_bylevel=parameters['colsample_bylevel'],\n",
    "        min_child_weight=parameters['min_child_weight'],\n",
    "        subsample=parameters['subsample'],\n",
    "        objective='multi:softmax', \n",
    "        num_class=4\n",
    "    )\n",
    "    sample_weights = class_weight.compute_sample_weight(class_weight='balanced', y=y_train_curr)\n",
    "    clf.fit(X_train_curr, y_train_curr, eval_metric='mlogloss', sample_weight=sample_weights)\n",
    "    \n",
    "    y_pred_val = clf.predict(X_val)\n",
    "    curr_f1 = f1_score(y_val, y_pred_val, average='micro')\n",
    "    \n",
    "    return {'loss': -curr_f1, 'status': STATUS_OK}\n",
    "    \n"
   ]
  },
  {
   "cell_type": "code",
   "execution_count": 179,
   "id": "9c28cffe",
   "metadata": {
    "scrolled": true
   },
   "outputs": [
    {
     "name": "stdout",
     "output_type": "stream",
     "text": [
      "\r\n",
      "  0%|          | 0/100 [00:00<?, ?trial/s, best loss=?]"
     ]
    },
    {
     "name": "stderr",
     "output_type": "stream",
     "text": [
      "The use of label encoder in XGBClassifier is deprecated and will be removed in a future release. To remove this warning, do the following: 1) Pass option use_label_encoder=False when constructing XGBClassifier object; and 2) Encode your labels (y) as integers starting with 0, i.e. 0, 1, 2, ..., [num_class - 1].\n",
      "\n"
     ]
    },
    {
     "name": "stdout",
     "output_type": "stream",
     "text": [
      "100%|██████████| 100/100 [08:02<00:00,  4.83s/trial, best loss: -0.8372093023255814]\n"
     ]
    }
   ],
   "source": [
    "# hyperparameter tune for 1 train/test split\n",
    "\n",
    "# create train and test, 90/10 split\n",
    "X_train, X_test, y_train, y_test, df_train, df_test = train_test_split(X, y, df, test_size=0.10, shuffle=True, random_state=84)\n",
    "\n",
    "# create val split for this cv split from train\n",
    "# 72/18/10 split\n",
    "X_train_curr, X_val, y_train_curr, y_val = train_test_split(X_train, y_train, test_size=0.2, shuffle=False)\n",
    "\n",
    "best_parameters = fmin(fn=objective, space=parameters, algo=tpe.suggest, max_evals=100)\n",
    "\n",
    "# convert index to value\n",
    "for key in best_parameters:\n",
    "    best_parameters[key] = orig_parameters[key][best_parameters[key]]\n",
    "\n",
    "# get best estimator and get train and test predictions\n",
    "\n",
    "clf_best = XGBClassifier(\n",
    "    n_estimators=best_parameters['n_estimators'],\n",
    "    max_depth=best_parameters['max_depth'],\n",
    "    learning_rate=best_parameters['learning_rate'],\n",
    "    colsample_bytree=best_parameters['colsample_bytree'],\n",
    "    colsample_bylevel=best_parameters['colsample_bylevel'],\n",
    "    min_child_weight=best_parameters['min_child_weight'],\n",
    "    subsample=best_parameters['subsample'],\n",
    "    objective='multi:softmax', \n",
    "    num_class=4\n",
    ")\n",
    "\n",
    "sample_weights = class_weight.compute_sample_weight(class_weight='balanced', y=y_train)\n",
    "clf_best.fit(X_train, y_train, eval_metric='mlogloss', sample_weight=sample_weights)\n",
    "\n",
    "y_pred_train = clf_best.predict(X_train)\n",
    "y_pred_test = clf_best.predict(X_test)\n",
    "y_pred_test_proba = clf_best.predict_proba(X_test)"
   ]
  },
  {
   "cell_type": "code",
   "execution_count": 180,
   "id": "3b49c382",
   "metadata": {},
   "outputs": [
    {
     "name": "stdout",
     "output_type": "stream",
     "text": [
      "               precision    recall  f1-score   support\n",
      "\n",
      "      sol-gel       0.76      0.81      0.78       383\n",
      "  solid-state       0.95      0.92      0.94      1577\n",
      " hydrothermal       0.64      0.69      0.67       304\n",
      "precipitation       0.61      0.58      0.60       245\n",
      "\n",
      "     accuracy                           0.85      2509\n",
      "    macro avg       0.74      0.75      0.75      2509\n",
      " weighted avg       0.85      0.85      0.85      2509\n",
      "\n"
     ]
    }
   ],
   "source": [
    "# test performance - F1 micro optimized\n",
    "class_names=['sol-gel', 'solid-state', 'hydrothermal', 'precipitation']\n",
    "print(classification_report(y_test, y_pred_test, target_names=class_names))"
   ]
  },
  {
   "cell_type": "code",
   "execution_count": 181,
   "id": "560de1b9",
   "metadata": {},
   "outputs": [
    {
     "name": "stdout",
     "output_type": "stream",
     "text": [
      "               precision    recall  f1-score   support\n",
      "\n",
      "      sol-gel       0.76      0.81      0.78       383\n",
      "  solid-state       0.95      0.92      0.94      1577\n",
      " hydrothermal       0.64      0.69      0.67       304\n",
      "precipitation       0.61      0.58      0.60       245\n",
      "\n",
      "     accuracy                           0.85      2509\n",
      "    macro avg       0.74      0.75      0.75      2509\n",
      " weighted avg       0.85      0.85      0.85      2509\n",
      "\n"
     ]
    }
   ],
   "source": [
    "# test performance - F1 macro optimized\n",
    "class_names=['sol-gel', 'solid-state', 'hydrothermal', 'precipitation']\n",
    "print(classification_report(y_test, y_pred_test, target_names=class_names))"
   ]
  },
  {
   "cell_type": "markdown",
   "id": "ba23895c",
   "metadata": {},
   "source": [
    "# Look at precursor anion dicts"
   ]
  },
  {
   "cell_type": "markdown",
   "id": "fd7ea792",
   "metadata": {},
   "source": [
    "# SHAP metrics and cosine similarity"
   ]
  },
  {
   "cell_type": "code",
   "execution_count": 182,
   "id": "2ca93ca9",
   "metadata": {},
   "outputs": [
    {
     "name": "stderr",
     "output_type": "stream",
     "text": [
      "ntree_limit is deprecated, use `iteration_range` or model slicing instead.\n"
     ]
    }
   ],
   "source": [
    "explainer = shap.TreeExplainer(clf_best)\n",
    "shap_values_test = explainer.shap_values(X_test)"
   ]
  },
  {
   "cell_type": "code",
   "execution_count": 183,
   "id": "4cc23e64",
   "metadata": {},
   "outputs": [],
   "source": [
    "# make feature names for display\n",
    "feature_labels = []\n",
    "for label in X_columns:\n",
    "    if 'prec' in label:\n",
    "        label = label.replace(\"_\", \" \")\n",
    "        feature_labels.append(label + \"ursor\")\n",
    "    elif 'feature_exp' in label:\n",
    "        feature_labels.append(label.replace(\"feature_exp_\", \"\").replace(\"mp\", \"MP\").replace(\"div\", \"std_dev\").replace(\"_\", \" \").replace(\"max\", \"Max\").replace(\"mean\", \"Mean\").replace(\"std\", \"Std\").replace(\"min\", \"Min\"))\n",
    "    else:\n",
    "        label = label.replace(\"_\", \" \")\n",
    "        feature_labels.append(label)"
   ]
  },
  {
   "cell_type": "markdown",
   "id": "794c97cc",
   "metadata": {},
   "source": [
    "# Case studies"
   ]
  },
  {
   "cell_type": "code",
   "execution_count": 232,
   "id": "9a0c48a0",
   "metadata": {},
   "outputs": [
    {
     "data": {
      "image/png": "[encoded data removed]",
      "text/plain": [
       "<Figure size 576x468 with 3 Axes>"
      ]
     },
     "metadata": {},
     "output_type": "display_data"
    }
   ],
   "source": [
    "fig, ax = plt.subplots()\n",
    "which_class = 2\n",
    "row = 1424\n",
    "# ax.set_title(\"Solid-state\", fontsize=18)\n",
    "shap.waterfall_plot(shap.Explanation(values=shap_values_test[int(which_class)][row], \n",
    "                                         base_values=explainer.expected_value[int(which_class)], \n",
    "                                         data=X_test[row],  # added this line\n",
    "                                         feature_names=feature_labels))\n",
    "fig.tight_layout()\n",
    "fig.savefig('figures/no3_case_study.png', dpi=150)"
   ]
  },
  {
   "cell_type": "code",
   "execution_count": 230,
   "id": "4439f9e1",
   "metadata": {},
   "outputs": [
    {
     "data": {
      "image/png": "[encoded data removed]",
      "text/plain": [
       "<Figure size 576x468 with 3 Axes>"
      ]
     },
     "metadata": {},
     "output_type": "display_data"
    }
   ],
   "source": [
    "fig, ax = plt.subplots()\n",
    "which_class = 3\n",
    "row = 2312\n",
    "# ax.set_title(\"Solid-state\", fontsize=18)\n",
    "shap.waterfall_plot(shap.Explanation(values=shap_values_test[int(which_class)][row], \n",
    "                                         base_values=explainer.expected_value[int(which_class)], \n",
    "                                         data=X_test[row],  # added this line\n",
    "                                         feature_names=feature_labels))\n",
    "fig.tight_layout()\n",
    "fig.savefig('figures/no3_case_study_2.png', dpi=150)"
   ]
  },
  {
   "cell_type": "markdown",
   "id": "326e93ec",
   "metadata": {},
   "source": [
    "# Element fraction analysis"
   ]
  },
  {
   "cell_type": "code",
   "execution_count": 75,
   "id": "3c851579",
   "metadata": {},
   "outputs": [],
   "source": [
    "# count how many targets contain oxygen\n",
    "all_tars = list(df['targets'].values)\n",
    "multi_class_labels = list(df['labels_multiclass'].values)\n",
    "cont_o, not_cont_o = [], []\n",
    "cont_o_labels, not_cont_o_labels = [], []\n",
    "for tar, label in zip(all_tars, multi_class_labels):\n",
    "    comp = Composition(tar)\n",
    "    els = list(comp.get_el_amt_dict().keys())\n",
    "    if \"O\" in els:\n",
    "        cont_o.append(tar)\n",
    "        cont_o_labels.append(label)\n",
    "    else:\n",
    "        not_cont_o.append(tar)\n",
    "        not_cont_o_labels.append(label)"
   ]
  },
  {
   "cell_type": "code",
   "execution_count": 76,
   "id": "eccee6ef",
   "metadata": {},
   "outputs": [
    {
     "name": "stdout",
     "output_type": "stream",
     "text": [
      "22098 2984 25082\n",
      "0.8810302208755283\n"
     ]
    }
   ],
   "source": [
    "print(len(cont_o), len(not_cont_o), len(all_tars))\n",
    "print(len(cont_o)/len(all_tars))"
   ]
  },
  {
   "cell_type": "code",
   "execution_count": 77,
   "id": "e8ef0b32",
   "metadata": {},
   "outputs": [
    {
     "name": "stdout",
     "output_type": "stream",
     "text": [
      "0.9735449735449735\n",
      "0.9104\n",
      "0.6946268656716418\n",
      "0.7867165575304023\n"
     ]
    }
   ],
   "source": [
    "# plot fraction of containing oxygen for each\n",
    "for i in range(4):\n",
    "    print(pd.Series(cont_o_labels).value_counts()[i] / pd.Series(df['labels_multiclass']).value_counts()[i])"
   ]
  },
  {
   "cell_type": "code",
   "execution_count": 78,
   "id": "3845bb74",
   "metadata": {},
   "outputs": [],
   "source": [
    "# separate by rxn class\n",
    "o_df = pd.concat([df[df[\"labels_multiclass\"]==0][\"O\"], df[df[\"labels_multiclass\"]==1][\"O\"], df[df[\"labels_multiclass\"]==2][\"O\"], df[df[\"labels_multiclass\"]==3][\"O\"]], axis=1, ignore_index=True)"
   ]
  },
  {
   "cell_type": "code",
   "execution_count": 220,
   "id": "115c82a9",
   "metadata": {},
   "outputs": [
    {
     "data": {
      "image/png": "[encoded data removed]",
      "text/plain": [
       "<Figure size 432x288 with 1 Axes>"
      ]
     },
     "metadata": {
      "needs_background": "light"
     },
     "output_type": "display_data"
    }
   ],
   "source": [
    "fig, ax = plt.subplots()\n",
    "sns.boxplot(data=o_df, orient=\"h\")\n",
    "ax.set_xlabel('Target compound oxygen element fraction', fontsize=14)\n",
    "ax.tick_params(axis='x', labelsize=14)\n",
    "ax.set_yticklabels(['Sol-gel', 'Solid-state', 'Hydrothermal', 'Precipitation'], fontsize=14)\n",
    "plt.show()\n",
    "fig.tight_layout()\n",
    "fig.savefig('figures/oxygen_element_fraction_distribution.png', dpi=150)"
   ]
  },
  {
   "cell_type": "code",
   "execution_count": 43,
   "id": "c2292067",
   "metadata": {},
   "outputs": [
    {
     "name": "stdout",
     "output_type": "stream",
     "text": [
      "               precision    recall  f1-score   support\n",
      "\n",
      "      sol-gel       0.15      0.16      0.15       368\n",
      "  solid-state       0.62      0.62      0.62      1589\n",
      " hydrothermal       0.13      0.11      0.12       353\n",
      "precipitation       0.08      0.09      0.08       199\n",
      "\n",
      "     accuracy                           0.44      2509\n",
      "    macro avg       0.25      0.25      0.25      2509\n",
      " weighted avg       0.44      0.44      0.44      2509\n",
      "\n"
     ]
    }
   ],
   "source": [
    "# dummy classifier performance\n",
    "dummy_clf = DummyClassifier(strategy=\"stratified\")\n",
    "dummy_clf.fit(X_train, y_train)\n",
    "dummy_pred = dummy_clf.predict(X_test)\n",
    "print(classification_report(y_test, dummy_pred, target_names=class_names))"
   ]
  },
  {
   "cell_type": "code",
   "execution_count": 44,
   "id": "a0ee2388",
   "metadata": {},
   "outputs": [
    {
     "name": "stdout",
     "output_type": "stream",
     "text": [
      "               precision    recall  f1-score   support\n",
      "\n",
      "      sol-gel       0.00      0.00      0.00       368\n",
      "  solid-state       0.63      1.00      0.78      1589\n",
      " hydrothermal       0.00      0.00      0.00       353\n",
      "precipitation       0.00      0.00      0.00       199\n",
      "\n",
      "     accuracy                           0.63      2509\n",
      "    macro avg       0.16      0.25      0.19      2509\n",
      " weighted avg       0.40      0.63      0.49      2509\n",
      "\n"
     ]
    },
    {
     "name": "stderr",
     "output_type": "stream",
     "text": [
      "Precision and F-score are ill-defined and being set to 0.0 in labels with no predicted samples. Use `zero_division` parameter to control this behavior.\n"
     ]
    }
   ],
   "source": [
    "# dummy classifier performance\n",
    "dummy_clf = DummyClassifier(strategy=\"most_frequent\")\n",
    "dummy_clf.fit(X_train, y_train)\n",
    "dummy_pred = dummy_clf.predict(X_test)\n",
    "print(classification_report(y_test, dummy_pred, target_names=class_names))"
   ]
  },
  {
   "cell_type": "code",
   "execution_count": 46,
   "id": "048c997d",
   "metadata": {},
   "outputs": [],
   "source": [
    "X_train, X_test, y_train, y_test, df_train, df_test = train_test_split(X, y, df, test_size=0.10, shuffle=True, random_state=42)"
   ]
  },
  {
   "cell_type": "code",
   "execution_count": 48,
   "id": "eded8c4c",
   "metadata": {},
   "outputs": [
    {
     "name": "stdout",
     "output_type": "stream",
     "text": [
      "              precision    recall  f1-score   support\n",
      "\n",
      " solid-state       0.13      0.14      0.13       368\n",
      "     sol-gel       0.64      0.63      0.64      1589\n",
      "    solution       0.20      0.20      0.20       552\n",
      "\n",
      "    accuracy                           0.47      2509\n",
      "   macro avg       0.33      0.32      0.32      2509\n",
      "weighted avg       0.47      0.47      0.47      2509\n",
      "\n"
     ]
    }
   ],
   "source": [
    "# dummy classifier performance - 3 class\n",
    "dummy_clf = DummyClassifier(strategy=\"stratified\")\n",
    "dummy_clf.fit(X_train, y_train)\n",
    "dummy_pred = dummy_clf.predict(X_test)\n",
    "print(classification_report(y_test, dummy_pred, target_names=[\"solid-state\", \"sol-gel\", \"solution\"]))"
   ]
  },
  {
   "cell_type": "code",
   "execution_count": 50,
   "id": "7e42446f",
   "metadata": {},
   "outputs": [
    {
     "name": "stdout",
     "output_type": "stream",
     "text": [
      "              precision    recall  f1-score   support\n",
      "\n",
      " solid-state       0.00      0.00      0.00       368\n",
      "     sol-gel       0.63      1.00      0.78      1589\n",
      "    solution       0.00      0.00      0.00       552\n",
      "\n",
      "    accuracy                           0.63      2509\n",
      "   macro avg       0.21      0.33      0.26      2509\n",
      "weighted avg       0.40      0.63      0.49      2509\n",
      "\n"
     ]
    },
    {
     "name": "stderr",
     "output_type": "stream",
     "text": [
      "Precision and F-score are ill-defined and being set to 0.0 in labels with no predicted samples. Use `zero_division` parameter to control this behavior.\n"
     ]
    }
   ],
   "source": [
    "# dummy classifier performance - 3 class\n",
    "dummy_clf = DummyClassifier(strategy=\"most_frequent\")\n",
    "dummy_clf.fit(X_train, y_train)\n",
    "dummy_pred = dummy_clf.predict(X_test)\n",
    "print(classification_report(y_test, dummy_pred, target_names=[\"solid-state\", \"sol-gel\", \"solution\"]))"
   ]
  },
  {
   "cell_type": "code",
   "execution_count": null,
   "id": "8f3e4b81",
   "metadata": {},
   "outputs": [],
   "source": []
  }
 ],
 "metadata": {
  "kernelspec": {
   "display_name": "chris",
   "language": "python",
   "name": "chris"
  },
  "language_info": {
   "codemirror_mode": {
    "name": "ipython",
    "version": 3
   },
   "file_extension": ".py",
   "mimetype": "text/x-python",
   "name": "python",
   "nbconvert_exporter": "python",
   "pygments_lexer": "ipython3",
   "version": "3.7.3"
  }
 },
 "nbformat": 4,
 "nbformat_minor": 5
}
