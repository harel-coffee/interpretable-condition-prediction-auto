{
 "cells": [
  {
   "cell_type": "code",
   "execution_count": 4,
   "id": "24964bb4",
   "metadata": {},
   "outputs": [
    {
     "name": "stdout",
     "output_type": "stream",
     "text": [
      "The autoreload extension is already loaded. To reload it, use:\n",
      "  %reload_ext autoreload\n"
     ]
    }
   ],
   "source": [
    "%load_ext autoreload\n",
    "%autoreload 2\n",
    "\n",
    "import pickle\n",
    "import matplotlib.pyplot as plt\n",
    "import seaborn as sns\n",
    "import numpy as np\n",
    "import pandas as pd\n",
    "from cvae_featurization import *\n",
    "import time\n",
    "\n",
    "import sys, os\n",
    "os.environ[\"CUDA_VISIBLE_DEVICES\"]=\"0\"\n"
   ]
  },
  {
   "cell_type": "code",
   "execution_count": null,
   "id": "00e086c8",
   "metadata": {},
   "outputs": [],
   "source": [
    "imputation_strategies = [\"mp_fraction\"]\n",
    "featurizations = [\"pca\", \"mp_fraction\"]\n",
    "\n",
    "start = time.time()\n",
    "\n",
    "for imputation_strategy in imputation_strategies:\n",
    "    for featurization in featurizations:\n",
    "        print(imputation_strategy, featurization)\n",
    "        only_ss_rxns, ss_precursor_nomenclature = impute_data(imputation_strategy)\n",
    "        \n",
    "        file_name = 'data/only_ss_rxns_' + imputation_strategy + '.pkl'\n",
    "        if os.path.exists(file_name):\n",
    "            del only_ss_rxns\n",
    "            with open(file_name, 'rb') as f:\n",
    "                only_ss_rxns = pickle.load(f)\n",
    "        else:\n",
    "            with open(file_name, 'wb' as f):\n",
    "                pickle.dump(file_name, f)\n",
    "        df, prec_magpie_feats = featurize(featurization, only_ss_rxns, ss_precursor_nomenclature)\n",
    "        \n",
    "        if featurization == \"mp_fraction\":\n",
    "            prec_magpie_feats = prec_magpie_feats.values\n",
    "            \n",
    "        objective = \"temp_time_vector\"\n",
    "        omit_columns = ['targets', 'precursors', objective, 'composition_obj']\n",
    "        X_columns = [x for x in df.columns if x not in omit_columns]\n",
    "        y_column = objective\n",
    "        X_df = df[X_columns]\n",
    "        X_columns = list(X_df.columns)\n",
    "        X = X_df.values\n",
    "        y = df[y_column].values\n",
    "\n",
    "        X, y, prec_magpie_feats, full_df = shuffle(X, y, prec_magpie_feats, df, random_state=42)\n",
    "\n",
    "        y = np.vstack(y)\n",
    "        print(\"Shape of X: {}\".format(X.shape))\n",
    "        print(\"Shape of y: {}\".format(y.shape))\n",
    "        \n",
    "        best_params, y_pred_train, y_pred_test, X_train_k, X_test_k, y_train_k, y_test_k, n_pts_train_k, n_pts_test_k, histories = train(X, y, prec_magpie_feats, full_df)\n",
    "        \n",
    "        evaluate(imputation_strategy, featurization, y_pred_test, y_test_k)\n",
    "        \n",
    "        print((time.time() - start) / 60)\n",
    "        print('--------------')\n",
    "        "
   ]
  },
  {
   "cell_type": "code",
   "execution_count": 5,
   "id": "227b91ef",
   "metadata": {},
   "outputs": [
    {
     "name": "stdout",
     "output_type": "stream",
     "text": [
      "Returning extracted data of 51574/31782 reactions.\n"
     ]
    },
    {
     "name": "stderr",
     "output_type": "stream",
     "text": [
      "  1%|          | 513/51574 [01:09<1:55:46,  7.35it/s]\n"
     ]
    },
    {
     "ename": "KeyboardInterrupt",
     "evalue": "",
     "output_type": "error",
     "traceback": [
      "\u001b[0;31m---------------------------------------------------------------------------\u001b[0m",
      "\u001b[0;31mKeyboardInterrupt\u001b[0m                         Traceback (most recent call last)",
      "\u001b[0;32m<ipython-input-5-5a73360708c0>\u001b[0m in \u001b[0;36m<module>\u001b[0;34m\u001b[0m\n\u001b[0;32m----> 1\u001b[0;31m \u001b[0monly_ss_rxns\u001b[0m\u001b[0;34m,\u001b[0m \u001b[0mss_precursor_nomenclature\u001b[0m \u001b[0;34m=\u001b[0m \u001b[0mimpute_data\u001b[0m\u001b[0;34m(\u001b[0m\u001b[0mimputation_strategy\u001b[0m\u001b[0;34m=\u001b[0m\u001b[0;34m\"mp_fraction\"\u001b[0m\u001b[0;34m)\u001b[0m\u001b[0;34m\u001b[0m\u001b[0;34m\u001b[0m\u001b[0m\n\u001b[0m",
      "\u001b[0;32m/home/jupyter/CJK/CVAE/ceder_imputed/all_targets/neurips_paper/cvae_featurization.py\u001b[0m in \u001b[0;36mimpute_data\u001b[0;34m(imputation_strategy)\u001b[0m\n\u001b[1;32m     86\u001b[0m                 \u001b[0mprec_vector\u001b[0m\u001b[0;34m[\u001b[0m\u001b[0munique_precs\u001b[0m\u001b[0;34m.\u001b[0m\u001b[0mindex\u001b[0m\u001b[0;34m(\u001b[0m\u001b[0mprec_formula\u001b[0m\u001b[0;34m)\u001b[0m\u001b[0;34m]\u001b[0m \u001b[0;34m=\u001b[0m \u001b[0;36m1.0\u001b[0m\u001b[0;34m\u001b[0m\u001b[0;34m\u001b[0m\u001b[0m\n\u001b[1;32m     87\u001b[0m         \u001b[0;32melif\u001b[0m \u001b[0mimputation_strategy\u001b[0m \u001b[0;34m==\u001b[0m \u001b[0;34m\"pca\"\u001b[0m \u001b[0;32mor\u001b[0m \u001b[0mimputation_strategy\u001b[0m \u001b[0;34m==\u001b[0m \u001b[0;34m\"mp_fraction\"\u001b[0m\u001b[0;34m:\u001b[0m\u001b[0;34m\u001b[0m\u001b[0;34m\u001b[0m\u001b[0m\n\u001b[0;32m---> 88\u001b[0;31m             \u001b[0mprec_vector\u001b[0m \u001b[0;34m=\u001b[0m \u001b[0mfeaturize_precursors\u001b[0m\u001b[0;34m(\u001b[0m\u001b[0mprocessed_paper\u001b[0m\u001b[0;34m[\u001b[0m\u001b[0;34m'precursors'\u001b[0m\u001b[0;34m]\u001b[0m\u001b[0;34m,\u001b[0m \u001b[0mimputation_strategy\u001b[0m\u001b[0;34m,\u001b[0m \u001b[0mss_precursor_nomenclature\u001b[0m\u001b[0;34m)\u001b[0m\u001b[0;34m\u001b[0m\u001b[0;34m\u001b[0m\u001b[0m\n\u001b[0m\u001b[1;32m     89\u001b[0m \u001b[0;34m\u001b[0m\u001b[0m\n\u001b[1;32m     90\u001b[0m         \u001b[0mtemp_time_rxn\u001b[0m \u001b[0;34m=\u001b[0m \u001b[0mnp\u001b[0m\u001b[0;34m.\u001b[0m\u001b[0mconcatenate\u001b[0m\u001b[0;34m(\u001b[0m\u001b[0;34m(\u001b[0m\u001b[0mtemp_conditions\u001b[0m\u001b[0;34m,\u001b[0m \u001b[0mtime_conditions\u001b[0m\u001b[0;34m,\u001b[0m \u001b[0mprec_vector\u001b[0m\u001b[0;34m)\u001b[0m\u001b[0;34m)\u001b[0m\u001b[0;34m\u001b[0m\u001b[0;34m\u001b[0m\u001b[0m\n",
      "\u001b[0;32m/home/jupyter/CJK/CVAE/ceder_imputed/all_targets/neurips_paper/cvae_featurization.py\u001b[0m in \u001b[0;36mfeaturize_precursors\u001b[0;34m(precursors, featurization_strategy, ss_precursor_nomenclature)\u001b[0m\n\u001b[1;32m    341\u001b[0m             \u001b[0mfull_mp\u001b[0m \u001b[0;34m=\u001b[0m \u001b[0mjson\u001b[0m\u001b[0;34m.\u001b[0m\u001b[0mload\u001b[0m\u001b[0;34m(\u001b[0m\u001b[0mf\u001b[0m\u001b[0;34m)\u001b[0m\u001b[0;34m\u001b[0m\u001b[0;34m\u001b[0m\u001b[0m\n\u001b[1;32m    342\u001b[0m \u001b[0;34m\u001b[0m\u001b[0m\n\u001b[0;32m--> 343\u001b[0;31m         \u001b[0mfull_mp\u001b[0m \u001b[0;34m=\u001b[0m \u001b[0;34m{\u001b[0m\u001b[0mComposition\u001b[0m\u001b[0;34m(\u001b[0m\u001b[0mx\u001b[0m\u001b[0;34m)\u001b[0m\u001b[0;34m:\u001b[0m \u001b[0mfull_mp\u001b[0m\u001b[0;34m[\u001b[0m\u001b[0mx\u001b[0m\u001b[0;34m]\u001b[0m \u001b[0;32mfor\u001b[0m \u001b[0mx\u001b[0m \u001b[0;32min\u001b[0m \u001b[0mfull_mp\u001b[0m\u001b[0;34m}\u001b[0m\u001b[0;34m\u001b[0m\u001b[0;34m\u001b[0m\u001b[0m\n\u001b[0m\u001b[1;32m    344\u001b[0m         \u001b[0mfull_mp_median\u001b[0m \u001b[0;34m=\u001b[0m \u001b[0mnp\u001b[0m\u001b[0;34m.\u001b[0m\u001b[0mmedian\u001b[0m\u001b[0;34m(\u001b[0m\u001b[0mlist\u001b[0m\u001b[0;34m(\u001b[0m\u001b[0mfull_mp\u001b[0m\u001b[0;34m.\u001b[0m\u001b[0mvalues\u001b[0m\u001b[0;34m(\u001b[0m\u001b[0;34m)\u001b[0m\u001b[0;34m)\u001b[0m\u001b[0;34m)\u001b[0m\u001b[0;34m\u001b[0m\u001b[0;34m\u001b[0m\u001b[0m\n\u001b[1;32m    345\u001b[0m \u001b[0;34m\u001b[0m\u001b[0m\n",
      "\u001b[0;32m/home/jupyter/CJK/CVAE/ceder_imputed/all_targets/neurips_paper/cvae_featurization.py\u001b[0m in \u001b[0;36m<dictcomp>\u001b[0;34m(.0)\u001b[0m\n\u001b[1;32m    341\u001b[0m             \u001b[0mfull_mp\u001b[0m \u001b[0;34m=\u001b[0m \u001b[0mjson\u001b[0m\u001b[0;34m.\u001b[0m\u001b[0mload\u001b[0m\u001b[0;34m(\u001b[0m\u001b[0mf\u001b[0m\u001b[0;34m)\u001b[0m\u001b[0;34m\u001b[0m\u001b[0;34m\u001b[0m\u001b[0m\n\u001b[1;32m    342\u001b[0m \u001b[0;34m\u001b[0m\u001b[0m\n\u001b[0;32m--> 343\u001b[0;31m         \u001b[0mfull_mp\u001b[0m \u001b[0;34m=\u001b[0m \u001b[0;34m{\u001b[0m\u001b[0mComposition\u001b[0m\u001b[0;34m(\u001b[0m\u001b[0mx\u001b[0m\u001b[0;34m)\u001b[0m\u001b[0;34m:\u001b[0m \u001b[0mfull_mp\u001b[0m\u001b[0;34m[\u001b[0m\u001b[0mx\u001b[0m\u001b[0;34m]\u001b[0m \u001b[0;32mfor\u001b[0m \u001b[0mx\u001b[0m \u001b[0;32min\u001b[0m \u001b[0mfull_mp\u001b[0m\u001b[0;34m}\u001b[0m\u001b[0;34m\u001b[0m\u001b[0;34m\u001b[0m\u001b[0m\n\u001b[0m\u001b[1;32m    344\u001b[0m         \u001b[0mfull_mp_median\u001b[0m \u001b[0;34m=\u001b[0m \u001b[0mnp\u001b[0m\u001b[0;34m.\u001b[0m\u001b[0mmedian\u001b[0m\u001b[0;34m(\u001b[0m\u001b[0mlist\u001b[0m\u001b[0;34m(\u001b[0m\u001b[0mfull_mp\u001b[0m\u001b[0;34m.\u001b[0m\u001b[0mvalues\u001b[0m\u001b[0;34m(\u001b[0m\u001b[0;34m)\u001b[0m\u001b[0;34m)\u001b[0m\u001b[0;34m)\u001b[0m\u001b[0;34m\u001b[0m\u001b[0;34m\u001b[0m\u001b[0m\n\u001b[1;32m    345\u001b[0m \u001b[0;34m\u001b[0m\u001b[0m\n",
      "\u001b[0;32m~/anaconda3/envs/syn_gen/lib/python3.7/site-packages/pymatgen/core/composition.py\u001b[0m in \u001b[0;36m__eq__\u001b[0;34m(self, other)\u001b[0m\n\u001b[1;32m    168\u001b[0m             \u001b[0;32mreturn\u001b[0m \u001b[0;32mFalse\u001b[0m\u001b[0;34m\u001b[0m\u001b[0;34m\u001b[0m\u001b[0m\n\u001b[1;32m    169\u001b[0m         \u001b[0;32mfor\u001b[0m \u001b[0mel\u001b[0m\u001b[0;34m,\u001b[0m \u001b[0mv\u001b[0m \u001b[0;32min\u001b[0m \u001b[0mself\u001b[0m\u001b[0;34m.\u001b[0m\u001b[0mitems\u001b[0m\u001b[0;34m(\u001b[0m\u001b[0;34m)\u001b[0m\u001b[0;34m:\u001b[0m\u001b[0;34m\u001b[0m\u001b[0;34m\u001b[0m\u001b[0m\n\u001b[0;32m--> 170\u001b[0;31m             \u001b[0;32mif\u001b[0m \u001b[0mabs\u001b[0m\u001b[0;34m(\u001b[0m\u001b[0mv\u001b[0m \u001b[0;34m-\u001b[0m \u001b[0mother\u001b[0m\u001b[0;34m[\u001b[0m\u001b[0mel\u001b[0m\u001b[0;34m]\u001b[0m\u001b[0;34m)\u001b[0m \u001b[0;34m>\u001b[0m \u001b[0mComposition\u001b[0m\u001b[0;34m.\u001b[0m\u001b[0mamount_tolerance\u001b[0m\u001b[0;34m:\u001b[0m\u001b[0;34m\u001b[0m\u001b[0;34m\u001b[0m\u001b[0m\n\u001b[0m\u001b[1;32m    171\u001b[0m                 \u001b[0;32mreturn\u001b[0m \u001b[0;32mFalse\u001b[0m\u001b[0;34m\u001b[0m\u001b[0;34m\u001b[0m\u001b[0m\n\u001b[1;32m    172\u001b[0m         \u001b[0;32mreturn\u001b[0m \u001b[0;32mTrue\u001b[0m\u001b[0;34m\u001b[0m\u001b[0;34m\u001b[0m\u001b[0m\n",
      "\u001b[0;31mKeyboardInterrupt\u001b[0m: "
     ]
    }
   ],
   "source": [
    "only_ss_rxns, ss_precursor_nomenclature = impute_data(imputation_strategy=\"pca\")"
   ]
  },
  {
   "cell_type": "code",
   "execution_count": null,
   "id": "ec651153",
   "metadata": {},
   "outputs": [],
   "source": []
  }
 ],
 "metadata": {
  "kernelspec": {
   "display_name": "syn_gen",
   "language": "python",
   "name": "syn_gen"
  },
  "language_info": {
   "codemirror_mode": {
    "name": "ipython",
    "version": 3
   },
   "file_extension": ".py",
   "mimetype": "text/x-python",
   "name": "python",
   "nbconvert_exporter": "python",
   "pygments_lexer": "ipython3",
   "version": "3.7.3"
  }
 },
 "nbformat": 4,
 "nbformat_minor": 5
}
