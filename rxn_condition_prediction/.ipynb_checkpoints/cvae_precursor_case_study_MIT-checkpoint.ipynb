{
 "cells": [
  {
   "cell_type": "code",
   "execution_count": 50,
   "id": "30641b56",
   "metadata": {},
   "outputs": [
    {
     "name": "stdout",
     "output_type": "stream",
     "text": [
      "The autoreload extension is already loaded. To reload it, use:\n",
      "  %reload_ext autoreload\n"
     ]
    }
   ],
   "source": [
    "%load_ext autoreload\n",
    "%autoreload 2\n",
    "\n",
    "import pickle\n",
    "import matplotlib.pyplot as plt\n",
    "import seaborn as sns\n",
    "import numpy as np\n",
    "import pandas as pd\n",
    "from cvae_featurization import *\n",
    "from sklearn.utils import shuffle\n",
    "from sklearn.preprocessing import MinMaxScaler, StandardScaler, RobustScaler\n",
    "from sklearn.model_selection import train_test_split, KFold\n",
    "from keras.callbacks import EarlyStopping\n",
    "from sklearn.metrics import mean_squared_error, r2_score, mean_absolute_error\n",
    "import sys, os\n",
    "os.environ[\"CUDA_VISIBLE_DEVICES\"]=\"1\"\n",
    "from cvae import TempTimeGenerator\n",
    "from hyperopt import fmin, tpe, hp, STATUS_OK\n",
    "import re"
   ]
  },
  {
   "cell_type": "code",
   "execution_count": 16,
   "id": "e80ec154",
   "metadata": {},
   "outputs": [
    {
     "name": "stdout",
     "output_type": "stream",
     "text": [
      "Returning extracted data of 51574/31782 reactions.\n"
     ]
    },
    {
     "name": "stderr",
     "output_type": "stream",
     "text": [
      "100%|██████████| 51574/51574 [00:35<00:00, 1447.11it/s]\n"
     ]
    },
    {
     "data": {
      "application/vnd.jupyter.widget-view+json": {
       "model_id": "747cf9d933a243daa3691d58d9ef3ef7",
       "version_major": 2,
       "version_minor": 0
      },
      "text/plain": [
       "HBox(children=(HTML(value='StrToComposition'), FloatProgress(value=0.0, max=26469.0), HTML(value='')))"
      ]
     },
     "metadata": {},
     "output_type": "display_data"
    },
    {
     "name": "stdout",
     "output_type": "stream",
     "text": [
      "\n"
     ]
    },
    {
     "data": {
      "application/vnd.jupyter.widget-view+json": {
       "model_id": "f597948b407341f7aa2398ecef201c76",
       "version_major": 2,
       "version_minor": 0
      },
      "text/plain": [
       "HBox(children=(HTML(value='MultipleFeaturizer'), FloatProgress(value=0.0, max=26469.0), HTML(value='')))"
      ]
     },
     "metadata": {},
     "output_type": "display_data"
    },
    {
     "name": "stdout",
     "output_type": "stream",
     "text": [
      "\n"
     ]
    }
   ],
   "source": [
    "imputation_strategy=\"mp_fraction\"\n",
    "featurization=\"mp_fraction\"\n",
    "only_ss_rxns, ss_precursor_nomenclature = impute_data(imputation_strategy)\n",
    "df, prec_magpie_feats = featurize(featurization, only_ss_rxns, ss_precursor_nomenclature)"
   ]
  },
  {
   "cell_type": "code",
   "execution_count": 17,
   "id": "62dd2316",
   "metadata": {},
   "outputs": [
    {
     "name": "stdout",
     "output_type": "stream",
     "text": [
      "Shape of X: (26469, 103)\n",
      "Shape of y: (26469, 8)\n"
     ]
    }
   ],
   "source": [
    "objective = \"temp_time_vector\"\n",
    "omit_columns = ['targets', 'precursors', objective, 'composition_obj']\n",
    "X_columns = [x for x in df.columns if x not in omit_columns]\n",
    "y_column = objective\n",
    "X_df = df[X_columns]\n",
    "X_columns = list(X_df.columns)\n",
    "X = X_df.values\n",
    "y = df[y_column].values\n",
    "\n",
    "X, y, prec_magpie_feats, full_df = shuffle(X, y, prec_magpie_feats, df, random_state=42)\n",
    "\n",
    "y = np.vstack(y)\n",
    "print(\"Shape of X: {}\".format(X.shape))\n",
    "print(\"Shape of y: {}\".format(y.shape))"
   ]
  },
  {
   "cell_type": "code",
   "execution_count": 18,
   "id": "bb08c137",
   "metadata": {},
   "outputs": [],
   "source": [
    "# hyperparameter tuning\n",
    "rnn_dim = [16, 32, 64]\n",
    "conv_filters = [8, 16, 32]\n",
    "intermediate_dim = [64, 128, 256]\n",
    "latent_dim = [3, 4, 5, 6]\n",
    "\n",
    "orig_parameters = {\n",
    "    'rnn_dim': rnn_dim,\n",
    "    'conv_filters': conv_filters,\n",
    "    'intermediate_dim': intermediate_dim,\n",
    "    'latent_dim': latent_dim\n",
    "}\n",
    "\n",
    "# create the random grid\n",
    "parameters = {\n",
    "    'rnn_dim': hp.choice('rnn_dim', rnn_dim),\n",
    "    'conv_filters': hp.choice('conv_filters', conv_filters),\n",
    "    'intermediate_dim': hp.choice('intermediate_dim', intermediate_dim),\n",
    "    'latent_dim': hp.choice('latent_dim', latent_dim)\n",
    "}\n",
    "\n",
    "def objective(parameters):\n",
    "    temp_gen = TempTimeGenerator()\n",
    "    temp_gen.build_nn_model(rnn_dim=parameters['rnn_dim'], \n",
    "    conv_filters=parameters['conv_filters'],\n",
    "    intermediate_dim=parameters['intermediate_dim'],\n",
    "    latent_dim=parameters['latent_dim'],\n",
    "    precursor_len=prec_magpie_feats.shape[-1])\n",
    "\n",
    "    callbacks=[EarlyStopping(monitor='val_loss', min_delta=0, patience=10, verbose=0, mode='auto')]\n",
    "    history = temp_gen.train(\n",
    "        inputs=train_inputs, \n",
    "        outputs=train_outputs,\n",
    "        epochs=500,\n",
    "        val_split=0,\n",
    "        val_data=val_data,\n",
    "        batch_size=128,\n",
    "        callbacks=callbacks,\n",
    "        verbose=2\n",
    "    )\n",
    "\n",
    "    # return {'loss': history['val_loss'][-1], 'status': STATUS_OK}\n",
    "    results = []\n",
    "    for i in unique_inds_val:\n",
    "        conds = temp_gen.generate_samples(target_material=X_val[i:i+1], precursors=prec_magpie_feats_val[i:i+1], n_samples=100)\n",
    "        curr_results = []\n",
    "        for conditions in conds:\n",
    "            temp_time = scaler.inverse_transform(conditions.reshape(1, -1)).flatten()\n",
    "            curr_results.append(temp_time)\n",
    "        curr_results = np.vstack(curr_results)\n",
    "        results.append(curr_results)\n",
    "    results = np.array(results)\n",
    "\n",
    "    y_pred = np.mean(results, axis=1)\n",
    "    y_true = np.vstack([np.mean(x['temp_time_vector'], axis=0) for x in val_results])\n",
    "    rmse_to_minimize = []\n",
    "    for i in [0, 1, 3, 4]:\n",
    "        rmse_to_minimize.append(mean_squared_error(y_true[:, i], y_pred[:, i], squared=False))\n",
    "\n",
    "    del temp_gen\n",
    "\n",
    "\n",
    "    return {'loss': np.mean(rmse_to_minimize), 'status': STATUS_OK}\n",
    "\n",
    "best_params = []\n",
    "y_pred_train, y_pred_test = [], []\n",
    "X_train_k, X_test_k = [], []\n",
    "y_train_k, y_test_k = [], []\n",
    "X_train_df, X_test_df = [], []\n",
    "n_pts_train_k, n_pts_test_k = [], []\n",
    "histories = []"
   ]
  },
  {
   "cell_type": "code",
   "execution_count": 19,
   "id": "ad39d89a",
   "metadata": {},
   "outputs": [],
   "source": [
    "def get_unique_test_set(df):\n",
    "    test_results = []\n",
    "    unique_inds = []\n",
    "    for i, (target, precs, temps) in enumerate(zip(df['targets'], df['precursors'], df['temp_time_vector'])):\n",
    "        found = False\n",
    "        for result in test_results:\n",
    "            if result[\"Target\"] == target and set(result[\"Precursors\"]) == set(precs):\n",
    "                result[\"temp_time_vector\"].append(temps)\n",
    "                found = True\n",
    "        if not found:\n",
    "            new_result = {}\n",
    "            new_result[\"Target\"] = target\n",
    "            new_result[\"Precursors\"] = precs\n",
    "            new_result[\"temp_time_vector\"] = [temps]\n",
    "            test_results.append(new_result)\n",
    "            unique_inds.append(i)\n",
    "    return test_results, np.array(unique_inds)"
   ]
  },
  {
   "cell_type": "code",
   "execution_count": 20,
   "id": "e3af7eeb",
   "metadata": {},
   "outputs": [
    {
     "name": "stdout",
     "output_type": "stream",
     "text": [
      "Train on 21175 samples, validate on 5294 samples\n",
      "Epoch 1/500\n",
      " - 5s - loss: 6.9183 - mean_squared_error: 0.8394 - val_loss: 6.1471 - val_mean_squared_error: 0.7266\n",
      "Epoch 2/500\n",
      " - 3s - loss: 5.8351 - mean_squared_error: 0.6756 - val_loss: 5.4810 - val_mean_squared_error: 0.6218\n",
      "Epoch 3/500\n",
      " - 3s - loss: 5.5602 - mean_squared_error: 0.6254 - val_loss: 5.3587 - val_mean_squared_error: 0.5962\n",
      "Epoch 4/500\n",
      " - 3s - loss: 5.4331 - mean_squared_error: 0.6049 - val_loss: 5.3886 - val_mean_squared_error: 0.5924\n",
      "Epoch 5/500\n",
      " - 3s - loss: 5.1446 - mean_squared_error: 0.5695 - val_loss: 5.2378 - val_mean_squared_error: 0.5876\n",
      "Epoch 6/500\n",
      " - 3s - loss: 5.1477 - mean_squared_error: 0.5684 - val_loss: 5.0603 - val_mean_squared_error: 0.5488\n",
      "Epoch 7/500\n",
      " - 3s - loss: 5.0219 - mean_squared_error: 0.5442 - val_loss: 4.9629 - val_mean_squared_error: 0.5356\n",
      "Epoch 8/500\n",
      " - 3s - loss: 4.8708 - mean_squared_error: 0.5192 - val_loss: 4.7811 - val_mean_squared_error: 0.5064\n",
      "Epoch 9/500\n",
      " - 3s - loss: 4.8204 - mean_squared_error: 0.4998 - val_loss: 4.7616 - val_mean_squared_error: 0.4961\n",
      "Epoch 10/500\n",
      " - 3s - loss: 4.8016 - mean_squared_error: 0.4926 - val_loss: 4.7586 - val_mean_squared_error: 0.4870\n",
      "Epoch 11/500\n",
      " - 3s - loss: 4.6016 - mean_squared_error: 0.4693 - val_loss: 4.6089 - val_mean_squared_error: 0.4733\n",
      "Epoch 12/500\n",
      " - 3s - loss: 4.5201 - mean_squared_error: 0.4573 - val_loss: 4.5103 - val_mean_squared_error: 0.4624\n",
      "Epoch 13/500\n",
      " - 3s - loss: 4.5232 - mean_squared_error: 0.4544 - val_loss: 4.7073 - val_mean_squared_error: 0.4666\n",
      "Epoch 14/500\n",
      " - 3s - loss: 4.4394 - mean_squared_error: 0.4419 - val_loss: 5.0522 - val_mean_squared_error: 0.5131\n",
      "Epoch 15/500\n",
      " - 3s - loss: 4.4034 - mean_squared_error: 0.4358 - val_loss: 4.3907 - val_mean_squared_error: 0.4358\n",
      "Epoch 16/500\n",
      " - 3s - loss: 4.2978 - mean_squared_error: 0.4218 - val_loss: 4.3809 - val_mean_squared_error: 0.4338\n",
      "Epoch 17/500\n",
      " - 3s - loss: 4.3385 - mean_squared_error: 0.4209 - val_loss: 4.4246 - val_mean_squared_error: 0.4167\n",
      "Epoch 18/500\n",
      " - 2s - loss: 4.1019 - mean_squared_error: 0.3982 - val_loss: 4.2077 - val_mean_squared_error: 0.4107\n",
      "Epoch 19/500\n",
      " - 3s - loss: 4.2415 - mean_squared_error: 0.4089 - val_loss: 4.2042 - val_mean_squared_error: 0.4012\n",
      "Epoch 20/500\n",
      " - 3s - loss: 4.2158 - mean_squared_error: 0.3993 - val_loss: 4.2358 - val_mean_squared_error: 0.4012\n",
      "Epoch 21/500\n",
      " - 3s - loss: 4.0691 - mean_squared_error: 0.3897 - val_loss: 4.3718 - val_mean_squared_error: 0.4251\n",
      "Epoch 22/500\n",
      " - 2s - loss: 4.0559 - mean_squared_error: 0.3829 - val_loss: 4.3791 - val_mean_squared_error: 0.4142\n",
      "Epoch 23/500\n",
      " - 3s - loss: 4.0472 - mean_squared_error: 0.3855 - val_loss: 4.2010 - val_mean_squared_error: 0.3926\n",
      "Epoch 24/500\n",
      " - 3s - loss: 4.0353 - mean_squared_error: 0.3809 - val_loss: 4.1849 - val_mean_squared_error: 0.3892\n",
      "Epoch 25/500\n",
      " - 3s - loss: 4.0027 - mean_squared_error: 0.3712 - val_loss: 4.1566 - val_mean_squared_error: 0.3940\n",
      "Epoch 26/500\n",
      " - 2s - loss: 3.9616 - mean_squared_error: 0.3730 - val_loss: 4.2877 - val_mean_squared_error: 0.4130\n",
      "Epoch 27/500\n",
      " - 3s - loss: 3.9664 - mean_squared_error: 0.3711 - val_loss: 4.0076 - val_mean_squared_error: 0.3845\n",
      "Epoch 28/500\n",
      " - 3s - loss: 3.9777 - mean_squared_error: 0.3713 - val_loss: 4.2597 - val_mean_squared_error: 0.3951\n",
      "Epoch 29/500\n",
      " - 3s - loss: 3.9283 - mean_squared_error: 0.3649 - val_loss: 4.2722 - val_mean_squared_error: 0.3912\n",
      "Epoch 30/500\n",
      " - 2s - loss: 3.8687 - mean_squared_error: 0.3575 - val_loss: 4.3424 - val_mean_squared_error: 0.4259\n",
      "Epoch 31/500\n",
      " - 3s - loss: 3.9520 - mean_squared_error: 0.3639 - val_loss: 4.1750 - val_mean_squared_error: 0.3906\n",
      "Epoch 32/500\n",
      " - 3s - loss: 3.8755 - mean_squared_error: 0.3583 - val_loss: 4.1845 - val_mean_squared_error: 0.3993\n",
      "Epoch 33/500\n",
      " - 3s - loss: 3.8594 - mean_squared_error: 0.3565 - val_loss: 4.2030 - val_mean_squared_error: 0.3925\n",
      "Epoch 34/500\n",
      " - 3s - loss: 3.8237 - mean_squared_error: 0.3494 - val_loss: 4.1945 - val_mean_squared_error: 0.4034\n",
      "Epoch 35/500\n",
      " - 3s - loss: 3.8492 - mean_squared_error: 0.3502 - val_loss: 4.1557 - val_mean_squared_error: 0.3953\n",
      "Epoch 36/500\n",
      " - 3s - loss: 3.8764 - mean_squared_error: 0.3550 - val_loss: 4.0896 - val_mean_squared_error: 0.3761\n",
      "Epoch 37/500\n",
      " - 3s - loss: 3.7868 - mean_squared_error: 0.3418 - val_loss: 4.1790 - val_mean_squared_error: 0.4002\n",
      "Epoch 1/37\n",
      " - 6s - loss: 7.0047 - mean_squared_error: 0.8604\n",
      "Epoch 2/37\n",
      " - 3s - loss: 5.7656 - mean_squared_error: 0.6793\n",
      "Epoch 3/37\n",
      " - 3s - loss: 5.4237 - mean_squared_error: 0.6218\n",
      "Epoch 4/37\n",
      " - 3s - loss: 5.0842 - mean_squared_error: 0.5507\n",
      "Epoch 5/37\n",
      " - 3s - loss: 4.8676 - mean_squared_error: 0.5089\n",
      "Epoch 6/37\n",
      " - 3s - loss: 4.7645 - mean_squared_error: 0.4880\n",
      "Epoch 7/37\n",
      " - 3s - loss: 4.6496 - mean_squared_error: 0.4730\n",
      "Epoch 8/37\n",
      " - 3s - loss: 4.5265 - mean_squared_error: 0.4530\n",
      "Epoch 9/37\n",
      " - 3s - loss: 4.4222 - mean_squared_error: 0.4408\n",
      "Epoch 10/37\n",
      " - 3s - loss: 4.3392 - mean_squared_error: 0.4261\n",
      "Epoch 11/37\n",
      " - 3s - loss: 4.3018 - mean_squared_error: 0.4126\n",
      "Epoch 12/37\n",
      " - 3s - loss: 4.1716 - mean_squared_error: 0.4004\n",
      "Epoch 13/37\n",
      " - 3s - loss: 4.1273 - mean_squared_error: 0.3937\n",
      "Epoch 14/37\n",
      " - 3s - loss: 4.1117 - mean_squared_error: 0.3880\n",
      "Epoch 15/37\n",
      " - 3s - loss: 4.0404 - mean_squared_error: 0.3834\n",
      "Epoch 16/37\n",
      " - 3s - loss: 4.0206 - mean_squared_error: 0.3795\n",
      "Epoch 17/37\n",
      " - 3s - loss: 4.0145 - mean_squared_error: 0.3767\n",
      "Epoch 18/37\n",
      " - 3s - loss: 3.9826 - mean_squared_error: 0.3708\n",
      "Epoch 19/37\n",
      " - 3s - loss: 3.9606 - mean_squared_error: 0.3710\n",
      "Epoch 20/37\n",
      " - 3s - loss: 3.9283 - mean_squared_error: 0.3660\n",
      "Epoch 21/37\n",
      " - 3s - loss: 3.9454 - mean_squared_error: 0.3693\n",
      "Epoch 22/37\n",
      " - 3s - loss: 3.9122 - mean_squared_error: 0.3640\n",
      "Epoch 23/37\n",
      " - 3s - loss: 3.8641 - mean_squared_error: 0.3592\n",
      "Epoch 24/37\n",
      " - 3s - loss: 3.8233 - mean_squared_error: 0.3545\n",
      "Epoch 25/37\n",
      " - 3s - loss: 3.8538 - mean_squared_error: 0.3569\n",
      "Epoch 26/37\n",
      " - 3s - loss: 3.8185 - mean_squared_error: 0.3538\n",
      "Epoch 27/37\n",
      " - 3s - loss: 3.8559 - mean_squared_error: 0.3549\n",
      "Epoch 28/37\n",
      " - 3s - loss: 3.8172 - mean_squared_error: 0.3510\n",
      "Epoch 29/37\n",
      " - 3s - loss: 3.8265 - mean_squared_error: 0.3498\n",
      "Epoch 30/37\n",
      " - 3s - loss: 3.8088 - mean_squared_error: 0.3467\n",
      "Epoch 31/37\n",
      " - 3s - loss: 3.7897 - mean_squared_error: 0.3434\n",
      "Epoch 32/37\n",
      " - 3s - loss: 3.7956 - mean_squared_error: 0.3461\n",
      "Epoch 33/37\n",
      " - 3s - loss: 3.8372 - mean_squared_error: 0.3443\n",
      "Epoch 34/37\n",
      " - 3s - loss: 3.7184 - mean_squared_error: 0.3338\n",
      "Epoch 35/37\n",
      " - 3s - loss: 3.7740 - mean_squared_error: 0.3443\n",
      "Epoch 36/37\n",
      " - 3s - loss: 3.6965 - mean_squared_error: 0.3355\n",
      "Epoch 37/37\n",
      " - 3s - loss: 3.7761 - mean_squared_error: 0.3428\n"
     ]
    }
   ],
   "source": [
    "X_train = X\n",
    "y_train = y\n",
    "prec_magpie_feats_train = prec_magpie_feats\n",
    "df_train = df\n",
    "\n",
    "X_train_curr, X_val, y_train_curr, y_val, prec_magpie_feats_train_curr, prec_magpie_feats_val, _, df_val = train_test_split(X_train, y_train, prec_magpie_feats_train, df_train, test_size=0.2, shuffle=False)\n",
    "\n",
    "scaler = StandardScaler()\n",
    "scaler.fit(X_train_curr)\n",
    "X_train_curr = scaler.transform(X_train_curr)\n",
    "X_val = scaler.transform(X_val)\n",
    "\n",
    "scaler = StandardScaler()\n",
    "scaler.fit(prec_magpie_feats_train_curr)\n",
    "prec_magpie_feats_train_curr = scaler.transform(prec_magpie_feats_train_curr)\n",
    "prec_magpie_feats_val = scaler.transform(prec_magpie_feats_val)\n",
    "\n",
    "scaler = StandardScaler()\n",
    "scaler.fit(y_train_curr)\n",
    "y_train_curr = scaler.transform(y_train_curr)\n",
    "y_val = scaler.transform(y_val)\n",
    "\n",
    "y_train_curr = np.reshape(y_train_curr, (-1, 8, 1))\n",
    "y_val = np.reshape(y_val, (-1, 8, 1))\n",
    "\n",
    "train_inputs = [y_train_curr, X_train_curr, prec_magpie_feats_train_curr]\n",
    "train_outputs = [y_train_curr]\n",
    "\n",
    "val_data = [[y_val, X_val, prec_magpie_feats_val], y_val]\n",
    "\n",
    "# hyperparameter search\n",
    "val_results, unique_inds_val = get_unique_test_set(df_val)\n",
    "\n",
    "# best_parameters = fmin(fn=objective, space=parameters, algo=tpe.suggest, max_evals=25)\n",
    "best_parameters = None\n",
    "\n",
    "# convert index to value\n",
    "# for key in best_parameters:\n",
    "#     best_parameters[key] = orig_parameters[key][best_parameters[key]]\n",
    "\n",
    "temp_gen = TempTimeGenerator()\n",
    "temp_gen.build_nn_model(\n",
    "#     rnn_dim=best_parameters['rnn_dim'],\n",
    "#     conv_filters=best_parameters['conv_filters'],\n",
    "#     intermediate_dim=best_parameters['intermediate_dim'],\n",
    "#     latent_dim=best_parameters['latent_dim'],\n",
    "    precursor_len=prec_magpie_feats.shape[-1])\n",
    "callbacks=[EarlyStopping(monitor='val_loss', min_delta=0, patience=10, verbose=0, mode='auto')]\n",
    "history = temp_gen.train(\n",
    "    inputs=train_inputs, \n",
    "    outputs=train_outputs,\n",
    "    epochs=500,\n",
    "    val_split=0,\n",
    "    val_data=val_data,\n",
    "    batch_size=128,\n",
    "    callbacks=callbacks,\n",
    "    verbose=2\n",
    ")\n",
    "\n",
    "histories.append(history)\n",
    "\n",
    "epochs = len(history['val_loss'])\n",
    "\n",
    "best_params.append([best_parameters, epochs])\n",
    "\n",
    "del temp_gen\n",
    "\n",
    "scaler = StandardScaler()\n",
    "scaler.fit(X_train)\n",
    "X_train = scaler.transform(X_train)\n",
    "\n",
    "scaler = StandardScaler()\n",
    "scaler.fit(prec_magpie_feats_train)\n",
    "prec_magpie_feats_train = scaler.transform(prec_magpie_feats_train)\n",
    "\n",
    "scaler = StandardScaler()\n",
    "scaler.fit(y_train)\n",
    "y_train = scaler.transform(y_train)\n",
    "y_train = np.reshape(y_train, (-1, 8, 1))\n",
    "\n",
    "train_inputs = [y_train, X_train, prec_magpie_feats_train]\n",
    "train_outputs = [y_train]\n",
    "\n",
    "temp_gen = TempTimeGenerator()\n",
    "temp_gen.build_nn_model(\n",
    "#     rnn_dim=best_parameters['rnn_dim'],\n",
    "#     conv_filters=best_parameters['conv_filters'],\n",
    "#     intermediate_dim=best_parameters['intermediate_dim'],\n",
    "#     latent_dim=best_parameters['latent_dim'],\n",
    "    precursor_len=prec_magpie_feats.shape[-1])\n",
    "\n",
    "history = temp_gen.train(\n",
    "    inputs=train_inputs, \n",
    "    outputs=train_outputs,\n",
    "    epochs=epochs,\n",
    "    val_split=0,\n",
    "    val_data=None,\n",
    "    batch_size=128,\n",
    "    callbacks=None,\n",
    "    verbose=2\n",
    ")"
   ]
  },
  {
   "cell_type": "code",
   "execution_count": 7,
   "id": "d1949171",
   "metadata": {},
   "outputs": [],
   "source": [
    "# temp_gen.save_models(model_variant=imputation_strategy+\"_\"+featurization+\"_default_hyperparameter\", save_path=\"/home/synthesis-generation/bin/CJK/paper/\")"
   ]
  },
  {
   "cell_type": "code",
   "execution_count": 30,
   "id": "0e801b4f",
   "metadata": {},
   "outputs": [],
   "source": [
    "temp_gen = TempTimeGenerator()\n",
    "temp_gen.build_nn_model(precursor_len=prec_magpie_feats.shape[-1])\n",
    "temp_gen.load_models(model_variant=imputation_strategy+\"_\"+featurization+\"_default_hyperparameter\", load_path=\"/home/synthesis-generation/bin/CJK/paper/\")"
   ]
  },
  {
   "cell_type": "code",
   "execution_count": 31,
   "id": "557a5830",
   "metadata": {},
   "outputs": [
    {
     "data": {
      "text/plain": [
       "StandardScaler()"
      ]
     },
     "execution_count": 31,
     "metadata": {},
     "output_type": "execute_result"
    }
   ],
   "source": [
    "target_scaler = StandardScaler()\n",
    "target_scaler.fit(X)\n",
    "prec_scaler = StandardScaler()\n",
    "prec_scaler.fit(prec_magpie_feats)\n",
    "scaler = StandardScaler()\n",
    "scaler.fit(y)"
   ]
  },
  {
   "cell_type": "code",
   "execution_count": 32,
   "id": "296a9b67",
   "metadata": {},
   "outputs": [
    {
     "data": {
      "application/vnd.jupyter.widget-view+json": {
       "model_id": "760702dd24b8468fbf705fe95f15ea8a",
       "version_major": 2,
       "version_minor": 0
      },
      "text/plain": [
       "HBox(children=(HTML(value='StrToComposition'), FloatProgress(value=0.0, max=5.0), HTML(value='')))"
      ]
     },
     "metadata": {},
     "output_type": "display_data"
    },
    {
     "name": "stdout",
     "output_type": "stream",
     "text": [
      "\n"
     ]
    },
    {
     "data": {
      "application/vnd.jupyter.widget-view+json": {
       "model_id": "a364db456bc04b5a9a9761b58aefb50a",
       "version_major": 2,
       "version_minor": 0
      },
      "text/plain": [
       "HBox(children=(HTML(value='MultipleFeaturizer'), FloatProgress(value=0.0, max=5.0), HTML(value='')))"
      ]
     },
     "metadata": {},
     "output_type": "display_data"
    },
    {
     "name": "stdout",
     "output_type": "stream",
     "text": [
      "\n"
     ]
    }
   ],
   "source": [
    "to_predict = [\n",
    "    {\n",
    "        'target': 'Li4Fe7O12',\n",
    "        'precursors': ['Fe3O4', 'Li2CO3'],\n",
    "        'temp_time_vector': None\n",
    "    },\n",
    "    {\n",
    "        'target': 'Li4Fe7O12',\n",
    "        'precursors': ['Fe2O3', 'Li2CO3'],\n",
    "        'temp_time_vector': None\n",
    "    },\n",
    "    {\n",
    "        'target': 'Li4Fe7O12',\n",
    "        'precursors': ['Fe(NO3)3', 'Li2CO3'],\n",
    "        'temp_time_vector': None\n",
    "    },\n",
    "    {\n",
    "        'target': 'Li4Fe7O12',\n",
    "        'precursors': ['FePO4', 'Li2CO3'],\n",
    "        'temp_time_vector': None\n",
    "    },\n",
    "    {\n",
    "        'target': 'Li4Fe7O12',\n",
    "        'precursors': ['FeC2O4', 'Li2CO3'],\n",
    "        'temp_time_vector': None\n",
    "    },\n",
    "\n",
    "]\n",
    "query_df, query_prec_magpie_feats = add_mp_fraction_feats(to_predict, objective=\"temp_time_vector\")"
   ]
  },
  {
   "cell_type": "code",
   "execution_count": 33,
   "id": "19d04233",
   "metadata": {},
   "outputs": [],
   "source": [
    "query_prec_magpie_feats = prec_scaler.transform(query_prec_magpie_feats)"
   ]
  },
  {
   "cell_type": "code",
   "execution_count": 34,
   "id": "c89bb270",
   "metadata": {},
   "outputs": [],
   "source": [
    "query_target_feats = target_scaler.transform(query_df[X_columns].values)"
   ]
  },
  {
   "cell_type": "code",
   "execution_count": 35,
   "id": "a89b0536",
   "metadata": {},
   "outputs": [],
   "source": [
    "query_results = []\n",
    "for i in range(len(query_target_feats)):\n",
    "    conds = temp_gen.generate_samples(target_material=query_target_feats[i:i+1], precursors=query_prec_magpie_feats[i:i+1], n_samples=1000)\n",
    "    curr_results = []\n",
    "    for conditions in conds:\n",
    "        temp_time = scaler.inverse_transform(conditions.reshape(1, -1)).flatten()\n",
    "        curr_results.append(temp_time)\n",
    "    curr_results = np.vstack(curr_results)\n",
    "    query_results.append(curr_results)\n",
    "query_results = np.array(query_results)\n"
   ]
  },
  {
   "cell_type": "code",
   "execution_count": 53,
   "id": "748afa42",
   "metadata": {},
   "outputs": [],
   "source": [
    "targets_to_plot = [x['target'] for x in to_predict]\n",
    "precursors_to_plot = [x['precursors'] for x in to_predict]\n",
    "targets_to_plot = clean_formulas(targets_to_plot)\n",
    "precursors_to_plot = [clean_formulas(x) for x in precursors_to_plot]"
   ]
  },
  {
   "cell_type": "code",
   "execution_count": 57,
   "id": "1948866b",
   "metadata": {},
   "outputs": [
    {
     "data": {
      "image/png": "[encoded data removed]",
      "text/plain": [
       "<Figure size 576x360 with 1 Axes>"
      ]
     },
     "metadata": {
      "needs_background": "light"
     },
     "output_type": "display_data"
    }
   ],
   "source": [
    "fig, ax = plt.subplots(figsize=(8, 5))\n",
    "labels = []\n",
    "for i in range(len(query_results)):\n",
    "    sns.kdeplot(query_results[i][:, 0], fill=True)\n",
    "    #sns.kdeplot(result[\"sinter_temps\"], fill=True)\n",
    "    label = \", \".join(precursors_to_plot[i])\n",
    "    labels.append(label)\n",
    "ax.set_xlabel(\"Generated Solid-State Calcination Temperature $(^{\\circ}$C)\", fontsize=14)\n",
    "ax.set_ylabel(\"Density\", fontsize=14)\n",
    "\n",
    "ax.legend(labels, loc=\"upper right\", fontsize=14)\n",
    "# ax.set_xlim(500, 1000)\n",
    "# ax.set_yticks(np.linspace(0, 0.016, 5))\n",
    "plt.xticks(fontsize=14)\n",
    "plt.yticks(fontsize=14)\n",
    "fig.tight_layout()\n",
    "# fig.savefig('/home/jupyter/CJK/CVAE/ceder_imputed/all_targets/neurips_paper/figures/ss_precursor_calcine_sensitivity.png', dpi=200)"
   ]
  },
  {
   "cell_type": "code",
   "execution_count": 51,
   "id": "e6c91cf0",
   "metadata": {},
   "outputs": [],
   "source": [
    "def clean_formulas(formula_list):\n",
    "    chem_list = [re.sub(\"([0-9]+(\\.[0-9]+)?)\", \"_{\\\\1}\", k) for k in formula_list]\n",
    "    chem_list = ['$\\mathregular{'+list_k+'}$' for list_k in chem_list]\n",
    "    return chem_list"
   ]
  },
  {
   "cell_type": "code",
   "execution_count": 68,
   "id": "4bedb332",
   "metadata": {},
   "outputs": [
    {
     "data": {
      "image/png": "[encoded data removed]",
      "text/plain": [
       "<Figure size 1080x288 with 2 Axes>"
      ]
     },
     "metadata": {
      "needs_background": "light"
     },
     "output_type": "display_data"
    }
   ],
   "source": [
    "fig, ax = plt.subplots(1, 2, figsize=(15, 4))\n",
    "labels = []\n",
    "for i in range(len(query_results)):\n",
    "    sns.kdeplot(query_results[i][:, 0], fill=True, ax=ax[0])\n",
    "    #sns.kdeplot(result[\"sinter_temps\"], fill=True)\n",
    "    label = \", \".join(precursors_to_plot[i])\n",
    "    labels.append(label)\n",
    "ax[0].set_xlabel(\"Generated Calcination Temperature $(^{\\circ}$C)\", fontsize=14)\n",
    "ax[0].set_ylabel(\"Density\", fontsize=14)\n",
    "\n",
    "for i in range(len(query_results)):\n",
    "    sns.kdeplot(query_results[i][:, 1], fill=True, ax=ax[1])\n",
    "ax[1].set_xlabel(\"Generated Sintering Temperature $(^{\\circ}$C)\", fontsize=14)\n",
    "ax[1].set_ylabel(\"Density\", fontsize=14)\n",
    "\n",
    "ax[0].tick_params(axis='x', labelsize=14)\n",
    "ax[1].tick_params(axis='x', labelsize=14)\n",
    "ax[0].tick_params(axis='y', labelsize=14)\n",
    "ax[1].tick_params(axis='y', labelsize=14)\n",
    "ax[1].legend(labels, bbox_to_anchor=(1.04,0.5), loc=\"center left\", borderaxespad=0, fontsize=14)\n",
    "\n",
    "fig.tight_layout()\n",
    "fig.savefig('figures/fe_precursor_case_study.png', dpi=150)"
   ]
  },
  {
   "cell_type": "code",
   "execution_count": 73,
   "id": "c1e7f2f3",
   "metadata": {},
   "outputs": [],
   "source": [
    "for entry in only_ss_rxns:\n",
    "    if Composition(entry['target']) == Composition('LiNH4SO4'):\n",
    "        print(entry)"
   ]
  },
  {
   "cell_type": "code",
   "execution_count": 77,
   "id": "1354bb10",
   "metadata": {},
   "outputs": [
    {
     "data": {
      "text/plain": [
       "BaTiO3                    139\n",
       "SrTiO3                    115\n",
       "CaTi4Cu3O12               113\n",
       "LiMn2O4                    94\n",
       "FeBiO3                     92\n",
       "LiFePO4                    88\n",
       "Li4Ti5O12                  71\n",
       "K0.5Na0.5NbO3              70\n",
       "Y3Al5O12                   62\n",
       "Sr0.1Mg0.2La0.9Ga0.8O3     57\n",
       "Na0.5TiBi0.5O3             56\n",
       "CaTiO3                     49\n",
       "BaFe12O19                  45\n",
       "Li7La3Zr2O12               44\n",
       "Ba2YCu3O7                  42\n",
       "Fe2NiO4                    41\n",
       "Fe2CoO4                    41\n",
       "Ca3Co4O9                   41\n",
       "TiPbO3                     38\n",
       "LiMn1.5Ni0.5O4             38\n",
       "Name: targets, dtype: int64"
      ]
     },
     "execution_count": 77,
     "metadata": {},
     "output_type": "execute_result"
    }
   ],
   "source": [
    "df['targets'].value_counts().head(20)"
   ]
  },
  {
   "cell_type": "code",
   "execution_count": 138,
   "id": "53ea279a",
   "metadata": {},
   "outputs": [
    {
     "data": {
      "text/plain": [
       "Li2CO3 MnO2             30\n",
       "Li2CO3 MnCO3            20\n",
       "LiOH MnO2               17\n",
       "Li2CO3 Mn2O3            11\n",
       "LiOH Mn2O3               3\n",
       "LiNO3 MnCO3              2\n",
       "CH3COOLi Mn(CH3COO)2     2\n",
       "Li2CO3 MnOOH             2\n",
       "Li2CO3 Mn3O4             2\n",
       "LiOH MnCO3               1\n",
       "Li2CO3 MnO               1\n",
       "LiOH Mn2(CO3)7           1\n",
       "Li2CO3 Mn2O7             1\n",
       "LiOH MnO                 1\n",
       "dtype: int64"
      ]
     },
     "execution_count": 138,
     "metadata": {},
     "output_type": "execute_result"
    }
   ],
   "source": [
    "pd.Series([' '.join(x) for x in df[df['targets'] == \"LiMn2O4\"]['precursors']]).value_counts()"
   ]
  },
  {
   "cell_type": "code",
   "execution_count": 92,
   "id": "a53d9cc3",
   "metadata": {},
   "outputs": [],
   "source": [
    "full_unique_results, full_unique_inds = get_unique_test_set(df)"
   ]
  },
  {
   "cell_type": "code",
   "execution_count": 119,
   "id": "6eeb60ef",
   "metadata": {},
   "outputs": [],
   "source": [
    "all_n_pts = [len(x['temp_time_vector']) for x in full_unique_results]"
   ]
  },
  {
   "cell_type": "code",
   "execution_count": 120,
   "id": "86fd9bce",
   "metadata": {},
   "outputs": [],
   "source": [
    "bins = np.arange(1, 50)\n",
    "values, base = np.histogram(all_n_pts, bins=bins)\n",
    "#evaluate the cumulative\n",
    "cumulative = (np.cumsum(values) / np.sum(values)) * 100"
   ]
  },
  {
   "cell_type": "code",
   "execution_count": 121,
   "id": "cd509fc4",
   "metadata": {},
   "outputs": [
    {
     "data": {
      "image/png": "[encoded data removed]",
      "text/plain": [
       "<Figure size 576x360 with 2 Axes>"
      ]
     },
     "metadata": {
      "needs_background": "light"
     },
     "output_type": "display_data"
    }
   ],
   "source": [
    "fig, ax = plt.subplots(figsize=(8, 5))\n",
    "ax2 = ax.twinx()\n",
    "ax.bar(base[:-1], values, log=True, color='turquoise')\n",
    "# ax.hist(all_n_pts, log=True, color='turquoise', bins=bins)\n",
    "ax2.step(base[:-1], cumulative, c='blue', where='mid')\n",
    "ax.set_ylabel(\"Counts\", fontsize=14)\n",
    "ax2.set_ylabel(\"Cumulative percentage\", fontsize=14)\n",
    "ax.tick_params(axis='x', labelsize=14)\n",
    "ax2.tick_params(axis='y', labelsize=14)\n",
    "ax.tick_params(axis='y', labelsize=14)\n",
    "ax.set_xlabel(\"Number of reported data points\", fontsize=14)\n",
    "fig.tight_layout()\n",
    "fig.show()\n",
    "fig.savefig('figures/data_point_distribution.png', dpi=150)"
   ]
  },
  {
   "cell_type": "code",
   "execution_count": 115,
   "id": "9787de8f",
   "metadata": {},
   "outputs": [
    {
     "data": {
      "text/plain": [
       "array([15291,  2224,   432,   251,    97,    78,    36,    41,    21,\n",
       "          20,    14,    10,     9,     6,     6,     9,     6,     3,\n",
       "           3,     7,     2,     2,     3,     5,     1,     2,     2,\n",
       "           4,     1,     1,     1,     0,     0,     0,     0,     0,\n",
       "           0,     1,     0,     0,     0,     1,     0,     0,     0,\n",
       "           0,     1,     0])"
      ]
     },
     "execution_count": 115,
     "metadata": {},
     "output_type": "execute_result"
    }
   ],
   "source": [
    "values"
   ]
  },
  {
   "cell_type": "code",
   "execution_count": 117,
   "id": "beaa98cd",
   "metadata": {},
   "outputs": [
    {
     "data": {
      "text/plain": [
       "array([0.82249476, 0.94212253, 0.96535958, 0.97886074, 0.98407832,\n",
       "       0.9882739 , 0.99021032, 0.99241569, 0.99354526, 0.99462105,\n",
       "       0.99537411, 0.995912  , 0.99639611, 0.99671884, 0.99704158,\n",
       "       0.99752568, 0.99784842, 0.99800979, 0.99817116, 0.99854768,\n",
       "       0.99865526, 0.99876284, 0.99892421, 0.99919316, 0.99924695,\n",
       "       0.99935453, 0.99946211, 0.99967726, 0.99973105, 0.99978484,\n",
       "       0.99983863, 0.99983863, 0.99983863, 0.99983863, 0.99983863,\n",
       "       0.99983863, 0.99983863, 0.99989242, 0.99989242, 0.99989242,\n",
       "       0.99989242, 0.99994621, 0.99994621, 0.99994621, 0.99994621,\n",
       "       0.99994621, 1.        , 1.        ])"
      ]
     },
     "execution_count": 117,
     "metadata": {},
     "output_type": "execute_result"
    }
   ],
   "source": [
    "cumulative"
   ]
  },
  {
   "cell_type": "code",
   "execution_count": null,
   "id": "c7a7e29c",
   "metadata": {},
   "outputs": [],
   "source": []
  }
 ],
 "metadata": {
  "kernelspec": {
   "display_name": "syn_gen",
   "language": "python",
   "name": "syn_gen"
  },
  "language_info": {
   "codemirror_mode": {
    "name": "ipython",
    "version": 3
   },
   "file_extension": ".py",
   "mimetype": "text/x-python",
   "name": "python",
   "nbconvert_exporter": "python",
   "pygments_lexer": "ipython3",
   "version": "3.7.3"
  }
 },
 "nbformat": 4,
 "nbformat_minor": 5
}
