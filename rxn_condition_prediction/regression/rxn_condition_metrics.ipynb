{
 "cells": [
  {
   "cell_type": "code",
   "execution_count": 1,
   "id": "066889fc",
   "metadata": {},
   "outputs": [],
   "source": [
    "%load_ext autoreload\n",
    "%autoreload 2\n",
    "from condition_modeling import train\n",
    "import matplotlib.pyplot as plt\n",
    "import seaborn as sns\n",
    "import numpy as np\n",
    "import pandas as pd\n",
    "import json\n",
    "import pickle as pkl\n",
    "from sklearn.metrics import mean_squared_error, mean_absolute_error, r2_score\n",
    "from scipy.stats import gaussian_kde\n",
    "import matplotlib.cm as cm\n",
    "import time"
   ]
  },
  {
   "cell_type": "code",
   "execution_count": null,
   "id": "8f2c9727",
   "metadata": {},
   "outputs": [
    {
     "name": "stdout",
     "output_type": "stream",
     "text": [
      "Returning extracted data of 51574/31782 reactions.\n"
     ]
    },
    {
     "data": {
      "application/vnd.jupyter.widget-view+json": {
       "model_id": "136754ea1d1c424587bd822575a2fd31",
       "version_major": 2,
       "version_minor": 0
      },
      "text/plain": [
       "HBox(children=(HTML(value='StrToComposition'), FloatProgress(value=0.0, max=12228.0), HTML(value='')))"
      ]
     },
     "metadata": {},
     "output_type": "display_data"
    },
    {
     "name": "stdout",
     "output_type": "stream",
     "text": [
      "\n"
     ]
    },
    {
     "data": {
      "application/vnd.jupyter.widget-view+json": {
       "model_id": "d9c6340f37e74fc0a56d0fda2fe9600e",
       "version_major": 2,
       "version_minor": 0
      },
      "text/plain": [
       "HBox(children=(HTML(value='MultipleFeaturizer'), FloatProgress(value=0.0, max=12228.0), HTML(value='')))"
      ]
     },
     "metadata": {},
     "output_type": "display_data"
    },
    {
     "name": "stdout",
     "output_type": "stream",
     "text": [
      "\n",
      "Shape of X: (12228, 102)\n",
      "Shape of y: (12228,)\n",
      "100%|██████████| 100/100 [00:49<00:00,  2.01trial/s, best loss: 114.98240395033112]\n",
      "100%|██████████| 100/100 [00:53<00:00,  1.87trial/s, best loss: 114.91136131047223]\n",
      "100%|██████████| 100/100 [00:56<00:00,  1.78trial/s, best loss: 116.51989624088218]\n",
      "100%|██████████| 100/100 [00:50<00:00,  1.99trial/s, best loss: 113.94643335644182]\n",
      "100%|██████████| 100/100 [00:56<00:00,  1.78trial/s, best loss: 115.23764069520432]\n",
      "100%|██████████| 100/100 [00:50<00:00,  1.96trial/s, best loss: 116.56743221315699]\n",
      "100%|██████████| 100/100 [00:55<00:00,  1.81trial/s, best loss: 113.9735924179674]\n",
      "100%|██████████| 100/100 [00:50<00:00,  1.97trial/s, best loss: 114.88502220889825]\n",
      "100%|██████████| 100/100 [00:53<00:00,  1.89trial/s, best loss: 114.92161213520589]\n",
      "100%|██████████| 100/100 [00:52<00:00,  1.90trial/s, best loss: 112.67867093937193]\n",
      "Returning extracted data of 51574/31782 reactions.\n"
     ]
    },
    {
     "data": {
      "application/vnd.jupyter.widget-view+json": {
       "model_id": "df9d2aaf20444b63ba9cce67a27f6b32",
       "version_major": 2,
       "version_minor": 0
      },
      "text/plain": [
       "HBox(children=(HTML(value='StrToComposition'), FloatProgress(value=0.0, max=12228.0), HTML(value='')))"
      ]
     },
     "metadata": {},
     "output_type": "display_data"
    },
    {
     "name": "stdout",
     "output_type": "stream",
     "text": [
      "\n"
     ]
    },
    {
     "data": {
      "application/vnd.jupyter.widget-view+json": {
       "model_id": "1df840544a96427c8c18e751be583fbf",
       "version_major": 2,
       "version_minor": 0
      },
      "text/plain": [
       "HBox(children=(HTML(value='MultipleFeaturizer'), FloatProgress(value=0.0, max=12228.0), HTML(value='')))"
      ]
     },
     "metadata": {},
     "output_type": "display_data"
    },
    {
     "name": "stdout",
     "output_type": "stream",
     "text": [
      "\n",
      "Shape of X: (12228, 77)\n",
      "Shape of y: (12228,)\n",
      "100%|██████████| 100/100 [02:03<00:00,  1.23s/trial, best loss: 117.02490308278394]\n",
      " 20%|██        | 20/100 [00:18<01:25,  1.07s/trial, best loss: 117.7716989271907]"
     ]
    }
   ],
   "source": [
    "# objectives = [\n",
    "#     \"calcine_temp\",\n",
    "#     \"sinter_temp\",\n",
    "#     \"anneal_temp\",\n",
    "#     \"dry_temp\",\n",
    "#     \"calcine_time\",\n",
    "#     \"sinter_time\",\n",
    "#     \"anneal_time\",\n",
    "#     \"dry_time\"\n",
    "# ]\n",
    "objectives = [\n",
    "    \"calcine_temp\",\n",
    "    \"sinter_temp\",\n",
    "    \"calcine_time\",\n",
    "    \"sinter_time\"\n",
    "]\n",
    "\n",
    "models = [\"xgb\", \"lr\", \"rf\", \"nn\"]\n",
    "featurizations = [\"mp_fraction\", \"pca\"]\n",
    "\n",
    "start = time.time()\n",
    "\n",
    "results = []\n",
    "for objective in objectives:\n",
    "    for model in models:\n",
    "        for featurization in featurizations:\n",
    "            best_params, best_estimators, y_pred_train, y_pred_test, X_train_k, X_test_k, y_train_k, y_test_k, n_pts_train_k, n_pts_test_k = train(model=model, objective=objective, featurization=featurization)\n",
    "            \n",
    "            maes, rmses, r2s, mres = [], [], [], []\n",
    "            for i, j in zip(y_test_k, y_pred_test):\n",
    "                maes.append(mean_absolute_error(i, j))\n",
    "                rmses.append(mean_squared_error(i, j, squared=False))\n",
    "                mres.append(np.mean((np.abs(j-i)/i)*100))\n",
    "                r2s.append(r2_score(i, j))\n",
    "\n",
    "            result = {\n",
    "                \"objective\": objective,\n",
    "                \"model\": model,\n",
    "                \"featurization\": featurization,\n",
    "                \"MAE\": str(np.mean(maes)),\n",
    "                \"MAE_std\": str(np.std(maes)),\n",
    "                \"RMSE\": str(np.mean(rmses)),\n",
    "                \"RMSE_std\": str(np.std(rmses)),\n",
    "                \"MRE\": str(np.mean(mres)),\n",
    "                \"MRE_std\": str(np.std(mres)),\n",
    "                \"R2\": str(np.mean(r2s)),\n",
    "                \"R2_std\": str(np.std(r2s))\n",
    "            }\n",
    "            results.append(result)\n",
    "            with open('data/rxn_condition_log_full.json', 'w') as f:\n",
    "                json.dump(results, f, indent=4)\n",
    "            with open('data/time_log.txt', 'a') as f:\n",
    "                f.writelines(str((time.time() - start)/60) + \"\\n\")\n",
    "                \n",
    "            all_results = [best_params, best_estimators, y_pred_train, y_pred_test, X_train_k, X_test_k, y_train_k, y_test_k, n_pts_train_k, n_pts_test_k]\n",
    "            with open(f'data/{model}_{featurization}_{objective}_data.pkl', 'wb') as f:\n",
    "                pkl.dump(all_results, f)"
   ]
  },
  {
   "cell_type": "code",
   "execution_count": 31,
   "id": "94b7de51",
   "metadata": {},
   "outputs": [
    {
     "name": "stdout",
     "output_type": "stream",
     "text": [
      "85.23843617451693 4.981680215544352\n",
      "169.20423282351908 8.377821322858164\n",
      "0.5600349498779509 0.0580263994536382\n",
      "58.03733803912053 3.247330779799726\n"
     ]
    }
   ],
   "source": [
    "maes, rmses, r2s, mres = [], [], [], []\n",
    "for i, j in zip(y_test_k, y_pred_test):\n",
    "    maes.append(mean_absolute_error(i, j))\n",
    "    rmses.append(mean_squared_error(i, j, squared=False))\n",
    "    mres.append(np.mean((np.abs(j-i)/i)*100))\n",
    "    r2s.append(r2_score(i, j))\n",
    "\n",
    "print(np.mean(maes), np.std(maes))\n",
    "print(np.mean(rmses), np.std(rmses))\n",
    "print(np.mean(r2s), np.std(r2s))\n",
    "print(np.mean(mres), np.std(mres))"
   ]
  },
  {
   "cell_type": "code",
   "execution_count": 1,
   "id": "028d5bd3",
   "metadata": {},
   "outputs": [
    {
     "ename": "NameError",
     "evalue": "name 'plt' is not defined",
     "output_type": "error",
     "traceback": [
      "\u001b[0;31m---------------------------------------------------------------------------\u001b[0m",
      "\u001b[0;31mNameError\u001b[0m                                 Traceback (most recent call last)",
      "\u001b[0;32m<ipython-input-1-f8ed79df9e77>\u001b[0m in \u001b[0;36m<module>\u001b[0;34m\u001b[0m\n\u001b[1;32m      1\u001b[0m \u001b[0;31m# make a regression figure\u001b[0m\u001b[0;34m\u001b[0m\u001b[0;34m\u001b[0m\u001b[0;34m\u001b[0m\u001b[0m\n\u001b[0;32m----> 2\u001b[0;31m \u001b[0mfig\u001b[0m\u001b[0;34m,\u001b[0m \u001b[0max\u001b[0m \u001b[0;34m=\u001b[0m \u001b[0mplt\u001b[0m\u001b[0;34m.\u001b[0m\u001b[0msubplots\u001b[0m\u001b[0;34m(\u001b[0m\u001b[0;34m)\u001b[0m\u001b[0;34m\u001b[0m\u001b[0;34m\u001b[0m\u001b[0m\n\u001b[0m\u001b[1;32m      3\u001b[0m \u001b[0;31m# to_plot_x = y_test_k[np.argmin(rmses)]\u001b[0m\u001b[0;34m\u001b[0m\u001b[0;34m\u001b[0m\u001b[0;34m\u001b[0m\u001b[0m\n\u001b[1;32m      4\u001b[0m \u001b[0;31m# to_plot_y = y_pred_test[np.argmin(rmses)]\u001b[0m\u001b[0;34m\u001b[0m\u001b[0;34m\u001b[0m\u001b[0;34m\u001b[0m\u001b[0m\n\u001b[1;32m      5\u001b[0m \u001b[0mto_plot_x\u001b[0m \u001b[0;34m=\u001b[0m \u001b[0my_test_k\u001b[0m\u001b[0;34m[\u001b[0m\u001b[0;36m8\u001b[0m\u001b[0;34m]\u001b[0m\u001b[0;34m\u001b[0m\u001b[0;34m\u001b[0m\u001b[0m\n",
      "\u001b[0;31mNameError\u001b[0m: name 'plt' is not defined"
     ]
    }
   ],
   "source": [
    "# make a regression figure\n",
    "fig, ax = plt.subplots()\n",
    "# to_plot_x = y_test_k[np.argmin(rmses)]\n",
    "# to_plot_y = y_pred_test[np.argmin(rmses)]\n",
    "to_plot_x = y_test_k[8]\n",
    "to_plot_y = y_pred_test[8]\n",
    "\n",
    "# Calculate the point density\n",
    "xy = np.vstack([to_plot_x,to_plot_y])\n",
    "z = gaussian_kde(xy)(xy)\n",
    "\n",
    "# Sort the points by density, so that the densest points are plotted last\n",
    "idx = z.argsort()\n",
    "to_plot_x, to_plot_y, z = to_plot_x[idx], to_plot_y[idx], z[idx]\n",
    "\n",
    "ax_ = ax.scatter(to_plot_x, to_plot_y, c=z, cmap=cm.jet, s=25)\n",
    "cbar = plt.colorbar(ax_)\n",
    "cbar.set_label(\"KDE Density\", labelpad=15, fontsize=14)\n",
    "\n",
    "plt.xlim(0, 2000)\n",
    "plt.ylim(0, 2000)\n",
    "plt.plot([0, 2000], [0, 2000], color='black', linestyle='dashed')\n",
    "ax.set_title(\"Sintering\", fontsize=16)\n",
    "ax.set_xlabel(\"True Temperature ($^{\\circ}$C)\", fontsize=14)\n",
    "ax.set_ylabel(\"Predicted Temperature ($^{\\circ}$C)\", fontsize=14)\n",
    "fig.tight_layout()\n",
    "plt.show()\n",
    "# fig.savefig(\"figures/xgb_sinter_parity.png\", dpi=150)"
   ]
  },
  {
   "cell_type": "code",
   "execution_count": null,
   "id": "347e0593",
   "metadata": {},
   "outputs": [],
   "source": []
  }
 ],
 "metadata": {
  "kernelspec": {
   "display_name": "chris",
   "language": "python",
   "name": "chris"
  },
  "language_info": {
   "codemirror_mode": {
    "name": "ipython",
    "version": 3
   },
   "file_extension": ".py",
   "mimetype": "text/x-python",
   "name": "python",
   "nbconvert_exporter": "python",
   "pygments_lexer": "ipython3",
   "version": "3.7.3"
  }
 },
 "nbformat": 4,
 "nbformat_minor": 5
}
