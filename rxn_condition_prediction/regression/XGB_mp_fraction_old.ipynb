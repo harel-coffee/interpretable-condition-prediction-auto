{
 "cells": [
  {
   "cell_type": "code",
   "execution_count": 1,
   "id": "1ec3980b",
   "metadata": {},
   "outputs": [],
   "source": [
    "import matplotlib.pyplot as plt\n",
    "import seaborn as sns\n",
    "import numpy as np\n",
    "import pandas as pd\n",
    "from pymatgen.core import Composition, Element\n",
    "import pickle as pkl\n",
    "from matminer.featurizers.base import MultipleFeaturizer\n",
    "from matminer.featurizers import composition as cf\n",
    "from matminer.featurizers.conversions import StrToComposition\n",
    "from sklearn.ensemble import RandomForestRegressor\n",
    "from sklearn.model_selection import train_test_split, KFold\n",
    "from sklearn.metrics import mean_squared_error, r2_score, mean_absolute_error\n",
    "from sklearn.utils import shuffle\n",
    "import sys, os\n",
    "sys.path.append('/home/jupyter/CJK/TempTime')\n",
    "from data_extraction_rxn_classification_all_targets import *\n",
    "import shap\n",
    "import json\n",
    "from xgboost import XGBRegressor\n",
    "from hyperopt import fmin, tpe, hp, STATUS_OK\n",
    "import time\n",
    "from scipy.stats import gaussian_kde\n",
    "import matplotlib.cm as cm"
   ]
  },
  {
   "cell_type": "code",
   "execution_count": 2,
   "id": "c74615df",
   "metadata": {},
   "outputs": [],
   "source": [
    "all_elements = [Element.from_Z(i).symbol for i in range(1, 119)]"
   ]
  },
  {
   "cell_type": "code",
   "execution_count": 3,
   "id": "966cf01c",
   "metadata": {},
   "outputs": [
    {
     "name": "stdout",
     "output_type": "stream",
     "text": [
      "Returning extracted data of 51574/31782 reactions.\n"
     ]
    }
   ],
   "source": [
    "with open('/home/jupyter/CJK/TempTime/data/solid-state_dataset_20200713.json') as f:\n",
    "    ss_data= json.load(f)\n",
    "ss_reactions = ss_data[\"reactions\"]\n",
    "ss_extracted, ss_precursor_nomenclature = extract_solidstate(ss_reactions, max_pre=5)"
   ]
  },
  {
   "cell_type": "code",
   "execution_count": 4,
   "id": "02207880",
   "metadata": {},
   "outputs": [],
   "source": [
    "with open('/home/jupyter/CJK/TempTime/data/ss_extracted_NO_IMPUTATION_precs_all_targets.pkl', 'rb') as f:\n",
    "    papers = pkl.load(f)"
   ]
  },
  {
   "cell_type": "code",
   "execution_count": 5,
   "id": "80fc0c91",
   "metadata": {},
   "outputs": [],
   "source": [
    "# only use papers with sinter temps\n",
    "papers = [x for x in papers if not np.isnan(x['temp_time_vector'][0])]"
   ]
  },
  {
   "cell_type": "code",
   "execution_count": 6,
   "id": "04a8f2ac",
   "metadata": {},
   "outputs": [],
   "source": [
    "targets = [x['target'] for x in papers]\n",
    "precursors = [x['precursors'] for x in papers]\n",
    "temps = [x['temp_time_vector'][0] for x in papers]\n",
    "dois = [x['DOI'] for x in papers]"
   ]
  },
  {
   "cell_type": "code",
   "execution_count": 7,
   "id": "c4d758a6",
   "metadata": {},
   "outputs": [],
   "source": [
    "# get means\n",
    "only_ss_rxns = []\n",
    "for target, precs, temps, doi in zip(targets, precursors, temps, dois):\n",
    "    if len(precs) == 0:\n",
    "        continue\n",
    "    found = False\n",
    "    for result in only_ss_rxns:\n",
    "        if result[\"target\"] == target and set(result[\"precursors\"]) == set(precs):\n",
    "            result[\"ss_sinter_temps\"].append(temps)\n",
    "            result[\"DOIs\"].append(doi)\n",
    "            found = True\n",
    "    if not found:\n",
    "        new_result = {}\n",
    "        new_result[\"target\"] = target\n",
    "        new_result[\"precursors\"] = precs\n",
    "        new_result[\"ss_sinter_temps\"] = [temps]\n",
    "        new_result[\"DOIs\"] = [doi]\n",
    "        only_ss_rxns.append(new_result)"
   ]
  },
  {
   "cell_type": "code",
   "execution_count": 8,
   "id": "035fcafd",
   "metadata": {},
   "outputs": [],
   "source": [
    "num_pts = [len(x[\"ss_sinter_temps\"]) for x in only_ss_rxns]"
   ]
  },
  {
   "cell_type": "code",
   "execution_count": 9,
   "id": "63c73bfe",
   "metadata": {},
   "outputs": [
    {
     "data": {
      "text/plain": [
       "1      10037\n",
       "2       1493\n",
       "3        289\n",
       "4        146\n",
       "5         68\n",
       "6         50\n",
       "8         25\n",
       "7         21\n",
       "10        16\n",
       "9         14\n",
       "11        13\n",
       "14         8\n",
       "15         6\n",
       "17         4\n",
       "16         4\n",
       "24         3\n",
       "21         3\n",
       "13         3\n",
       "12         3\n",
       "19         2\n",
       "20         2\n",
       "18         2\n",
       "39         1\n",
       "25         1\n",
       "41         1\n",
       "57         1\n",
       "31         1\n",
       "62         1\n",
       "26         1\n",
       "82         1\n",
       "23         1\n",
       "22         1\n",
       "27         1\n",
       "47         1\n",
       "28         1\n",
       "45         1\n",
       "93         1\n",
       "103        1\n",
       "dtype: int64"
      ]
     },
     "execution_count": 9,
     "metadata": {},
     "output_type": "execute_result"
    }
   ],
   "source": [
    "pd.Series(num_pts).value_counts()"
   ]
  },
  {
   "cell_type": "code",
   "execution_count": 10,
   "id": "5973647d",
   "metadata": {},
   "outputs": [],
   "source": [
    "# change precursor functional groups back\n",
    "for rxn in only_ss_rxns:\n",
    "    for i in range(len(rxn['precursors'])):\n",
    "        rxn['precursors'][i] = ss_precursor_nomenclature[Composition(rxn['precursors'][i])]"
   ]
  },
  {
   "cell_type": "code",
   "execution_count": 11,
   "id": "1e00e234",
   "metadata": {},
   "outputs": [],
   "source": [
    "# Onehot precursor functional groups\n",
    "m_anions = ['H2PO4', 'HPO4', 'HCO3', 'HSO4', 'HSO3', 'C2O4']\n",
    "d_anions = ['CO3', 'PO4', 'PO3', 'OH', 'NH4', 'NO3', 'NO2', 'SO4', 'SO3', 'CN'] #BO3, VO4, NH2\n",
    "s_anions = ['F', 'B', 'P', 'Cl', 'F', 'Br', 'S', 'N', 'O', 'C']\n",
    "ions = m_anions + d_anions + s_anions + ['Org'] + ['Ac'] + ['Elem'] + ['Other']"
   ]
  },
  {
   "cell_type": "code",
   "execution_count": 12,
   "id": "5b829059",
   "metadata": {},
   "outputs": [],
   "source": [
    "ss_anion_dict = {x: [] for x in ions}\n",
    "for rxn in only_ss_rxns:\n",
    "    anion_dict = {x: [] for x in ions}\n",
    "    for prec in rxn['precursors']:\n",
    "        found = False\n",
    "        # check acetate first\n",
    "        if 'CH3COO' in prec:\n",
    "            anion_dict['Ac'].append(prec)\n",
    "            found = True\n",
    "        # check organic\n",
    "        elif all(Element(x) in Composition(prec).elements for x in ['C', 'H', 'O']) and Element('N') not in Composition(prec).elements:\n",
    "            anion_dict['Org'].append(prec)\n",
    "            found = True\n",
    "        else:\n",
    "            for anion in ions:\n",
    "                # special check for elemental anions\n",
    "                if (anion in all_elements and Element(anion) in Composition(prec).elements) or (anion not in all_elements and anion in prec):\n",
    "                    anion_dict[anion].append(prec)\n",
    "                    found = True\n",
    "                    break\n",
    "        if not found:\n",
    "            # check if precursor is elemental\n",
    "            if prec in all_elements:\n",
    "                anion_dict['Elem'].append(prec)\n",
    "            else:\n",
    "                anion_dict['Other'].append(prec)\n",
    "    # create fractional embedding\n",
    "    \n",
    "    for key in anion_dict:\n",
    "        ss_anion_dict[key].append(len(anion_dict[key]) / len(rxn['precursors']))\n",
    "        "
   ]
  },
  {
   "cell_type": "markdown",
   "id": "87608097",
   "metadata": {},
   "source": [
    "# add in melting point features"
   ]
  },
  {
   "cell_type": "code",
   "execution_count": 13,
   "id": "78a76c54",
   "metadata": {},
   "outputs": [],
   "source": [
    "with open('/home/jupyter/CJK/TempTime/rxn_classification_fraction/data/full_mp.json', 'r') as f:\n",
    "    full_mp = json.load(f)"
   ]
  },
  {
   "cell_type": "code",
   "execution_count": 14,
   "id": "417bd187",
   "metadata": {},
   "outputs": [],
   "source": [
    "full_mp = {Composition(x): full_mp[x] for x in full_mp}\n",
    "full_mp_median = np.median(list(full_mp.values()))"
   ]
  },
  {
   "cell_type": "code",
   "execution_count": 15,
   "id": "38cc25fb",
   "metadata": {},
   "outputs": [],
   "source": [
    "# add MP features\n",
    "for new_result in only_ss_rxns:\n",
    "    # precursor MP features\n",
    "    melting_points = [full_mp.get(Composition(x), full_mp_median) for x in new_result[\"precursors\"]]\n",
    "    new_result['feature_exp_min_mp'] = min(melting_points)\n",
    "    new_result['feature_exp_max_mp'] = max(melting_points)\n",
    "    new_result['feature_exp_mean_mp'] = np.mean(melting_points)\n",
    "    new_result['feature_exp_div_mp'] = max(melting_points) - min(melting_points)"
   ]
  },
  {
   "cell_type": "code",
   "execution_count": 16,
   "id": "a8f5ad43",
   "metadata": {},
   "outputs": [],
   "source": [
    "target_names = [x[\"target\"] for x in only_ss_rxns]\n",
    "precursors = [x[\"precursors\"] for x in only_ss_rxns]\n",
    "temps = [np.mean(x[\"ss_sinter_temps\"]) for x in only_ss_rxns]\n",
    "num_pts = [len(x[\"ss_sinter_temps\"]) for x in only_ss_rxns]\n",
    "feature_exp_min_mp = [x['feature_exp_min_mp'] for x in only_ss_rxns]\n",
    "feature_exp_max_mp = [x['feature_exp_max_mp'] for x in only_ss_rxns]\n",
    "feature_exp_mean_mp = [x['feature_exp_mean_mp'] for x in only_ss_rxns]\n",
    "feature_exp_div_mp = [x['feature_exp_div_mp'] for x in only_ss_rxns]"
   ]
  },
  {
   "cell_type": "code",
   "execution_count": 17,
   "id": "f77113b6",
   "metadata": {},
   "outputs": [],
   "source": [
    "feature_calculators = MultipleFeaturizer([\n",
    "    cf.ElementFraction()\n",
    "])"
   ]
  },
  {
   "cell_type": "code",
   "execution_count": 18,
   "id": "c7a0a291",
   "metadata": {},
   "outputs": [],
   "source": [
    "feature_labels = feature_calculators.feature_labels()"
   ]
  },
  {
   "cell_type": "code",
   "execution_count": 19,
   "id": "c011bc2c",
   "metadata": {},
   "outputs": [
    {
     "data": {
      "application/vnd.jupyter.widget-view+json": {
       "model_id": "53d78d7eaa1f48caab7cd9dd43c47289",
       "version_major": 2,
       "version_minor": 0
      },
      "text/plain": [
       "HBox(children=(HTML(value='StrToComposition'), FloatProgress(value=0.0, max=12228.0), HTML(value='')))"
      ]
     },
     "metadata": {},
     "output_type": "display_data"
    },
    {
     "name": "stdout",
     "output_type": "stream",
     "text": [
      "\n"
     ]
    },
    {
     "data": {
      "application/vnd.jupyter.widget-view+json": {
       "model_id": "da55d50d6aa74bd1b575da2339666646",
       "version_major": 2,
       "version_minor": 0
      },
      "text/plain": [
       "HBox(children=(HTML(value='MultipleFeaturizer'), FloatProgress(value=0.0, max=12228.0), HTML(value='')))"
      ]
     },
     "metadata": {},
     "output_type": "display_data"
    },
    {
     "name": "stdout",
     "output_type": "stream",
     "text": [
      "\n"
     ]
    }
   ],
   "source": [
    "data = pd.DataFrame()\n",
    "data[\"targets\"] = target_names\n",
    "data[\"precursors\"] = precursors\n",
    "data[\"temperatures\"] = temps\n",
    "df = StrToComposition(target_col_id=\"composition_obj\").featurize_dataframe(data, \"targets\", ignore_errors=True)\n",
    "df = feature_calculators.featurize_dataframe(df, col_id=\"composition_obj\", ignore_errors = True)"
   ]
  },
  {
   "cell_type": "code",
   "execution_count": 20,
   "id": "25bfaf82",
   "metadata": {},
   "outputs": [],
   "source": [
    "for key in ss_anion_dict:\n",
    "    df[key + \"_prec\"] = ss_anion_dict[key]"
   ]
  },
  {
   "cell_type": "code",
   "execution_count": 21,
   "id": "6caef01c",
   "metadata": {},
   "outputs": [],
   "source": [
    "df['feature_exp_min_mp'] = feature_exp_min_mp\n",
    "df['feature_exp_max_mp'] = feature_exp_max_mp\n",
    "df['feature_exp_mean_mp'] = feature_exp_mean_mp\n",
    "df['feature_exp_div_mp'] = feature_exp_div_mp"
   ]
  },
  {
   "cell_type": "code",
   "execution_count": 22,
   "id": "427c7fb7",
   "metadata": {},
   "outputs": [
    {
     "data": {
      "text/html": [
       "<div>\n",
       "<style scoped>\n",
       "    .dataframe tbody tr th:only-of-type {\n",
       "        vertical-align: middle;\n",
       "    }\n",
       "\n",
       "    .dataframe tbody tr th {\n",
       "        vertical-align: top;\n",
       "    }\n",
       "\n",
       "    .dataframe thead th {\n",
       "        text-align: right;\n",
       "    }\n",
       "</style>\n",
       "<table border=\"1\" class=\"dataframe\">\n",
       "  <thead>\n",
       "    <tr style=\"text-align: right;\">\n",
       "      <th></th>\n",
       "      <th>targets</th>\n",
       "      <th>precursors</th>\n",
       "      <th>temperatures</th>\n",
       "      <th>composition_obj</th>\n",
       "      <th>H</th>\n",
       "      <th>He</th>\n",
       "      <th>Li</th>\n",
       "      <th>Be</th>\n",
       "      <th>B</th>\n",
       "      <th>C</th>\n",
       "      <th>...</th>\n",
       "      <th>O_prec</th>\n",
       "      <th>C_prec</th>\n",
       "      <th>Org_prec</th>\n",
       "      <th>Ac_prec</th>\n",
       "      <th>Elem_prec</th>\n",
       "      <th>Other_prec</th>\n",
       "      <th>feature_exp_min_mp</th>\n",
       "      <th>feature_exp_max_mp</th>\n",
       "      <th>feature_exp_mean_mp</th>\n",
       "      <th>feature_exp_div_mp</th>\n",
       "    </tr>\n",
       "  </thead>\n",
       "  <tbody>\n",
       "    <tr>\n",
       "      <th>0</th>\n",
       "      <td>LiTi0.05Ni0.95O2</td>\n",
       "      <td>[LiOH, Ni(OH)2, TiO2]</td>\n",
       "      <td>550.0</td>\n",
       "      <td>(Li, Ti, Ni, O)</td>\n",
       "      <td>0.0</td>\n",
       "      <td>0</td>\n",
       "      <td>0.25</td>\n",
       "      <td>0.0</td>\n",
       "      <td>0.000000</td>\n",
       "      <td>0.0</td>\n",
       "      <td>...</td>\n",
       "      <td>0.333333</td>\n",
       "      <td>0.0</td>\n",
       "      <td>0.0</td>\n",
       "      <td>0.0</td>\n",
       "      <td>0.0</td>\n",
       "      <td>0.0</td>\n",
       "      <td>230.0</td>\n",
       "      <td>1855.0</td>\n",
       "      <td>921.666667</td>\n",
       "      <td>1625.0</td>\n",
       "    </tr>\n",
       "    <tr>\n",
       "      <th>1</th>\n",
       "      <td>Sr3SmP3O12</td>\n",
       "      <td>[(NH4)2HPO4, Sm2O3, SrCO3]</td>\n",
       "      <td>1250.0</td>\n",
       "      <td>(Sr, Sm, P, O)</td>\n",
       "      <td>0.0</td>\n",
       "      <td>0</td>\n",
       "      <td>0.00</td>\n",
       "      <td>0.0</td>\n",
       "      <td>0.000000</td>\n",
       "      <td>0.0</td>\n",
       "      <td>...</td>\n",
       "      <td>0.333333</td>\n",
       "      <td>0.0</td>\n",
       "      <td>0.0</td>\n",
       "      <td>0.0</td>\n",
       "      <td>0.0</td>\n",
       "      <td>0.0</td>\n",
       "      <td>155.0</td>\n",
       "      <td>2335.0</td>\n",
       "      <td>1329.000000</td>\n",
       "      <td>2180.0</td>\n",
       "    </tr>\n",
       "    <tr>\n",
       "      <th>2</th>\n",
       "      <td>Ba1.95MgEu0.05B2O6</td>\n",
       "      <td>[H3BO3, Ba(NO3)2, Eu2O3, Mg(NO3)2]</td>\n",
       "      <td>600.0</td>\n",
       "      <td>(Ba, Mg, Eu, B, O)</td>\n",
       "      <td>0.0</td>\n",
       "      <td>0</td>\n",
       "      <td>0.00</td>\n",
       "      <td>0.0</td>\n",
       "      <td>0.181818</td>\n",
       "      <td>0.0</td>\n",
       "      <td>...</td>\n",
       "      <td>0.250000</td>\n",
       "      <td>0.0</td>\n",
       "      <td>0.0</td>\n",
       "      <td>0.0</td>\n",
       "      <td>0.0</td>\n",
       "      <td>0.0</td>\n",
       "      <td>95.0</td>\n",
       "      <td>2350.0</td>\n",
       "      <td>801.975000</td>\n",
       "      <td>2255.0</td>\n",
       "    </tr>\n",
       "    <tr>\n",
       "      <th>3</th>\n",
       "      <td>Ba1.8MgEu0.2B2O6</td>\n",
       "      <td>[H3BO3, Ba(NO3)2, Eu2O3, Mg(NO3)2]</td>\n",
       "      <td>600.0</td>\n",
       "      <td>(Ba, Mg, Eu, B, O)</td>\n",
       "      <td>0.0</td>\n",
       "      <td>0</td>\n",
       "      <td>0.00</td>\n",
       "      <td>0.0</td>\n",
       "      <td>0.181818</td>\n",
       "      <td>0.0</td>\n",
       "      <td>...</td>\n",
       "      <td>0.250000</td>\n",
       "      <td>0.0</td>\n",
       "      <td>0.0</td>\n",
       "      <td>0.0</td>\n",
       "      <td>0.0</td>\n",
       "      <td>0.0</td>\n",
       "      <td>95.0</td>\n",
       "      <td>2350.0</td>\n",
       "      <td>801.975000</td>\n",
       "      <td>2255.0</td>\n",
       "    </tr>\n",
       "    <tr>\n",
       "      <th>4</th>\n",
       "      <td>Ba1.97MgEu0.03B2O6</td>\n",
       "      <td>[H3BO3, Ba(NO3)2, Eu2O3, Mg(NO3)2]</td>\n",
       "      <td>600.0</td>\n",
       "      <td>(Ba, Mg, Eu, B, O)</td>\n",
       "      <td>0.0</td>\n",
       "      <td>0</td>\n",
       "      <td>0.00</td>\n",
       "      <td>0.0</td>\n",
       "      <td>0.181818</td>\n",
       "      <td>0.0</td>\n",
       "      <td>...</td>\n",
       "      <td>0.250000</td>\n",
       "      <td>0.0</td>\n",
       "      <td>0.0</td>\n",
       "      <td>0.0</td>\n",
       "      <td>0.0</td>\n",
       "      <td>0.0</td>\n",
       "      <td>95.0</td>\n",
       "      <td>2350.0</td>\n",
       "      <td>801.975000</td>\n",
       "      <td>2255.0</td>\n",
       "    </tr>\n",
       "    <tr>\n",
       "      <th>...</th>\n",
       "      <td>...</td>\n",
       "      <td>...</td>\n",
       "      <td>...</td>\n",
       "      <td>...</td>\n",
       "      <td>...</td>\n",
       "      <td>...</td>\n",
       "      <td>...</td>\n",
       "      <td>...</td>\n",
       "      <td>...</td>\n",
       "      <td>...</td>\n",
       "      <td>...</td>\n",
       "      <td>...</td>\n",
       "      <td>...</td>\n",
       "      <td>...</td>\n",
       "      <td>...</td>\n",
       "      <td>...</td>\n",
       "      <td>...</td>\n",
       "      <td>...</td>\n",
       "      <td>...</td>\n",
       "      <td>...</td>\n",
       "      <td>...</td>\n",
       "    </tr>\n",
       "    <tr>\n",
       "      <th>12223</th>\n",
       "      <td>ZrTa2ZnO8</td>\n",
       "      <td>[Ta2O5, ZnO, ZrO2]</td>\n",
       "      <td>1200.0</td>\n",
       "      <td>(Zr, Ta, Zn, O)</td>\n",
       "      <td>0.0</td>\n",
       "      <td>0</td>\n",
       "      <td>0.00</td>\n",
       "      <td>0.0</td>\n",
       "      <td>0.000000</td>\n",
       "      <td>0.0</td>\n",
       "      <td>...</td>\n",
       "      <td>1.000000</td>\n",
       "      <td>0.0</td>\n",
       "      <td>0.0</td>\n",
       "      <td>0.0</td>\n",
       "      <td>0.0</td>\n",
       "      <td>0.0</td>\n",
       "      <td>1800.0</td>\n",
       "      <td>2710.0</td>\n",
       "      <td>2161.666667</td>\n",
       "      <td>910.0</td>\n",
       "    </tr>\n",
       "    <tr>\n",
       "      <th>12224</th>\n",
       "      <td>SrLa4Ti4O15</td>\n",
       "      <td>[La2O3, SrCO3, TiO2]</td>\n",
       "      <td>1000.0</td>\n",
       "      <td>(Sr, La, Ti, O)</td>\n",
       "      <td>0.0</td>\n",
       "      <td>0</td>\n",
       "      <td>0.00</td>\n",
       "      <td>0.0</td>\n",
       "      <td>0.000000</td>\n",
       "      <td>0.0</td>\n",
       "      <td>...</td>\n",
       "      <td>0.666667</td>\n",
       "      <td>0.0</td>\n",
       "      <td>0.0</td>\n",
       "      <td>0.0</td>\n",
       "      <td>0.0</td>\n",
       "      <td>0.0</td>\n",
       "      <td>1497.0</td>\n",
       "      <td>2315.0</td>\n",
       "      <td>1889.000000</td>\n",
       "      <td>818.0</td>\n",
       "    </tr>\n",
       "    <tr>\n",
       "      <th>12225</th>\n",
       "      <td>SrTa1.5Nb0.5Bi2O9</td>\n",
       "      <td>[Bi2O3, Nb2O5, SrCO3, Ta2O5]</td>\n",
       "      <td>850.0</td>\n",
       "      <td>(Sr, Ta, Nb, Bi, O)</td>\n",
       "      <td>0.0</td>\n",
       "      <td>0</td>\n",
       "      <td>0.00</td>\n",
       "      <td>0.0</td>\n",
       "      <td>0.000000</td>\n",
       "      <td>0.0</td>\n",
       "      <td>...</td>\n",
       "      <td>0.750000</td>\n",
       "      <td>0.0</td>\n",
       "      <td>0.0</td>\n",
       "      <td>0.0</td>\n",
       "      <td>0.0</td>\n",
       "      <td>0.0</td>\n",
       "      <td>171.0</td>\n",
       "      <td>1800.0</td>\n",
       "      <td>1247.000000</td>\n",
       "      <td>1629.0</td>\n",
       "    </tr>\n",
       "    <tr>\n",
       "      <th>12226</th>\n",
       "      <td>SrIn2O4</td>\n",
       "      <td>[In2O3, SrCO3]</td>\n",
       "      <td>550.0</td>\n",
       "      <td>(Sr, In, O)</td>\n",
       "      <td>0.0</td>\n",
       "      <td>0</td>\n",
       "      <td>0.00</td>\n",
       "      <td>0.0</td>\n",
       "      <td>0.000000</td>\n",
       "      <td>0.0</td>\n",
       "      <td>...</td>\n",
       "      <td>0.500000</td>\n",
       "      <td>0.0</td>\n",
       "      <td>0.0</td>\n",
       "      <td>0.0</td>\n",
       "      <td>0.0</td>\n",
       "      <td>0.0</td>\n",
       "      <td>1497.0</td>\n",
       "      <td>2000.0</td>\n",
       "      <td>1748.500000</td>\n",
       "      <td>503.0</td>\n",
       "    </tr>\n",
       "    <tr>\n",
       "      <th>12227</th>\n",
       "      <td>La2Y0.32Zr1.68O6.84</td>\n",
       "      <td>[La2O3, Y2O3, ZrO2]</td>\n",
       "      <td>1100.0</td>\n",
       "      <td>(La, Y, Zr, O)</td>\n",
       "      <td>0.0</td>\n",
       "      <td>0</td>\n",
       "      <td>0.00</td>\n",
       "      <td>0.0</td>\n",
       "      <td>0.000000</td>\n",
       "      <td>0.0</td>\n",
       "      <td>...</td>\n",
       "      <td>1.000000</td>\n",
       "      <td>0.0</td>\n",
       "      <td>0.0</td>\n",
       "      <td>0.0</td>\n",
       "      <td>0.0</td>\n",
       "      <td>0.0</td>\n",
       "      <td>2315.0</td>\n",
       "      <td>2710.0</td>\n",
       "      <td>2488.000000</td>\n",
       "      <td>395.0</td>\n",
       "    </tr>\n",
       "  </tbody>\n",
       "</table>\n",
       "<p>12228 rows × 140 columns</p>\n",
       "</div>"
      ],
      "text/plain": [
       "                   targets                          precursors  temperatures  \\\n",
       "0         LiTi0.05Ni0.95O2               [LiOH, Ni(OH)2, TiO2]         550.0   \n",
       "1               Sr3SmP3O12          [(NH4)2HPO4, Sm2O3, SrCO3]        1250.0   \n",
       "2       Ba1.95MgEu0.05B2O6  [H3BO3, Ba(NO3)2, Eu2O3, Mg(NO3)2]         600.0   \n",
       "3         Ba1.8MgEu0.2B2O6  [H3BO3, Ba(NO3)2, Eu2O3, Mg(NO3)2]         600.0   \n",
       "4       Ba1.97MgEu0.03B2O6  [H3BO3, Ba(NO3)2, Eu2O3, Mg(NO3)2]         600.0   \n",
       "...                    ...                                 ...           ...   \n",
       "12223            ZrTa2ZnO8                  [Ta2O5, ZnO, ZrO2]        1200.0   \n",
       "12224          SrLa4Ti4O15                [La2O3, SrCO3, TiO2]        1000.0   \n",
       "12225    SrTa1.5Nb0.5Bi2O9        [Bi2O3, Nb2O5, SrCO3, Ta2O5]         850.0   \n",
       "12226              SrIn2O4                      [In2O3, SrCO3]         550.0   \n",
       "12227  La2Y0.32Zr1.68O6.84                 [La2O3, Y2O3, ZrO2]        1100.0   \n",
       "\n",
       "           composition_obj    H  He    Li   Be         B    C  ...    O_prec  \\\n",
       "0          (Li, Ti, Ni, O)  0.0   0  0.25  0.0  0.000000  0.0  ...  0.333333   \n",
       "1           (Sr, Sm, P, O)  0.0   0  0.00  0.0  0.000000  0.0  ...  0.333333   \n",
       "2       (Ba, Mg, Eu, B, O)  0.0   0  0.00  0.0  0.181818  0.0  ...  0.250000   \n",
       "3       (Ba, Mg, Eu, B, O)  0.0   0  0.00  0.0  0.181818  0.0  ...  0.250000   \n",
       "4       (Ba, Mg, Eu, B, O)  0.0   0  0.00  0.0  0.181818  0.0  ...  0.250000   \n",
       "...                    ...  ...  ..   ...  ...       ...  ...  ...       ...   \n",
       "12223      (Zr, Ta, Zn, O)  0.0   0  0.00  0.0  0.000000  0.0  ...  1.000000   \n",
       "12224      (Sr, La, Ti, O)  0.0   0  0.00  0.0  0.000000  0.0  ...  0.666667   \n",
       "12225  (Sr, Ta, Nb, Bi, O)  0.0   0  0.00  0.0  0.000000  0.0  ...  0.750000   \n",
       "12226          (Sr, In, O)  0.0   0  0.00  0.0  0.000000  0.0  ...  0.500000   \n",
       "12227       (La, Y, Zr, O)  0.0   0  0.00  0.0  0.000000  0.0  ...  1.000000   \n",
       "\n",
       "       C_prec  Org_prec  Ac_prec  Elem_prec  Other_prec  feature_exp_min_mp  \\\n",
       "0         0.0       0.0      0.0        0.0         0.0               230.0   \n",
       "1         0.0       0.0      0.0        0.0         0.0               155.0   \n",
       "2         0.0       0.0      0.0        0.0         0.0                95.0   \n",
       "3         0.0       0.0      0.0        0.0         0.0                95.0   \n",
       "4         0.0       0.0      0.0        0.0         0.0                95.0   \n",
       "...       ...       ...      ...        ...         ...                 ...   \n",
       "12223     0.0       0.0      0.0        0.0         0.0              1800.0   \n",
       "12224     0.0       0.0      0.0        0.0         0.0              1497.0   \n",
       "12225     0.0       0.0      0.0        0.0         0.0               171.0   \n",
       "12226     0.0       0.0      0.0        0.0         0.0              1497.0   \n",
       "12227     0.0       0.0      0.0        0.0         0.0              2315.0   \n",
       "\n",
       "       feature_exp_max_mp  feature_exp_mean_mp  feature_exp_div_mp  \n",
       "0                  1855.0           921.666667              1625.0  \n",
       "1                  2335.0          1329.000000              2180.0  \n",
       "2                  2350.0           801.975000              2255.0  \n",
       "3                  2350.0           801.975000              2255.0  \n",
       "4                  2350.0           801.975000              2255.0  \n",
       "...                   ...                  ...                 ...  \n",
       "12223              2710.0          2161.666667               910.0  \n",
       "12224              2315.0          1889.000000               818.0  \n",
       "12225              1800.0          1247.000000              1629.0  \n",
       "12226              2000.0          1748.500000               503.0  \n",
       "12227              2710.0          2488.000000               395.0  \n",
       "\n",
       "[12228 rows x 140 columns]"
      ]
     },
     "execution_count": 22,
     "metadata": {},
     "output_type": "execute_result"
    }
   ],
   "source": [
    "df"
   ]
  },
  {
   "cell_type": "code",
   "execution_count": 23,
   "id": "b3bd3f22",
   "metadata": {},
   "outputs": [],
   "source": [
    "zero_cols = [ col for col, is_zero in ((df == 0).sum() == df.shape[0]).items() if is_zero ]"
   ]
  },
  {
   "cell_type": "code",
   "execution_count": 24,
   "id": "d1618e65",
   "metadata": {
    "scrolled": true
   },
   "outputs": [
    {
     "data": {
      "text/plain": [
       "['He',\n",
       " 'Ne',\n",
       " 'Ar',\n",
       " 'As',\n",
       " 'Kr',\n",
       " 'Tc',\n",
       " 'Xe',\n",
       " 'Pm',\n",
       " 'Os',\n",
       " 'Au',\n",
       " 'Po',\n",
       " 'At',\n",
       " 'Rn',\n",
       " 'Fr',\n",
       " 'Ra',\n",
       " 'Ac',\n",
       " 'Pa',\n",
       " 'Np',\n",
       " 'Cm',\n",
       " 'Bk',\n",
       " 'Cf',\n",
       " 'Es',\n",
       " 'Fm',\n",
       " 'Md',\n",
       " 'No',\n",
       " 'Lr',\n",
       " 'HCO3_prec',\n",
       " 'HSO4_prec',\n",
       " 'HSO3_prec',\n",
       " 'PO3_prec',\n",
       " 'NO2_prec',\n",
       " 'SO3_prec',\n",
       " 'CN_prec',\n",
       " 'C_prec']"
      ]
     },
     "execution_count": 24,
     "metadata": {},
     "output_type": "execute_result"
    }
   ],
   "source": [
    "zero_cols"
   ]
  },
  {
   "cell_type": "code",
   "execution_count": 25,
   "id": "0f06c834",
   "metadata": {},
   "outputs": [
    {
     "name": "stdout",
     "output_type": "stream",
     "text": [
      "Shape of X: (12228, 102)\n",
      "Shape of y: (12228,)\n"
     ]
    }
   ],
   "source": [
    "omit_columns = ['targets', 'precursors', 'temperatures', 'composition_obj'] + zero_cols\n",
    "X_columns = [x for x in df.columns if x not in omit_columns]\n",
    "y_column = 'temperatures'\n",
    "X_df = df[X_columns]\n",
    "X_columns = list(X_df.columns)\n",
    "X = X_df.values\n",
    "y = df[y_column].values\n",
    "print(\"Shape of X: {}\".format(X.shape))\n",
    "print(\"Shape of y: {}\".format(y.shape))\n",
    "X, y, n_pts = shuffle(X, y, num_pts, random_state=42)\n",
    "n_pts = np.array(n_pts)"
   ]
  },
  {
   "cell_type": "markdown",
   "id": "b39b14d6",
   "metadata": {},
   "source": [
    "# Hyperparameter tuning and model metrics"
   ]
  },
  {
   "cell_type": "code",
   "execution_count": 26,
   "id": "83b8dfbf",
   "metadata": {},
   "outputs": [],
   "source": [
    "# hyperparameter tuning\n",
    "# XGB hyperparameters\n",
    "\n",
    "n_estimators = [25, 50, 100, 200]\n",
    "max_depth=[3, 6, 9]\n",
    "learning_rate = [0.1, 0.2, 0.3]\n",
    "colsample_bytree = [0.6, 0.8, 1]\n",
    "colsample_bylevel = [0.6, 0.8, 1]\n",
    "min_child_weight = [1, 2, 3]\n",
    "subsample = [0.7, 0.9, 1]\n",
    "\n",
    "orig_parameters = {'n_estimators': n_estimators,\n",
    "              'max_depth': max_depth,\n",
    "              'learning_rate': learning_rate,\n",
    "              'colsample_bytree': colsample_bytree,\n",
    "              'colsample_bylevel': colsample_bylevel,\n",
    "              'min_child_weight': min_child_weight,\n",
    "              'subsample': subsample\n",
    "}\n",
    "\n",
    "# Create the random grid\n",
    "parameters = {'n_estimators': hp.choice('n_estimators', n_estimators),\n",
    "              'max_depth': hp.choice('max_depth', max_depth),\n",
    "              'learning_rate': hp.choice('learning_rate', learning_rate),\n",
    "              'colsample_bytree': hp.choice('colsample_bytree', colsample_bytree),\n",
    "              'colsample_bylevel': hp.choice('colsample_bylevel', colsample_bylevel),\n",
    "              'min_child_weight': hp.choice('min_child_weight', min_child_weight),\n",
    "              'subsample': hp.choice('subsample', subsample)\n",
    "}\n",
    "\n",
    "def objective(parameters):\n",
    "    regr = XGBRegressor(\n",
    "        n_estimators=parameters['n_estimators'],\n",
    "        max_depth=parameters['max_depth'],\n",
    "        learning_rate=parameters['learning_rate'],\n",
    "        colsample_bytree=parameters['colsample_bytree'],\n",
    "        colsample_bylevel=parameters['colsample_bylevel'],\n",
    "        min_child_weight=parameters['min_child_weight'],\n",
    "        subsample=parameters['subsample'],\n",
    "        objective =\"reg:squarederror\"\n",
    "    )\n",
    "\n",
    "    regr.fit(X_train_curr, y_train_curr, eval_metric='rmse')\n",
    "    \n",
    "    y_pred_val = regr.predict(X_val)\n",
    "    rmse = mean_squared_error(y_val, y_pred_val, squared=False)\n",
    "    \n",
    "    return {'loss': rmse, 'status': STATUS_OK}"
   ]
  },
  {
   "cell_type": "code",
   "execution_count": 27,
   "id": "16215a78",
   "metadata": {},
   "outputs": [
    {
     "name": "stdout",
     "output_type": "stream",
     "text": [
      "100%|██████████| 100/100 [01:12<00:00,  1.37trial/s, best loss: 116.62890259860613]\n",
      "100%|██████████| 100/100 [01:19<00:00,  1.26trial/s, best loss: 115.6498476742843]\n",
      "100%|██████████| 100/100 [01:21<00:00,  1.23trial/s, best loss: 116.29220280310324]\n",
      "100%|██████████| 100/100 [01:03<00:00,  1.58trial/s, best loss: 115.70841246940674]\n",
      "100%|██████████| 100/100 [01:11<00:00,  1.40trial/s, best loss: 115.13476234858099]\n",
      "100%|██████████| 100/100 [01:00<00:00,  1.65trial/s, best loss: 115.11463547381878]\n",
      "100%|██████████| 100/100 [01:03<00:00,  1.59trial/s, best loss: 113.81541594758069]\n",
      "100%|██████████| 100/100 [01:02<00:00,  1.59trial/s, best loss: 115.43686389696917]\n",
      "100%|██████████| 100/100 [01:04<00:00,  1.55trial/s, best loss: 113.83079899448826]\n",
      "100%|██████████| 100/100 [01:06<00:00,  1.50trial/s, best loss: 114.07208565855682]\n"
     ]
    }
   ],
   "source": [
    "best_params = []\n",
    "best_estimators = []\n",
    "y_pred_train, y_pred_test = [], []\n",
    "X_train_k, X_test_k = [], []\n",
    "y_train_k, y_test_k = [], []\n",
    "n_pts_train_k, n_pts_test_k = [], []\n",
    "\n",
    "kf = KFold(n_splits=10, shuffle=False)\n",
    "start = time.time()\n",
    "\n",
    "for train_index, test_index in kf.split(X):\n",
    "    # print((time.time() - start) / 60)\n",
    "    # create train and test for this cv split\n",
    "    X_train, X_test = X[train_index], X[test_index]\n",
    "    y_train, y_test = y[train_index], y[test_index]\n",
    "    n_pts_train, n_pts_test = n_pts[train_index], n_pts[test_index]\n",
    "\n",
    "    # create val split for this cv split from train\n",
    "    # 72/18/10 split\n",
    "    X_train_curr, X_val, y_train_curr, y_val = train_test_split(X_train, y_train, test_size=0.2, shuffle=False)\n",
    "    \n",
    "    best_parameters = fmin(fn=objective, space=parameters, algo=tpe.suggest, max_evals=100)\n",
    "    \n",
    "    # convert index to value\n",
    "    for key in best_parameters:\n",
    "        best_parameters[key] = orig_parameters[key][best_parameters[key]]\n",
    "        \n",
    "    \n",
    "    best_params.append(best_parameters)\n",
    "    \n",
    "    # get best estimator and get train and test predictions\n",
    "    \n",
    "    regr_best = XGBRegressor(\n",
    "        n_estimators=best_parameters['n_estimators'],\n",
    "        max_depth=best_parameters['max_depth'],\n",
    "        learning_rate=best_parameters['learning_rate'],\n",
    "        colsample_bytree=best_parameters['colsample_bytree'],\n",
    "        colsample_bylevel=best_parameters['colsample_bylevel'],\n",
    "        min_child_weight=best_parameters['min_child_weight'],\n",
    "        subsample=best_parameters['subsample'],\n",
    "        objective='reg:squarederror', \n",
    "    )\n",
    "    \n",
    "    regr_best.fit(X_train, y_train, eval_metric='rmse')\n",
    "    \n",
    "    best_estimators.append(regr_best)\n",
    "    \n",
    "    y_pred_train.append(regr_best.predict(X_train))\n",
    "    y_pred_test.append(regr_best.predict(X_test))\n",
    "    \n",
    "    X_train_k.append(X_train)\n",
    "    X_test_k.append(X_test)\n",
    "    \n",
    "    y_train_k.append(y_train)\n",
    "    y_test_k.append(y_test)\n",
    "    \n",
    "    n_pts_train_k.append(n_pts_train)\n",
    "    n_pts_test_k.append(n_pts_test)"
   ]
  },
  {
   "cell_type": "code",
   "execution_count": 28,
   "id": "9bad6352",
   "metadata": {},
   "outputs": [],
   "source": [
    "maes, rmses, r2s, mres = [], [], [], []\n",
    "for i, j in zip(y_test_k, y_pred_test):\n",
    "    maes.append(mean_absolute_error(i, j))\n",
    "    rmses.append(mean_squared_error(i, j, squared=False))\n",
    "    mres.append(np.mean((np.abs(j-i)/i)*100))\n",
    "    r2s.append(r2_score(i, j))"
   ]
  },
  {
   "cell_type": "code",
   "execution_count": 29,
   "id": "9efb47dd",
   "metadata": {},
   "outputs": [
    {
     "name": "stdout",
     "output_type": "stream",
     "text": [
      "68.94405239797236 1.8314052023858813\n",
      "113.04903604235673 3.4619862011126155\n",
      "0.7187854488790256 0.014566695582585299\n",
      "7.9242792718505415 0.30583760403270926\n"
     ]
    }
   ],
   "source": [
    "print(np.mean(maes), np.std(maes))\n",
    "print(np.mean(rmses), np.std(rmses))\n",
    "print(np.mean(r2s), np.std(r2s))\n",
    "print(np.mean(mres), np.std(mres))"
   ]
  },
  {
   "cell_type": "code",
   "execution_count": 89,
   "id": "b88d0a45",
   "metadata": {},
   "outputs": [
    {
     "data": {
      "image/png": "[encoded data removed]",
      "text/plain": [
       "<Figure size 432x288 with 2 Axes>"
      ]
     },
     "metadata": {
      "needs_background": "light"
     },
     "output_type": "display_data"
    }
   ],
   "source": [
    "# make a regression figure\n",
    "fig, ax = plt.subplots()\n",
    "to_plot_x = y_test_k[np.argmin(rmses)]\n",
    "to_plot_y = y_pred_test[np.argmin(rmses)]\n",
    "\n",
    "# Calculate the point density\n",
    "xy = np.vstack([to_plot_x,to_plot_y])\n",
    "z = gaussian_kde(xy)(xy)\n",
    "\n",
    "# Sort the points by density, so that the densest points are plotted last\n",
    "idx = z.argsort()\n",
    "to_plot_x, to_plot_y, z = to_plot_x[idx], to_plot_y[idx], z[idx]\n",
    "\n",
    "ax_ = ax.scatter(to_plot_x, to_plot_y, c=z, cmap=cm.jet, s=25)\n",
    "cbar = plt.colorbar(ax_)\n",
    "cbar.set_label(\"KDE Density\", labelpad=15, fontsize=14)\n",
    "\n",
    "plt.xlim(0, 2000)\n",
    "plt.ylim(0, 2000)\n",
    "plt.plot([0, 2000], [0, 2000], color='black', linestyle='dashed')\n",
    "ax.set_title(\"Sintering\", fontsize=16)\n",
    "ax.set_xlabel(\"True Temperature ($^{\\circ}$C)\", fontsize=14)\n",
    "ax.set_ylabel(\"Predicted Temperature ($^{\\circ}$C)\", fontsize=14)\n",
    "fig.tight_layout()\n",
    "plt.show()\n",
    "# fig.savefig(\"figures/xgb_sinter_parity.png\", dpi=150)"
   ]
  },
  {
   "cell_type": "markdown",
   "id": "dbe7f657",
   "metadata": {},
   "source": [
    "# Check error as function of num. points"
   ]
  },
  {
   "cell_type": "code",
   "execution_count": 85,
   "id": "d740561e",
   "metadata": {},
   "outputs": [],
   "source": [
    "all_maes = []\n",
    "all_rmses = []\n",
    "all_rmses_stdev = []\n",
    "all_r2_stdev = []\n",
    "all_r2 = []\n",
    "min_num_pts = [1, 2, 3, 4, 5]\n",
    "lens = []\n",
    "stdevs = []\n",
    "for i in min_num_pts:\n",
    "    curr = []\n",
    "    curr_true = []\n",
    "    all_fold_rmse = []\n",
    "    all_fold_r2 = []\n",
    "    for fold in range(len(n_pts_test_k)):\n",
    "        curr_fold = []\n",
    "        curr_fold_true = []\n",
    "        for ind in range(len(n_pts_test_k[fold])):\n",
    "            if n_pts_test_k[fold][ind] >= i:\n",
    "                curr.append(y_pred_test[fold][ind])\n",
    "                curr_true.append(y_test_k[fold][ind])\n",
    "                \n",
    "                curr_fold.append(y_pred_test[fold][ind])\n",
    "                curr_fold_true.append(y_test_k[fold][ind])\n",
    "        try:\n",
    "            all_fold_rmse.append(mean_squared_error(curr_fold_true, curr_fold, squared=False))\n",
    "            all_fold_r2.append(r2_score(curr_fold_true, curr_fold))\n",
    "        except:\n",
    "            all_fold_rmse.append(0)\n",
    "            all_fold_r2.append(0)\n",
    "\n",
    "    all_maes.append(mean_absolute_error(curr_true, curr))\n",
    "    all_rmses.append(mean_squared_error(curr_true, curr, squared=False))\n",
    "    all_r2.append(r2_score(curr_true, curr))\n",
    "    lens.append(len(curr))\n",
    "\n",
    "    all_rmses_stdev.append(np.std(all_fold_rmse))\n",
    "    all_r2_stdev.append(np.std(all_fold_r2))\n",
    "    "
   ]
  },
  {
   "cell_type": "code",
   "execution_count": 86,
   "id": "43306ee5",
   "metadata": {},
   "outputs": [],
   "source": [
    "cum_pts = np.cumsum(lens)/np.sum(lens)"
   ]
  },
  {
   "cell_type": "code",
   "execution_count": 87,
   "id": "1eb5b5ab",
   "metadata": {},
   "outputs": [],
   "source": [
    "all_rmses_stdev = np.array(all_rmses_stdev)\n",
    "all_rmses = np.array(all_rmses)\n",
    "all_r2 = np.array(all_r2)\n",
    "all_r2_stdev = np.array(all_r2_stdev)"
   ]
  },
  {
   "cell_type": "code",
   "execution_count": 88,
   "id": "b4feb6cb",
   "metadata": {},
   "outputs": [
    {
     "data": {
      "image/png": "[encoded data removed]",
      "text/plain": [
       "<Figure size 432x288 with 2 Axes>"
      ]
     },
     "metadata": {
      "needs_background": "light"
     },
     "output_type": "display_data"
    }
   ],
   "source": [
    "fig, ax = plt.subplots()\n",
    "ax2 = ax.twinx()\n",
    "ax.plot(min_num_pts, all_rmses, marker='o', label=\"RMSE\")\n",
    "ax.fill_between(min_num_pts, all_rmses-all_rmses_stdev, all_rmses+all_rmses_stdev, alpha=0.15)\n",
    "\n",
    "ax2.plot(min_num_pts, all_r2, marker='o', color='tab:orange', label=\"$R^2$\")\n",
    "ax2.fill_between(min_num_pts, all_r2-all_r2_stdev, all_r2+all_r2_stdev, color=\"tab:orange\", alpha=0.15)\n",
    "\n",
    "# ax.errorbar(min_num_pts, all_rmses, all_rmses_stdev)\n",
    "ax.set_xlabel(\"Minimum number of literature data points\", fontsize=14)\n",
    "ax.set_ylabel(\"RMSE ($^{\\circ}$C)\", fontsize=14)\n",
    "ax.tick_params(axis='x', labelsize=14)\n",
    "ax.tick_params(axis='y', labelsize=14)\n",
    "ax2.tick_params(axis='y', labelsize=14)\n",
    "ax2.set_ylabel(\"$R^2$\", fontsize=14)\n",
    "lgd=fig.legend(bbox_to_anchor =(1.23, 0.67), fontsize=14)\n",
    "ax.set_title(\"Sintering\", fontsize=16)\n",
    "# ax2.set_ylim([0.8, 1])\n",
    "fig.tight_layout()\n",
    "plt.show()\n",
    "# fig.savefig(\"figures/xgb_sinter_error_plot.png\", dpi=150,  bbox_extra_artists=(lgd,), bbox_inches='tight')"
   ]
  },
  {
   "cell_type": "markdown",
   "id": "520bf75c",
   "metadata": {},
   "source": [
    " # SHAP analysis "
   ]
  },
  {
   "cell_type": "code",
   "execution_count": 90,
   "id": "ed44194f",
   "metadata": {},
   "outputs": [
    {
     "ename": "NameError",
     "evalue": "name 'regr' is not defined",
     "output_type": "error",
     "traceback": [
      "\u001b[0;31m---------------------------------------------------------------------------\u001b[0m",
      "\u001b[0;31mNameError\u001b[0m                                 Traceback (most recent call last)",
      "\u001b[0;32m<ipython-input-90-26f551a3e759>\u001b[0m in \u001b[0;36m<module>\u001b[0;34m\u001b[0m\n\u001b[0;32m----> 1\u001b[0;31m \u001b[0mexplainer\u001b[0m \u001b[0;34m=\u001b[0m \u001b[0mshap\u001b[0m\u001b[0;34m.\u001b[0m\u001b[0mTreeExplainer\u001b[0m\u001b[0;34m(\u001b[0m\u001b[0mregr\u001b[0m\u001b[0;34m)\u001b[0m\u001b[0;34m\u001b[0m\u001b[0;34m\u001b[0m\u001b[0m\n\u001b[0m",
      "\u001b[0;31mNameError\u001b[0m: name 'regr' is not defined"
     ]
    }
   ],
   "source": [
    "explainer = shap.TreeExplainer(regr)"
   ]
  },
  {
   "cell_type": "code",
   "execution_count": null,
   "id": "f9a8967e",
   "metadata": {},
   "outputs": [],
   "source": []
  }
 ],
 "metadata": {
  "kernelspec": {
   "display_name": "chris",
   "language": "python",
   "name": "chris"
  },
  "language_info": {
   "codemirror_mode": {
    "name": "ipython",
    "version": 3
   },
   "file_extension": ".py",
   "mimetype": "text/x-python",
   "name": "python",
   "nbconvert_exporter": "python",
   "pygments_lexer": "ipython3",
   "version": "3.7.3"
  }
 },
 "nbformat": 4,
 "nbformat_minor": 5
}
