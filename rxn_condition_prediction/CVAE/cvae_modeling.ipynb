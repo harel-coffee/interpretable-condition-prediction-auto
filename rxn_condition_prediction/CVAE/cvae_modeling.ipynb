{
 "cells": [
  {
   "cell_type": "code",
   "execution_count": 2,
   "id": "24964bb4",
   "metadata": {},
   "outputs": [
    {
     "name": "stdout",
     "output_type": "stream",
     "text": [
      "The autoreload extension is already loaded. To reload it, use:\n",
      "  %reload_ext autoreload\n"
     ]
    }
   ],
   "source": [
    "%load_ext autoreload\n",
    "%autoreload 2\n",
    "\n",
    "import pickle\n",
    "import matplotlib.pyplot as plt\n",
    "import seaborn as sns\n",
    "import numpy as np\n",
    "import pandas as pd\n",
    "from cvae_featurization import *\n",
    "import time\n",
    "import pickle as pkl\n",
    "\n",
    "import sys, os\n",
    "os.environ[\"CUDA_VISIBLE_DEVICES\"]=\"3\"\n",
    "from hyperopt import fmin, tpe, hp, STATUS_OK"
   ]
  },
  {
   "cell_type": "code",
   "execution_count": 2,
   "id": "d914116c",
   "metadata": {},
   "outputs": [],
   "source": [
    "# imputation_strategies = [\"mp_fraction\", \"pca\", \"one_hot\"]\n",
    "# featurizations = [\"pca\", \"mp_fraction\"]\n",
    "\n",
    "# start = time.time()\n",
    "\n",
    "# for imputation_strategy in imputation_strategies:\n",
    "#     for featurization in featurizations:\n",
    "#         if os.path.exists(\"data/\" + imputation_strategy + \"_\" + featurization + \".json\"):\n",
    "#             continue\n",
    "        \n",
    "#         print(imputation_strategy, featurization)\n",
    "#         only_ss_rxns, ss_precursor_nomenclature = impute_data(imputation_strategy)\n",
    "        \n",
    "#         file_name = 'data/only_ss_rxns_' + imputation_strategy + '.pkl'\n",
    "#         if os.path.exists(file_name):\n",
    "#             del only_ss_rxns\n",
    "#             with open(file_name, 'rb') as f:\n",
    "#                 only_ss_rxns = pickle.load(f)\n",
    "#         else:\n",
    "#             with open(file_name, 'wb') as f:\n",
    "#                 pickle.dump(only_ss_rxns, f)\n",
    "#         df, prec_magpie_feats = featurize(featurization, only_ss_rxns, ss_precursor_nomenclature)\n",
    "        \n",
    "#         if featurization == \"mp_fraction\":\n",
    "#             prec_magpie_feats = prec_magpie_feats.values\n",
    "            \n",
    "#         objective = \"temp_time_vector\"\n",
    "#         omit_columns = ['targets', 'precursors', objective, 'composition_obj']\n",
    "#         X_columns = [x for x in df.columns if x not in omit_columns]\n",
    "#         y_column = objective\n",
    "#         X_df = df[X_columns]\n",
    "#         X_columns = list(X_df.columns)\n",
    "#         X = X_df.values\n",
    "#         y = df[y_column].values\n",
    "\n",
    "#         X, y, prec_magpie_feats, full_df = shuffle(X, y, prec_magpie_feats, df, random_state=42)\n",
    "\n",
    "#         y = np.vstack(y)\n",
    "#         print(\"Shape of X: {}\".format(X.shape))\n",
    "#         print(\"Shape of y: {}\".format(y.shape))\n",
    "        \n",
    "#         best_params, y_pred_train, y_pred_test, X_train_k, X_test_k, y_train_k, y_test_k, n_pts_train_k, n_pts_test_k, histories = train(X, y, prec_magpie_feats, full_df)\n",
    "        \n",
    "#         evaluate(imputation_strategy, featurization, y_pred_test, y_test_k)\n",
    "        \n",
    "#         print((time.time() - start) / 60)\n",
    "#         print('--------------')\n",
    "        "
   ]
  },
  {
   "cell_type": "code",
   "execution_count": null,
   "id": "4dda6f2f",
   "metadata": {
    "scrolled": true
   },
   "outputs": [
    {
     "name": "stdout",
     "output_type": "stream",
     "text": [
      "one_hot mp_fraction\n",
      "Returning extracted data of 51574/31782 reactions.\n"
     ]
    },
    {
     "name": "stderr",
     "output_type": "stream",
     "text": [
      "100%|██████████| 51574/51574 [00:05<00:00, 10041.98it/s]\n"
     ]
    },
    {
     "data": {
      "application/vnd.jupyter.widget-view+json": {
       "model_id": "7939379b379143608da0e97c117a46c6",
       "version_major": 2,
       "version_minor": 0
      },
      "text/plain": [
       "HBox(children=(HTML(value='StrToComposition'), FloatProgress(value=0.0, max=31042.0), HTML(value='')))"
      ]
     },
     "metadata": {},
     "output_type": "display_data"
    },
    {
     "name": "stdout",
     "output_type": "stream",
     "text": [
      "\n"
     ]
    },
    {
     "data": {
      "application/vnd.jupyter.widget-view+json": {
       "model_id": "3fd29155346b41c384442e1a1e8ba7d4",
       "version_major": 2,
       "version_minor": 0
      },
      "text/plain": [
       "HBox(children=(HTML(value='MultipleFeaturizer'), FloatProgress(value=0.0, max=31042.0), HTML(value='')))"
      ]
     },
     "metadata": {},
     "output_type": "display_data"
    },
    {
     "name": "stdout",
     "output_type": "stream",
     "text": [
      "\n",
      "Shape of X: (31042, 103)\n",
      "Shape of y: (31042, 8)\n",
      "  0%|          | 0/20 [00:00<?, ?trial/s, best loss=?]WARNING:tensorflow:From /home/synthesisproject/anaconda3/envs/syn_gen/lib/python3.7/site-packages/keras/backend/tensorflow_backend.py:517: The name tf.placeholder is deprecated. Please use tf.compat.v1.placeholder instead.\n",
      "\n",
      "WARNING:tensorflow:From /home/synthesisproject/anaconda3/envs/syn_gen/lib/python3.7/site-packages/keras/backend/tensorflow_backend.py:4138: The name tf.random_uniform is deprecated. Please use tf.random.uniform instead.\n",
      "\n",
      "WARNING:tensorflow:From /home/synthesisproject/anaconda3/envs/syn_gen/lib/python3.7/site-packages/keras/backend/tensorflow_backend.py:74: The name tf.get_default_graph is deprecated. Please use tf.compat.v1.get_default_graph instead.\n",
      "\n",
      "WARNING:tensorflow:From /home/synthesisproject/anaconda3/envs/syn_gen/lib/python3.7/site-packages/keras/backend/tensorflow_backend.py:4115: The name tf.random_normal is deprecated. Please use tf.random.normal instead.\n",
      "\n",
      "WARNING:tensorflow:From /home/synthesisproject/anaconda3/envs/syn_gen/lib/python3.7/site-packages/keras/optimizers.py:790: The name tf.train.Optimizer is deprecated. Please use tf.compat.v1.train.Optimizer instead.\n",
      "\n",
      "WARNING:tensorflow:From /home/synthesisproject/anaconda3/envs/syn_gen/lib/python3.7/site-packages/tensorflow_core/python/ops/math_grad.py:1424: where (from tensorflow.python.ops.array_ops) is deprecated and will be removed in a future version.\n",
      "Instructions for updating:\n",
      "Use tf.where in 2.0, which has the same broadcast rule as np.where\n",
      "WARNING:tensorflow:From /home/synthesisproject/anaconda3/envs/syn_gen/lib/python3.7/site-packages/keras/backend/tensorflow_backend.py:986: The name tf.assign_add is deprecated. Please use tf.compat.v1.assign_add instead.\n",
      "\n",
      "WARNING:tensorflow:From /home/synthesisproject/anaconda3/envs/syn_gen/lib/python3.7/site-packages/keras/backend/tensorflow_backend.py:973: The name tf.assign is deprecated. Please use tf.compat.v1.assign instead.\n",
      "\n",
      "WARNING:tensorflow:From /home/synthesisproject/anaconda3/envs/syn_gen/lib/python3.7/site-packages/keras/backend/tensorflow_backend.py:2741: The name tf.Session is deprecated. Please use tf.compat.v1.Session instead.\n",
      "\n",
      "Train on 22349 samples, validate on 5588 samples      \n",
      "Epoch 1/500                                           \n",
      "  0%|          | 0/20 [00:01<?, ?trial/s, best loss=?]WARNING:tensorflow:From /home/synthesisproject/anaconda3/envs/syn_gen/lib/python3.7/site-packages/keras/backend/tensorflow_backend.py:174: The name tf.get_default_session is deprecated. Please use tf.compat.v1.get_default_session instead.\n",
      "\n",
      "WARNING:tensorflow:From /home/synthesisproject/anaconda3/envs/syn_gen/lib/python3.7/site-packages/keras/backend/tensorflow_backend.py:181: The name tf.ConfigProto is deprecated. Please use tf.compat.v1.ConfigProto instead.\n",
      "\n",
      "WARNING:tensorflow:From /home/synthesisproject/anaconda3/envs/syn_gen/lib/python3.7/site-packages/keras/backend/tensorflow_backend.py:190: The name tf.global_variables is deprecated. Please use tf.compat.v1.global_variables instead.\n",
      "\n",
      "WARNING:tensorflow:From /home/synthesisproject/anaconda3/envs/syn_gen/lib/python3.7/site-packages/keras/backend/tensorflow_backend.py:199: The name tf.is_variable_initialized is deprecated. Please use tf.compat.v1.is_variable_initialized instead.\n",
      "\n",
      "WARNING:tensorflow:From /home/synthesisproject/anaconda3/envs/syn_gen/lib/python3.7/site-packages/keras/backend/tensorflow_backend.py:206: The name tf.variables_initializer is deprecated. Please use tf.compat.v1.variables_initializer instead.\n",
      "\n",
      " - 4s - loss: 6.4061 - mean_squared_error: 0.7702 - val_loss: 5.4620 - val_mean_squared_error: 0.6348\n",
      "\n",
      "Epoch 2/500                                           \n",
      " - 2s - loss: 5.3532 - mean_squared_error: 0.6180 - val_loss: 5.1829 - val_mean_squared_error: 0.5860\n",
      "\n",
      "Epoch 3/500                                           \n",
      " - 2s - loss: 4.9810 - mean_squared_error: 0.5647 - val_loss: 4.8549 - val_mean_squared_error: 0.5411\n",
      "\n",
      "Epoch 4/500                                           \n",
      " - 2s - loss: 4.6952 - mean_squared_error: 0.5189 - val_loss: 4.6461 - val_mean_squared_error: 0.5149\n",
      "\n",
      "Epoch 5/500                                           \n",
      " - 2s - loss: 4.6912 - mean_squared_error: 0.5095 - val_loss: 4.5389 - val_mean_squared_error: 0.4888\n",
      "\n",
      "Epoch 6/500                                           \n",
      " - 2s - loss: 4.4467 - mean_squared_error: 0.4820 - val_loss: 4.4106 - val_mean_squared_error: 0.4749\n",
      "\n",
      "Epoch 7/500                                           \n",
      " - 2s - loss: 4.3887 - mean_squared_error: 0.4687 - val_loss: 4.4500 - val_mean_squared_error: 0.4811\n",
      "\n",
      "Epoch 8/500                                           \n",
      " - 2s - loss: 4.2678 - mean_squared_error: 0.4541 - val_loss: 4.2173 - val_mean_squared_error: 0.4465\n",
      "\n",
      "Epoch 9/500                                           \n",
      " - 2s - loss: 4.1797 - mean_squared_error: 0.4432 - val_loss: 4.2685 - val_mean_squared_error: 0.4433\n",
      "\n",
      "Epoch 10/500                                          \n",
      " - 2s - loss: 4.1569 - mean_squared_error: 0.4359 - val_loss: 4.3568 - val_mean_squared_error: 0.4603\n",
      "\n",
      "Epoch 11/500                                          \n",
      " - 2s - loss: 4.0661 - mean_squared_error: 0.4258 - val_loss: 4.0624 - val_mean_squared_error: 0.4306\n",
      "\n",
      "Epoch 12/500                                          \n",
      " - 2s - loss: 4.0145 - mean_squared_error: 0.4195 - val_loss: 3.9481 - val_mean_squared_error: 0.4104\n",
      "\n",
      "Epoch 13/500                                          \n",
      " - 2s - loss: 4.0005 - mean_squared_error: 0.4122 - val_loss: 4.0095 - val_mean_squared_error: 0.4127\n",
      "\n",
      "Epoch 14/500                                          \n",
      " - 2s - loss: 3.8750 - mean_squared_error: 0.3964 - val_loss: 4.0006 - val_mean_squared_error: 0.4103\n",
      "\n",
      "Epoch 15/500                                          \n",
      " - 2s - loss: 3.9029 - mean_squared_error: 0.3912 - val_loss: 4.2564 - val_mean_squared_error: 0.4398\n",
      "\n",
      "Epoch 16/500                                          \n",
      " - 2s - loss: 3.8050 - mean_squared_error: 0.3817 - val_loss: 4.0103 - val_mean_squared_error: 0.4126\n",
      "\n",
      "Epoch 17/500                                          \n",
      " - 2s - loss: 3.7589 - mean_squared_error: 0.3708 - val_loss: 3.8293 - val_mean_squared_error: 0.3902\n",
      "\n",
      "Epoch 18/500                                          \n",
      " - 2s - loss: 3.6564 - mean_squared_error: 0.3586 - val_loss: 3.7908 - val_mean_squared_error: 0.3634\n",
      "\n",
      "Epoch 19/500                                          \n",
      " - 2s - loss: 3.6484 - mean_squared_error: 0.3507 - val_loss: 3.8375 - val_mean_squared_error: 0.3654\n",
      "\n",
      "Epoch 20/500                                          \n",
      " - 2s - loss: 3.5861 - mean_squared_error: 0.3380 - val_loss: 3.7279 - val_mean_squared_error: 0.3510\n",
      "\n",
      "Epoch 21/500                                          \n",
      " - 2s - loss: 3.5999 - mean_squared_error: 0.3398 - val_loss: 3.8266 - val_mean_squared_error: 0.3734\n",
      "\n",
      "Epoch 22/500                                          \n",
      " - 2s - loss: 3.5436 - mean_squared_error: 0.3329 - val_loss: 3.8725 - val_mean_squared_error: 0.3743\n",
      "\n",
      "Epoch 23/500                                          \n",
      " - 2s - loss: 3.4830 - mean_squared_error: 0.3266 - val_loss: 3.6629 - val_mean_squared_error: 0.3409\n",
      "\n",
      "Epoch 24/500                                          \n",
      " - 2s - loss: 3.5653 - mean_squared_error: 0.3305 - val_loss: 3.7320 - val_mean_squared_error: 0.3433\n",
      "\n",
      "Epoch 25/500                                          \n",
      " - 2s - loss: 3.4451 - mean_squared_error: 0.3162 - val_loss: 3.6361 - val_mean_squared_error: 0.3455\n",
      "\n",
      "Epoch 26/500                                          \n",
      " - 2s - loss: 3.4109 - mean_squared_error: 0.3162 - val_loss: 3.6761 - val_mean_squared_error: 0.3410\n",
      "\n",
      "Epoch 27/500                                          \n",
      " - 2s - loss: 3.4218 - mean_squared_error: 0.3139 - val_loss: 3.7474 - val_mean_squared_error: 0.3559\n",
      "\n",
      "Epoch 28/500                                          \n",
      " - 2s - loss: 3.3912 - mean_squared_error: 0.3103 - val_loss: 3.5437 - val_mean_squared_error: 0.3290\n",
      "\n",
      "Epoch 29/500                                          \n",
      " - 2s - loss: 3.3983 - mean_squared_error: 0.3080 - val_loss: 3.5849 - val_mean_squared_error: 0.3289\n",
      "\n",
      "Epoch 30/500                                          \n",
      " - 2s - loss: 3.3553 - mean_squared_error: 0.3052 - val_loss: 3.6059 - val_mean_squared_error: 0.3328\n",
      "\n",
      "Epoch 31/500                                          \n",
      " - 2s - loss: 3.3348 - mean_squared_error: 0.3029 - val_loss: 3.8312 - val_mean_squared_error: 0.3507\n",
      "\n",
      "Epoch 32/500                                          \n",
      " - 2s - loss: 3.2284 - mean_squared_error: 0.2940 - val_loss: 3.5488 - val_mean_squared_error: 0.3291\n",
      "\n",
      "Epoch 33/500                                          \n",
      " - 2s - loss: 3.2421 - mean_squared_error: 0.2958 - val_loss: 3.6901 - val_mean_squared_error: 0.3519\n",
      "\n",
      "Epoch 34/500                                          \n",
      " - 2s - loss: 3.2885 - mean_squared_error: 0.2968 - val_loss: 3.6438 - val_mean_squared_error: 0.3373\n",
      "\n",
      "Epoch 35/500                                          \n",
      " - 2s - loss: 3.2792 - mean_squared_error: 0.2925 - val_loss: 3.5547 - val_mean_squared_error: 0.3262\n",
      "\n",
      "Epoch 36/500                                          \n",
      " - 2s - loss: 3.1693 - mean_squared_error: 0.2846 - val_loss: 3.6117 - val_mean_squared_error: 0.3387\n",
      "\n",
      "Epoch 37/500                                          \n",
      " - 2s - loss: 3.1937 - mean_squared_error: 0.2858 - val_loss: 3.5183 - val_mean_squared_error: 0.3371\n",
      "\n",
      "Epoch 38/500                                          \n",
      " - 2s - loss: 3.2309 - mean_squared_error: 0.2894 - val_loss: 3.7769 - val_mean_squared_error: 0.3570\n",
      "\n",
      "Epoch 39/500                                          \n",
      " - 2s - loss: 3.2172 - mean_squared_error: 0.2870 - val_loss: 3.7211 - val_mean_squared_error: 0.3463\n",
      "\n",
      "Epoch 40/500                                          \n",
      " - 2s - loss: 3.2478 - mean_squared_error: 0.2861 - val_loss: 3.5797 - val_mean_squared_error: 0.3291\n",
      "\n",
      "Epoch 41/500                                          \n",
      " - 2s - loss: 3.1821 - mean_squared_error: 0.2832 - val_loss: 3.5289 - val_mean_squared_error: 0.3246\n",
      "\n",
      "Epoch 42/500                                          \n",
      " - 2s - loss: 3.1341 - mean_squared_error: 0.2783 - val_loss: 3.5222 - val_mean_squared_error: 0.3290\n",
      "\n",
      "Epoch 43/500                                          \n",
      " - 2s - loss: 3.1902 - mean_squared_error: 0.2824 - val_loss: 3.5594 - val_mean_squared_error: 0.3246\n",
      "\n",
      "Epoch 44/500                                          \n",
      " - 2s - loss: 3.1302 - mean_squared_error: 0.2770 - val_loss: 3.5308 - val_mean_squared_error: 0.3187\n",
      "\n",
      "Epoch 45/500                                          \n",
      " - 2s - loss: 3.1757 - mean_squared_error: 0.2779 - val_loss: 3.6339 - val_mean_squared_error: 0.3445\n",
      "\n",
      "Epoch 46/500                                          \n",
      " - 2s - loss: 3.1840 - mean_squared_error: 0.2810 - val_loss: 3.5741 - val_mean_squared_error: 0.3235\n",
      "\n",
      "Epoch 47/500                                          \n",
      "  0%|          | 0/20 [01:48<?, ?trial/s, best loss=?]"
     ]
    }
   ],
   "source": [
    "imputation_strategy = \"one_hot\"\n",
    "featurization = \"mp_fraction\"\n",
    "\n",
    "start = time.time()\n",
    "\n",
    "print(imputation_strategy, featurization)\n",
    "_, ss_precursor_nomenclature = impute_data(imputation_strategy)\n",
    "\n",
    "file_name = 'data/only_ss_rxns_' + imputation_strategy + '.pkl'\n",
    "\n",
    "with open(file_name, 'rb') as f:\n",
    "    only_ss_rxns = pickle.load(f)\n",
    "\n",
    "df, prec_magpie_feats = featurize(featurization, only_ss_rxns, ss_precursor_nomenclature)\n",
    "\n",
    "if featurization == \"mp_fraction\":\n",
    "    prec_magpie_feats = prec_magpie_feats.values\n",
    "\n",
    "objective = \"temp_time_vector\"\n",
    "omit_columns = ['targets', 'precursors', objective, 'composition_obj']\n",
    "X_columns = [x for x in df.columns if x not in omit_columns]\n",
    "y_column = objective\n",
    "X_df = df[X_columns]\n",
    "X_columns = list(X_df.columns)\n",
    "X = X_df.values\n",
    "y = df[y_column].values\n",
    "\n",
    "X, y, prec_magpie_feats, full_df = shuffle(X, y, prec_magpie_feats, df, random_state=42)\n",
    "\n",
    "y = np.vstack(y)\n",
    "print(\"Shape of X: {}\".format(X.shape))\n",
    "print(\"Shape of y: {}\".format(y.shape))\n",
    "\n",
    "best_params, y_pred_train, y_pred_test, X_train_k, X_test_k, y_train_k, y_test_k, n_pts_train_k, n_pts_test_k, histories, X_train_df, X_test_df = train(X, y, prec_magpie_feats, full_df)\n",
    "\n",
    "results = evaluate(imputation_strategy, featurization, y_pred_test, y_test_k)\n",
    "\n",
    "print((time.time() - start) / 60)\n",
    "print('--------------')\n"
   ]
  },
  {
   "cell_type": "code",
   "execution_count": 24,
   "id": "b1032dbb",
   "metadata": {},
   "outputs": [
    {
     "data": {
      "image/png": "[encoded data removed]",
      "text/plain": [
       "<Figure size 432x288 with 1 Axes>"
      ]
     },
     "metadata": {
      "needs_background": "light"
     },
     "output_type": "display_data"
    }
   ],
   "source": [
    "fold = 0\n",
    "operation = 1\n",
    "temp = np.vstack([np.mean(x['temp_time_vector'], axis=0) for x in y_test_k[fold]])\n",
    "true_scatter = []\n",
    "for i in range(100):\n",
    "    mean = np.mean(y_pred_test[fold][i, :, operation])\n",
    "    sns.kdeplot(y_pred_test[fold][i, :, operation] - mean, color = (0.1, 0.3, 0.5, 0.15))\n",
    "    # sns.kdeplot(y_pred_test[fold][i, :, operation])\n",
    "    true_scatter.append(temp[i][operation] - mean)\n",
    "for i in range(100):\n",
    "     plt.axvline(x=true_scatter[i], color='black', linewidth=2, alpha=0.1)"
   ]
  },
  {
   "cell_type": "code",
   "execution_count": 29,
   "id": "ef5c79ed",
   "metadata": {},
   "outputs": [],
   "source": [
    "# all_results = [best_params, y_pred_train, y_pred_test, X_train_k, X_test_k, y_train_k, y_test_k, n_pts_train_k, n_pts_test_k, histories, X_train_df, X_test_df]\n",
    "# with open('data/trained_model_results.pkl', 'wb') as f:\n",
    "#     pkl.dump(all_results, f)\n",
    "# with open('data/trained_model_metrics.pkl', 'wb') as f:\n",
    "#     pkl.dump(results, f)"
   ]
  },
  {
   "cell_type": "code",
   "execution_count": 6,
   "id": "4b28e267",
   "metadata": {},
   "outputs": [],
   "source": [
    "with open('data/only_ss_rxns_one_hot.pkl', 'rb') as f:\n",
    "    poo = pkl.load(f)"
   ]
  },
  {
   "cell_type": "code",
   "execution_count": 21,
   "id": "552a2bd0",
   "metadata": {},
   "outputs": [
    {
     "name": "stdout",
     "output_type": "stream",
     "text": [
      "1\n",
      "3\n",
      "5\n",
      "7\n",
      "9\n",
      "11\n",
      "13\n",
      "15\n",
      "17\n",
      "19\n"
     ]
    }
   ],
   "source": [
    "for i, fold in enumerate(y_test_k):\n",
    "    for x in fold:\n",
    "        try:\n",
    "            np.mean(x['temp_time_vector'], axis=0)\n",
    "        except Exception as e:\n",
    "            print(i)\n",
    "            break"
   ]
  },
  {
   "cell_type": "code",
   "execution_count": 28,
   "id": "c2f1e37e",
   "metadata": {},
   "outputs": [],
   "source": [
    "y_test_k_good = []\n",
    "for i in range(len(y_test_k)):\n",
    "    if i % 2 == 0:\n",
    "        y_test_k_good.append(y_test_k[i])"
   ]
  },
  {
   "cell_type": "code",
   "execution_count": 32,
   "id": "9ecb2c06",
   "metadata": {},
   "outputs": [],
   "source": [
    "results = evaluate(imputation_strategy, featurization, y_pred_test, y_test_k_good)"
   ]
  },
  {
   "cell_type": "code",
   "execution_count": null,
   "id": "40030f71",
   "metadata": {},
   "outputs": [],
   "source": []
  }
 ],
 "metadata": {
  "kernelspec": {
   "display_name": "syn_gen",
   "language": "python",
   "name": "syn_gen"
  },
  "language_info": {
   "codemirror_mode": {
    "name": "ipython",
    "version": 3
   },
   "file_extension": ".py",
   "mimetype": "text/x-python",
   "name": "python",
   "nbconvert_exporter": "python",
   "pygments_lexer": "ipython3",
   "version": "3.7.3"
  }
 },
 "nbformat": 4,
 "nbformat_minor": 5
}
